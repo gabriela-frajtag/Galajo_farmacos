{
 "cells": [
  {
   "cell_type": "markdown",
   "id": "7a3c4bb4-dcff-4b74-95bd-c7bcaf5a5f5c",
   "metadata": {},
   "source": [
    "# SOLução Fármacos\n",
    "## Projeto Final - Redes Neurais 2024\n",
    "\n",
    "<img alt='Logo Projeto' src='logo_projeto_final.jpg' width=\"300\">\n"
   ]
  },
  {
   "cell_type": "markdown",
   "id": "b8e0d86d-d58a-49c3-a4ab-d705956a743a",
   "metadata": {},
   "source": [
    "## Instituição:\n",
    "- Centro Nacional de Pesquisa em Energia e Materiais\n",
    "- Ilum - Escola de Ciência"
   ]
  },
  {
   "cell_type": "markdown",
   "id": "065e30ec-22f6-4b65-a07e-b009c709027f",
   "metadata": {
    "tags": []
   },
   "source": [
    "## Alunos:\n",
    "- Gabriela Fajtag\n",
    "- Lais Ruela\n",
    "- João Pedro Mariano"
   ]
  },
  {
   "cell_type": "markdown",
   "id": "647e3603-1daf-4e0f-ba0d-8619a4d92a4b",
   "metadata": {
    "tags": []
   },
   "source": [
    "## Professor:\n",
    "- Daniel Cassar"
   ]
  },
  {
   "cell_type": "markdown",
   "id": "be615d21-232a-44b2-ab4e-5fc38a8822e4",
   "metadata": {
    "tags": []
   },
   "source": [
    "## Introdução"
   ]
  },
  {
   "cell_type": "markdown",
   "id": "5d629926-eb09-4103-94a1-48645aaa98eb",
   "metadata": {},
   "source": [
    "Nosso dataset é um conjunto de 1128 exemplos contendo informações estruturais e de solubilidade de moléculas. Esse dataset vem da biblioteca `DeepChem` onde há o um conjunto de dados do `MoleculeNet`, uma ferramenta bastante importante no estudo de Aprendizado de Máquina nas Ciências Naturais e Saúde.[<sup>[1]</sup>](https://deepchem.readthedocs.io/en/latest/api_reference/moleculenet.html)[<sup>[2]</sup>](https://arxiv.org/abs/1703.00564).\n",
    "\n",
    "Este trabalho utiliza um dataset chamado `Delaney`, com mesmo sobrenome do autor de um artigo que descreve um método simples para estimar a solubilidade aquosa. Este modelo é o ESOL e calcula a solubilidade de um composto diretamente a partir de sua estrutura. O modelo foi derivado de um conjunto de 2.874 solubilidades medidas em laboratório e o método utilizado foram regressões lineares com nove propriedades moleculares. O parâmetro mais significativo foi o logP calculado, seguido pelo peso molecular, proporção de átomos pesados em sistemas aromáticos e número de ligações rotacionáveis.[<sup>[3]</sup>](https://pubs.acs.org/doi/10.1021/ci034243x) Nesse notebook, criaremos um modelo para prever solubilidade molecular, ou seja, **logS**.\n",
    " \n",
    "O logP calculado ou cLogP é um termo utilizado para quando calculamos o LogP a partir de alguns parâmetros dados compostos, geralmente utilizando métodos computacionais. Por sua vez, LogP é uma medida logarítimica da partição de concentração de um composto em Octanol (solvente apolar) ou Água (solvente polar). O ESOL é um método que gera o logS,  que utiliza cLogP como parâmetro mais significativo. O modelo apresentou desempenho consistentemente bom em três conjuntos de validação e foi competitivo com a bem estabelecida \"Equação de Solubilidade Geral\" para moléculas de tamanho medicinais/agroquímicos. [<sup>[3]</sup>](https://pubs.acs.org/doi/10.1021/ci034243x)\n",
    " \n",
    "Porém, no nosso modelo, não utilizaremos do cLogP. Queremos obsevar como a previsão se comporta excluindo o que seria o parâmetro mais importante estudado por John Delaney. Utilizando apenas os parâmetros moleculares e uma Rede Neural do tipo MLP para calcular o nosso próprio `LogS` e comparar os valores reais medidos em laboratório com os valores previstos para saber se é um bom modelo.\n"
   ]
  },
  {
   "cell_type": "markdown",
   "id": "efb6c979-34dd-41fb-a59c-0b1cf82d0111",
   "metadata": {},
   "source": [
    "## Rede Neural MultiLayer Perceptron"
   ]
  },
  {
   "cell_type": "markdown",
   "id": "ceac92e7-3e96-49f5-992d-161910150d28",
   "metadata": {
    "tags": []
   },
   "source": [
    "### Importações"
   ]
  },
  {
   "cell_type": "code",
   "execution_count": 3,
   "id": "02fc5907-2633-4c70-bf52-b8e1150bc1b6",
   "metadata": {},
   "outputs": [],
   "source": [
    "#Importações necessárias para este Notebook\n",
    "\n",
    "from rdkit import Chem\n",
    "from rdkit.Chem import Descriptors\n",
    "import lightning as L\n",
    "import matplotlib.pyplot as plt\n",
    "import pandas as pd\n",
    "import torch\n",
    "import torch.nn as nn\n",
    "import torch.optim as optim\n",
    "from sklearn.metrics import mean_squared_error, r2_score\n",
    "from sklearn.model_selection import train_test_split\n",
    "from sklearn.preprocessing import MaxAbsScaler\n",
    "from torch.nn import functional as F\n",
    "from torch.utils.data import DataLoader, TensorDataset\n",
    "from lightning.pytorch.callbacks.early_stopping import EarlyStopping\n",
    "import optuna"
   ]
  },
  {
   "cell_type": "markdown",
   "id": "671dd96f-2282-42d3-946b-32658ff38243",
   "metadata": {
    "tags": []
   },
   "source": [
    "### Dataset"
   ]
  },
  {
   "cell_type": "markdown",
   "id": "23775dbd-c6a4-4655-b05c-64c03a93d787",
   "metadata": {},
   "source": [
    "Importamos o nosso dataset `delaney` do link do github com a biblioteca `pandas`. Podemos perceber que é um bom dataset para o nosso objetivo de prever solubilidade, pois, há informações químicas que dizem respeito do quanto a molécula interage com o meio polar ou apolar. Por exemplo, esperamos que com o maior número de `Number of H-Bond Donors` tenhamos maior tendência à solubilidade em Água, por conta da interação de ligações de Hidrogênio, e com maior `Number of Rings`, tenhamos maior tendência à solubilidade em Octanol, por conta da interação de Van der Walls. Além disso, este dataset contem o valor previsto por Delaney com o método ESOL e o valor real de partição logP medido em mol/L."
   ]
  },
  {
   "cell_type": "code",
   "execution_count": 4,
   "id": "46c39180-ab76-477d-a625-84c7ac369fae",
   "metadata": {},
   "outputs": [
    {
     "data": {
      "text/html": [
       "<div>\n",
       "<style scoped>\n",
       "    .dataframe tbody tr th:only-of-type {\n",
       "        vertical-align: middle;\n",
       "    }\n",
       "\n",
       "    .dataframe tbody tr th {\n",
       "        vertical-align: top;\n",
       "    }\n",
       "\n",
       "    .dataframe thead th {\n",
       "        text-align: right;\n",
       "    }\n",
       "</style>\n",
       "<table border=\"1\" class=\"dataframe\">\n",
       "  <thead>\n",
       "    <tr style=\"text-align: right;\">\n",
       "      <th></th>\n",
       "      <th>Compound ID</th>\n",
       "      <th>ESOL predicted log solubility in mols per litre</th>\n",
       "      <th>Minimum Degree</th>\n",
       "      <th>Molecular Weight</th>\n",
       "      <th>Number of H-Bond Donors</th>\n",
       "      <th>Number of Rings</th>\n",
       "      <th>Number of Rotatable Bonds</th>\n",
       "      <th>Polar Surface Area</th>\n",
       "      <th>measured log solubility in mols per litre</th>\n",
       "      <th>smiles</th>\n",
       "    </tr>\n",
       "  </thead>\n",
       "  <tbody>\n",
       "    <tr>\n",
       "      <th>0</th>\n",
       "      <td>Amigdalin</td>\n",
       "      <td>-0.974</td>\n",
       "      <td>1</td>\n",
       "      <td>457.432</td>\n",
       "      <td>7</td>\n",
       "      <td>3</td>\n",
       "      <td>7</td>\n",
       "      <td>202.32</td>\n",
       "      <td>-0.770</td>\n",
       "      <td>OCC3OC(OCC2OC(OC(C#N)c1ccccc1)C(O)C(O)C2O)C(O)...</td>\n",
       "    </tr>\n",
       "    <tr>\n",
       "      <th>1</th>\n",
       "      <td>Fenfuram</td>\n",
       "      <td>-2.885</td>\n",
       "      <td>1</td>\n",
       "      <td>201.225</td>\n",
       "      <td>1</td>\n",
       "      <td>2</td>\n",
       "      <td>2</td>\n",
       "      <td>42.24</td>\n",
       "      <td>-3.300</td>\n",
       "      <td>Cc1occc1C(=O)Nc2ccccc2</td>\n",
       "    </tr>\n",
       "    <tr>\n",
       "      <th>2</th>\n",
       "      <td>citral</td>\n",
       "      <td>-2.579</td>\n",
       "      <td>1</td>\n",
       "      <td>152.237</td>\n",
       "      <td>0</td>\n",
       "      <td>0</td>\n",
       "      <td>4</td>\n",
       "      <td>17.07</td>\n",
       "      <td>-2.060</td>\n",
       "      <td>CC(C)=CCCC(C)=CC(=O)</td>\n",
       "    </tr>\n",
       "    <tr>\n",
       "      <th>3</th>\n",
       "      <td>Picene</td>\n",
       "      <td>-6.618</td>\n",
       "      <td>2</td>\n",
       "      <td>278.354</td>\n",
       "      <td>0</td>\n",
       "      <td>5</td>\n",
       "      <td>0</td>\n",
       "      <td>0.00</td>\n",
       "      <td>-7.870</td>\n",
       "      <td>c1ccc2c(c1)ccc3c2ccc4c5ccccc5ccc43</td>\n",
       "    </tr>\n",
       "    <tr>\n",
       "      <th>4</th>\n",
       "      <td>Thiophene</td>\n",
       "      <td>-2.232</td>\n",
       "      <td>2</td>\n",
       "      <td>84.143</td>\n",
       "      <td>0</td>\n",
       "      <td>1</td>\n",
       "      <td>0</td>\n",
       "      <td>0.00</td>\n",
       "      <td>-1.330</td>\n",
       "      <td>c1ccsc1</td>\n",
       "    </tr>\n",
       "    <tr>\n",
       "      <th>...</th>\n",
       "      <td>...</td>\n",
       "      <td>...</td>\n",
       "      <td>...</td>\n",
       "      <td>...</td>\n",
       "      <td>...</td>\n",
       "      <td>...</td>\n",
       "      <td>...</td>\n",
       "      <td>...</td>\n",
       "      <td>...</td>\n",
       "      <td>...</td>\n",
       "    </tr>\n",
       "    <tr>\n",
       "      <th>1123</th>\n",
       "      <td>halothane</td>\n",
       "      <td>-2.608</td>\n",
       "      <td>1</td>\n",
       "      <td>197.381</td>\n",
       "      <td>0</td>\n",
       "      <td>0</td>\n",
       "      <td>0</td>\n",
       "      <td>0.00</td>\n",
       "      <td>-1.710</td>\n",
       "      <td>FC(F)(F)C(Cl)Br</td>\n",
       "    </tr>\n",
       "    <tr>\n",
       "      <th>1124</th>\n",
       "      <td>Oxamyl</td>\n",
       "      <td>-0.908</td>\n",
       "      <td>1</td>\n",
       "      <td>219.266</td>\n",
       "      <td>1</td>\n",
       "      <td>0</td>\n",
       "      <td>1</td>\n",
       "      <td>71.00</td>\n",
       "      <td>0.106</td>\n",
       "      <td>CNC(=O)ON=C(SC)C(=O)N(C)C</td>\n",
       "    </tr>\n",
       "    <tr>\n",
       "      <th>1125</th>\n",
       "      <td>Thiometon</td>\n",
       "      <td>-3.323</td>\n",
       "      <td>1</td>\n",
       "      <td>246.359</td>\n",
       "      <td>0</td>\n",
       "      <td>0</td>\n",
       "      <td>7</td>\n",
       "      <td>18.46</td>\n",
       "      <td>-3.091</td>\n",
       "      <td>CCSCCSP(=S)(OC)OC</td>\n",
       "    </tr>\n",
       "    <tr>\n",
       "      <th>1126</th>\n",
       "      <td>2-Methylbutane</td>\n",
       "      <td>-2.245</td>\n",
       "      <td>1</td>\n",
       "      <td>72.151</td>\n",
       "      <td>0</td>\n",
       "      <td>0</td>\n",
       "      <td>1</td>\n",
       "      <td>0.00</td>\n",
       "      <td>-3.180</td>\n",
       "      <td>CCC(C)C</td>\n",
       "    </tr>\n",
       "    <tr>\n",
       "      <th>1127</th>\n",
       "      <td>Stirofos</td>\n",
       "      <td>-4.320</td>\n",
       "      <td>1</td>\n",
       "      <td>365.964</td>\n",
       "      <td>0</td>\n",
       "      <td>1</td>\n",
       "      <td>5</td>\n",
       "      <td>44.76</td>\n",
       "      <td>-4.522</td>\n",
       "      <td>COP(=O)(OC)OC(=CCl)c1cc(Cl)c(Cl)cc1Cl</td>\n",
       "    </tr>\n",
       "  </tbody>\n",
       "</table>\n",
       "<p>1128 rows × 10 columns</p>\n",
       "</div>"
      ],
      "text/plain": [
       "         Compound ID  ESOL predicted log solubility in mols per litre  \\\n",
       "0          Amigdalin                                           -0.974   \n",
       "1           Fenfuram                                           -2.885   \n",
       "2             citral                                           -2.579   \n",
       "3             Picene                                           -6.618   \n",
       "4          Thiophene                                           -2.232   \n",
       "...              ...                                              ...   \n",
       "1123       halothane                                           -2.608   \n",
       "1124          Oxamyl                                           -0.908   \n",
       "1125       Thiometon                                           -3.323   \n",
       "1126  2-Methylbutane                                           -2.245   \n",
       "1127        Stirofos                                           -4.320   \n",
       "\n",
       "      Minimum Degree  Molecular Weight  Number of H-Bond Donors  \\\n",
       "0                  1           457.432                        7   \n",
       "1                  1           201.225                        1   \n",
       "2                  1           152.237                        0   \n",
       "3                  2           278.354                        0   \n",
       "4                  2            84.143                        0   \n",
       "...              ...               ...                      ...   \n",
       "1123               1           197.381                        0   \n",
       "1124               1           219.266                        1   \n",
       "1125               1           246.359                        0   \n",
       "1126               1            72.151                        0   \n",
       "1127               1           365.964                        0   \n",
       "\n",
       "      Number of Rings  Number of Rotatable Bonds  Polar Surface Area  \\\n",
       "0                   3                          7              202.32   \n",
       "1                   2                          2               42.24   \n",
       "2                   0                          4               17.07   \n",
       "3                   5                          0                0.00   \n",
       "4                   1                          0                0.00   \n",
       "...               ...                        ...                 ...   \n",
       "1123                0                          0                0.00   \n",
       "1124                0                          1               71.00   \n",
       "1125                0                          7               18.46   \n",
       "1126                0                          1                0.00   \n",
       "1127                1                          5               44.76   \n",
       "\n",
       "      measured log solubility in mols per litre  \\\n",
       "0                                        -0.770   \n",
       "1                                        -3.300   \n",
       "2                                        -2.060   \n",
       "3                                        -7.870   \n",
       "4                                        -1.330   \n",
       "...                                         ...   \n",
       "1123                                     -1.710   \n",
       "1124                                      0.106   \n",
       "1125                                     -3.091   \n",
       "1126                                     -3.180   \n",
       "1127                                     -4.522   \n",
       "\n",
       "                                                 smiles  \n",
       "0     OCC3OC(OCC2OC(OC(C#N)c1ccccc1)C(O)C(O)C2O)C(O)...  \n",
       "1                                Cc1occc1C(=O)Nc2ccccc2  \n",
       "2                                  CC(C)=CCCC(C)=CC(=O)  \n",
       "3                    c1ccc2c(c1)ccc3c2ccc4c5ccccc5ccc43  \n",
       "4                                               c1ccsc1  \n",
       "...                                                 ...  \n",
       "1123                                   FC(F)(F)C(Cl)Br   \n",
       "1124                          CNC(=O)ON=C(SC)C(=O)N(C)C  \n",
       "1125                                  CCSCCSP(=S)(OC)OC  \n",
       "1126                                            CCC(C)C  \n",
       "1127              COP(=O)(OC)OC(=CCl)c1cc(Cl)c(Cl)cc1Cl  \n",
       "\n",
       "[1128 rows x 10 columns]"
      ]
     },
     "execution_count": 4,
     "metadata": {},
     "output_type": "execute_result"
    }
   ],
   "source": [
    "#Importação e print do dataset Delaney\n",
    "df = pd.read_csv(\"https://raw.githubusercontent.com/deepchem/deepchem/master/datasets/delaney-processed.csv\")\n",
    "df"
   ]
  },
  {
   "cell_type": "markdown",
   "id": "e3f56e28-be3d-44dc-8fd4-171214ee64be",
   "metadata": {},
   "source": [
    "### Exploração de dados"
   ]
  },
  {
   "cell_type": "code",
   "execution_count": 26,
   "id": "b1a06d60-8538-4a18-9bec-8276cc5f887f",
   "metadata": {},
   "outputs": [
    {
     "name": "stdout",
     "output_type": "stream",
     "text": [
      "  Compound ID  ESOL predicted log solubility in mols per litre  \\\n",
      "0   Amigdalin                                           -0.974   \n",
      "1    Fenfuram                                           -2.885   \n",
      "2      citral                                           -2.579   \n",
      "3      Picene                                           -6.618   \n",
      "4   Thiophene                                           -2.232   \n",
      "\n",
      "   Minimum Degree  Molecular Weight  Number of H-Bond Donors  Number of Rings  \\\n",
      "0               1           457.432                        7                3   \n",
      "1               1           201.225                        1                2   \n",
      "2               1           152.237                        0                0   \n",
      "3               2           278.354                        0                5   \n",
      "4               2            84.143                        0                1   \n",
      "\n",
      "   Number of Rotatable Bonds  Polar Surface Area  \\\n",
      "0                          7              202.32   \n",
      "1                          2               42.24   \n",
      "2                          4               17.07   \n",
      "3                          0                0.00   \n",
      "4                          0                0.00   \n",
      "\n",
      "   measured log solubility in mols per litre  \\\n",
      "0                                      -0.77   \n",
      "1                                      -3.30   \n",
      "2                                      -2.06   \n",
      "3                                      -7.87   \n",
      "4                                      -1.33   \n",
      "\n",
      "                                              smiles  Aromatic proportion  \n",
      "0  OCC3OC(OCC2OC(OC(C#N)c1ccccc1)C(O)C(O)C2O)C(O)...             0.187500  \n",
      "1                             Cc1occc1C(=O)Nc2ccccc2             0.733333  \n",
      "2                               CC(C)=CCCC(C)=CC(=O)             0.000000  \n",
      "3                 c1ccc2c(c1)ccc3c2ccc4c5ccccc5ccc43             1.000000  \n",
      "4                                            c1ccsc1             1.000000  \n",
      "       ESOL predicted log solubility in mols per litre  Minimum Degree  \\\n",
      "count                                      1128.000000     1128.000000   \n",
      "mean                                         -2.988192        1.058511   \n",
      "std                                           1.683220        0.238560   \n",
      "min                                          -9.702000        0.000000   \n",
      "25%                                          -3.948250        1.000000   \n",
      "50%                                          -2.870000        1.000000   \n",
      "75%                                          -1.843750        1.000000   \n",
      "max                                           1.091000        2.000000   \n",
      "\n",
      "       Molecular Weight  Number of H-Bond Donors  Number of Rings  \\\n",
      "count       1128.000000              1128.000000      1128.000000   \n",
      "mean         203.937074                 0.701241         1.390957   \n",
      "std          102.738077                 1.089727         1.318286   \n",
      "min           16.043000                 0.000000         0.000000   \n",
      "25%          121.183000                 0.000000         0.000000   \n",
      "50%          182.179000                 0.000000         1.000000   \n",
      "75%          270.372000                 1.000000         2.000000   \n",
      "max          780.949000                11.000000         8.000000   \n",
      "\n",
      "       Number of Rotatable Bonds  Polar Surface Area  \\\n",
      "count                1128.000000         1128.000000   \n",
      "mean                    2.177305           34.872881   \n",
      "std                     2.640974           35.383593   \n",
      "min                     0.000000            0.000000   \n",
      "25%                     0.000000            0.000000   \n",
      "50%                     1.000000           26.300000   \n",
      "75%                     3.000000           55.440000   \n",
      "max                    23.000000          268.680000   \n",
      "\n",
      "       measured log solubility in mols per litre  Aromatic proportion  \n",
      "count                                1128.000000          1128.000000  \n",
      "mean                                   -3.050102             0.363544  \n",
      "std                                     2.096441             0.343778  \n",
      "min                                   -11.600000             0.000000  \n",
      "25%                                    -4.317500             0.000000  \n",
      "50%                                    -2.860000             0.375000  \n",
      "75%                                    -1.600000             0.666667  \n",
      "max                                     1.580000             1.000000  \n"
     ]
    },
    {
     "data": {
      "image/png": "[encoded data removed]",
      "text/plain": [
       "<Figure size 640x480 with 1 Axes>"
      ]
     },
     "metadata": {},
     "output_type": "display_data"
    }
   ],
   "source": [
    "# Visualizar as primeiras linhas do conjunto de dados\n",
    "print(df.head())\n",
    " \n",
    "# Verificar estatísticas descritivas\n",
    "print(df.describe())\n",
    " \n",
    "plt.hist(df['measured log solubility in mols per litre'], bins=20, color='#42c8f5', density=True)\n",
    "plt.xlabel('Solubilidade (mol/L)')\n",
    "plt.ylabel('Densidade de probabilidade')\n",
    "plt.title('Distribuição da Solubilidade (PDF)')\n",
    "plt.show()"
   ]
  },
  {
   "cell_type": "markdown",
   "id": "da00f32b-f9fc-4122-9125-a05a94162c84",
   "metadata": {},
   "source": [
    "Vemos que temos muitas solubilidades negativas. Isso porque os valores de solubilidade do ESOL foram descritos como concentração molar logarítmica (logS), variando de −11,6 a 6,04. Um valor de logS negativo indica baixa solubilidade, enquanto um valor positivo indica alta solubilidade [<sup>[9]</sup>](https://www.frontiersin.org/journals/pharmacology/articles/10.3389/fphar.2023.1255181/full)"
   ]
  },
  {
   "cell_type": "markdown",
   "id": "c373381f-1b5b-4d8d-8e47-6896cf4f078f",
   "metadata": {
    "tags": []
   },
   "source": [
    "### Incluindo aromaticidade no `df`"
   ]
  },
  {
   "cell_type": "markdown",
   "id": "61257038-f865-47df-aa01-8534c9e91c83",
   "metadata": {},
   "source": [
    "Os aneis das moléculas, por si só, não nos dizem muito sobre a característica hidrofóbica. Isso ocorre\n",
    "pois os aneis podem ter apenas Carbono e Hidrogênio ou ter heteroátomos, como Nitrogênio ou Oxigênio, que são mais polares. No entanto, uma outra característica importante para a solubilidade é a aromaticidade desses aneis. Em geral, compostos aromáticos são mais hidrofóbicos por fazerem mais interações de Van der Walls.\n",
    "\n",
    "Então, usando as representações de string das moléculas, ou seja, os **SMILES**, e o módulo `Chem` do `RDKit`, calculamos a proporção de átomos aromáticos em cada molécula e adiciona essa proporção como uma nova coluna no DataFrame Delaney.\n",
    "\n",
    "Primeiramente, para molécula em SMILES, percorremos um loop aplicando a função `Chem.MolFromSmiles()`, que converte uma string em um objeto `Mol` do `RDKit`. Este objeto é adicionado à lista `mol_list`.\n",
    "\n",
    "Em seguida, definimos uma função `AromaticAtoms()` que recebe uma molécula em formato de objeto `Mol`, como argumento `m`. A função percorre todos os átomos na molécula com outra função: `m.GetNumAtoms()` que fornece o número total de átomos na molécula. Então, Para cada átomo, a função `m.GetAtomWithIdx(i).GetIsAromatic()` verifica se o átomo é aromático ou não, criando uma lista booleana `aromatic_atoms`. Por fim, calculamos a soma dos átomos aromáticos com `sum(aromatic_atoms)` e retornamos esse valor como `aa_count`.\n",
    "\n",
    "Por fim, o percorremos um loop para cada molécula em `mol_list` onde chamamos a função `AromaticAtoms()` pré definida e dividimos o número de átomos aromáticos pelo número total de \"átomos pesados\" (sem o Hidrogênio), na molécula, com a função `Descriptors.HeavyAtomCount(mol)`. Não contamos o Hidrogênio, pois para esta proporção a condição de arômaticidade requer **orbitais p não ligantes** e o Hidrogênio só tem **orbital s**. A proporção aromática `AP` é calculada  e o loop adiciona na lista `AP_list` e então, adicionamos esses valores em uma nova coluna no `df`. O código foi baseado na referência [10]"
   ]
  },
  {
   "cell_type": "code",
   "execution_count": 5,
   "id": "3bdae5e0-fbad-4150-bb3e-a8a44b656ffc",
   "metadata": {
    "tags": []
   },
   "outputs": [
    {
     "data": {
      "text/html": [
       "<div>\n",
       "<style scoped>\n",
       "    .dataframe tbody tr th:only-of-type {\n",
       "        vertical-align: middle;\n",
       "    }\n",
       "\n",
       "    .dataframe tbody tr th {\n",
       "        vertical-align: top;\n",
       "    }\n",
       "\n",
       "    .dataframe thead th {\n",
       "        text-align: right;\n",
       "    }\n",
       "</style>\n",
       "<table border=\"1\" class=\"dataframe\">\n",
       "  <thead>\n",
       "    <tr style=\"text-align: right;\">\n",
       "      <th></th>\n",
       "      <th>Compound ID</th>\n",
       "      <th>ESOL predicted log solubility in mols per litre</th>\n",
       "      <th>Minimum Degree</th>\n",
       "      <th>Molecular Weight</th>\n",
       "      <th>Number of H-Bond Donors</th>\n",
       "      <th>Number of Rings</th>\n",
       "      <th>Number of Rotatable Bonds</th>\n",
       "      <th>Polar Surface Area</th>\n",
       "      <th>measured log solubility in mols per litre</th>\n",
       "      <th>smiles</th>\n",
       "      <th>Aromatic proportion</th>\n",
       "    </tr>\n",
       "  </thead>\n",
       "  <tbody>\n",
       "    <tr>\n",
       "      <th>0</th>\n",
       "      <td>Amigdalin</td>\n",
       "      <td>-0.974</td>\n",
       "      <td>1</td>\n",
       "      <td>457.432</td>\n",
       "      <td>7</td>\n",
       "      <td>3</td>\n",
       "      <td>7</td>\n",
       "      <td>202.32</td>\n",
       "      <td>-0.770</td>\n",
       "      <td>OCC3OC(OCC2OC(OC(C#N)c1ccccc1)C(O)C(O)C2O)C(O)...</td>\n",
       "      <td>0.187500</td>\n",
       "    </tr>\n",
       "    <tr>\n",
       "      <th>1</th>\n",
       "      <td>Fenfuram</td>\n",
       "      <td>-2.885</td>\n",
       "      <td>1</td>\n",
       "      <td>201.225</td>\n",
       "      <td>1</td>\n",
       "      <td>2</td>\n",
       "      <td>2</td>\n",
       "      <td>42.24</td>\n",
       "      <td>-3.300</td>\n",
       "      <td>Cc1occc1C(=O)Nc2ccccc2</td>\n",
       "      <td>0.733333</td>\n",
       "    </tr>\n",
       "    <tr>\n",
       "      <th>2</th>\n",
       "      <td>citral</td>\n",
       "      <td>-2.579</td>\n",
       "      <td>1</td>\n",
       "      <td>152.237</td>\n",
       "      <td>0</td>\n",
       "      <td>0</td>\n",
       "      <td>4</td>\n",
       "      <td>17.07</td>\n",
       "      <td>-2.060</td>\n",
       "      <td>CC(C)=CCCC(C)=CC(=O)</td>\n",
       "      <td>0.000000</td>\n",
       "    </tr>\n",
       "    <tr>\n",
       "      <th>3</th>\n",
       "      <td>Picene</td>\n",
       "      <td>-6.618</td>\n",
       "      <td>2</td>\n",
       "      <td>278.354</td>\n",
       "      <td>0</td>\n",
       "      <td>5</td>\n",
       "      <td>0</td>\n",
       "      <td>0.00</td>\n",
       "      <td>-7.870</td>\n",
       "      <td>c1ccc2c(c1)ccc3c2ccc4c5ccccc5ccc43</td>\n",
       "      <td>1.000000</td>\n",
       "    </tr>\n",
       "    <tr>\n",
       "      <th>4</th>\n",
       "      <td>Thiophene</td>\n",
       "      <td>-2.232</td>\n",
       "      <td>2</td>\n",
       "      <td>84.143</td>\n",
       "      <td>0</td>\n",
       "      <td>1</td>\n",
       "      <td>0</td>\n",
       "      <td>0.00</td>\n",
       "      <td>-1.330</td>\n",
       "      <td>c1ccsc1</td>\n",
       "      <td>1.000000</td>\n",
       "    </tr>\n",
       "    <tr>\n",
       "      <th>...</th>\n",
       "      <td>...</td>\n",
       "      <td>...</td>\n",
       "      <td>...</td>\n",
       "      <td>...</td>\n",
       "      <td>...</td>\n",
       "      <td>...</td>\n",
       "      <td>...</td>\n",
       "      <td>...</td>\n",
       "      <td>...</td>\n",
       "      <td>...</td>\n",
       "      <td>...</td>\n",
       "    </tr>\n",
       "    <tr>\n",
       "      <th>1123</th>\n",
       "      <td>halothane</td>\n",
       "      <td>-2.608</td>\n",
       "      <td>1</td>\n",
       "      <td>197.381</td>\n",
       "      <td>0</td>\n",
       "      <td>0</td>\n",
       "      <td>0</td>\n",
       "      <td>0.00</td>\n",
       "      <td>-1.710</td>\n",
       "      <td>FC(F)(F)C(Cl)Br</td>\n",
       "      <td>0.000000</td>\n",
       "    </tr>\n",
       "    <tr>\n",
       "      <th>1124</th>\n",
       "      <td>Oxamyl</td>\n",
       "      <td>-0.908</td>\n",
       "      <td>1</td>\n",
       "      <td>219.266</td>\n",
       "      <td>1</td>\n",
       "      <td>0</td>\n",
       "      <td>1</td>\n",
       "      <td>71.00</td>\n",
       "      <td>0.106</td>\n",
       "      <td>CNC(=O)ON=C(SC)C(=O)N(C)C</td>\n",
       "      <td>0.000000</td>\n",
       "    </tr>\n",
       "    <tr>\n",
       "      <th>1125</th>\n",
       "      <td>Thiometon</td>\n",
       "      <td>-3.323</td>\n",
       "      <td>1</td>\n",
       "      <td>246.359</td>\n",
       "      <td>0</td>\n",
       "      <td>0</td>\n",
       "      <td>7</td>\n",
       "      <td>18.46</td>\n",
       "      <td>-3.091</td>\n",
       "      <td>CCSCCSP(=S)(OC)OC</td>\n",
       "      <td>0.000000</td>\n",
       "    </tr>\n",
       "    <tr>\n",
       "      <th>1126</th>\n",
       "      <td>2-Methylbutane</td>\n",
       "      <td>-2.245</td>\n",
       "      <td>1</td>\n",
       "      <td>72.151</td>\n",
       "      <td>0</td>\n",
       "      <td>0</td>\n",
       "      <td>1</td>\n",
       "      <td>0.00</td>\n",
       "      <td>-3.180</td>\n",
       "      <td>CCC(C)C</td>\n",
       "      <td>0.000000</td>\n",
       "    </tr>\n",
       "    <tr>\n",
       "      <th>1127</th>\n",
       "      <td>Stirofos</td>\n",
       "      <td>-4.320</td>\n",
       "      <td>1</td>\n",
       "      <td>365.964</td>\n",
       "      <td>0</td>\n",
       "      <td>1</td>\n",
       "      <td>5</td>\n",
       "      <td>44.76</td>\n",
       "      <td>-4.522</td>\n",
       "      <td>COP(=O)(OC)OC(=CCl)c1cc(Cl)c(Cl)cc1Cl</td>\n",
       "      <td>0.315789</td>\n",
       "    </tr>\n",
       "  </tbody>\n",
       "</table>\n",
       "<p>1128 rows × 11 columns</p>\n",
       "</div>"
      ],
      "text/plain": [
       "         Compound ID  ESOL predicted log solubility in mols per litre  \\\n",
       "0          Amigdalin                                           -0.974   \n",
       "1           Fenfuram                                           -2.885   \n",
       "2             citral                                           -2.579   \n",
       "3             Picene                                           -6.618   \n",
       "4          Thiophene                                           -2.232   \n",
       "...              ...                                              ...   \n",
       "1123       halothane                                           -2.608   \n",
       "1124          Oxamyl                                           -0.908   \n",
       "1125       Thiometon                                           -3.323   \n",
       "1126  2-Methylbutane                                           -2.245   \n",
       "1127        Stirofos                                           -4.320   \n",
       "\n",
       "      Minimum Degree  Molecular Weight  Number of H-Bond Donors  \\\n",
       "0                  1           457.432                        7   \n",
       "1                  1           201.225                        1   \n",
       "2                  1           152.237                        0   \n",
       "3                  2           278.354                        0   \n",
       "4                  2            84.143                        0   \n",
       "...              ...               ...                      ...   \n",
       "1123               1           197.381                        0   \n",
       "1124               1           219.266                        1   \n",
       "1125               1           246.359                        0   \n",
       "1126               1            72.151                        0   \n",
       "1127               1           365.964                        0   \n",
       "\n",
       "      Number of Rings  Number of Rotatable Bonds  Polar Surface Area  \\\n",
       "0                   3                          7              202.32   \n",
       "1                   2                          2               42.24   \n",
       "2                   0                          4               17.07   \n",
       "3                   5                          0                0.00   \n",
       "4                   1                          0                0.00   \n",
       "...               ...                        ...                 ...   \n",
       "1123                0                          0                0.00   \n",
       "1124                0                          1               71.00   \n",
       "1125                0                          7               18.46   \n",
       "1126                0                          1                0.00   \n",
       "1127                1                          5               44.76   \n",
       "\n",
       "      measured log solubility in mols per litre  \\\n",
       "0                                        -0.770   \n",
       "1                                        -3.300   \n",
       "2                                        -2.060   \n",
       "3                                        -7.870   \n",
       "4                                        -1.330   \n",
       "...                                         ...   \n",
       "1123                                     -1.710   \n",
       "1124                                      0.106   \n",
       "1125                                     -3.091   \n",
       "1126                                     -3.180   \n",
       "1127                                     -4.522   \n",
       "\n",
       "                                                 smiles  Aromatic proportion  \n",
       "0     OCC3OC(OCC2OC(OC(C#N)c1ccccc1)C(O)C(O)C2O)C(O)...             0.187500  \n",
       "1                                Cc1occc1C(=O)Nc2ccccc2             0.733333  \n",
       "2                                  CC(C)=CCCC(C)=CC(=O)             0.000000  \n",
       "3                    c1ccc2c(c1)ccc3c2ccc4c5ccccc5ccc43             1.000000  \n",
       "4                                               c1ccsc1             1.000000  \n",
       "...                                                 ...                  ...  \n",
       "1123                                   FC(F)(F)C(Cl)Br              0.000000  \n",
       "1124                          CNC(=O)ON=C(SC)C(=O)N(C)C             0.000000  \n",
       "1125                                  CCSCCSP(=S)(OC)OC             0.000000  \n",
       "1126                                            CCC(C)C             0.000000  \n",
       "1127              COP(=O)(OC)OC(=CCl)c1cc(Cl)c(Cl)cc1Cl             0.315789  \n",
       "\n",
       "[1128 rows x 11 columns]"
      ]
     },
     "execution_count": 5,
     "metadata": {},
     "output_type": "execute_result"
    }
   ],
   "source": [
    "# Definindo lista de obtetos mol\"\n",
    "mol_list= []\n",
    "for element in df[\"smiles\"]:\n",
    "  mol = Chem.MolFromSmiles(element)\n",
    "  mol_list.append(mol)\n",
    "\n",
    "# Definindo função que calcula o número de átomos aromáticos \"\n",
    "def AromaticAtoms(m):\n",
    "  aromatic_atoms = [m.GetAtomWithIdx(i).GetIsAromatic() for i in range(m.GetNumAtoms())]\n",
    "  aa_count = sum(aromatic_atoms)\n",
    "  return aa_count\n",
    "\n",
    "# Calculando proporção AP em para cada molécula\"\n",
    "AP_list = []\n",
    "for mol in mol_list:\n",
    "    AP = AromaticAtoms(mol)/Descriptors.HeavyAtomCount(mol)\n",
    "    AP_list.append(AP)\n",
    "\n",
    "# Acrescentando ao dataframe a coluna de \"Aromatic proportion\"\n",
    "df[\"Aromatic proportion\"] = AP_list\n",
    "df"
   ]
  },
  {
   "cell_type": "markdown",
   "id": "cde44b0b-8e1b-4720-b53d-b3393d9ef024",
   "metadata": {
    "tags": []
   },
   "source": [
    "### Features e Target"
   ]
  },
  {
   "cell_type": "markdown",
   "id": "d3432083-f79e-477a-9fe4-e6ac2e78d72e",
   "metadata": {},
   "source": [
    "Para definir nossas features, precisamos \"limpar\" este nosso dataset.\n",
    "\n",
    "`list(df.columns)` cria uma lista contendo os nomes de todas as colunas no DataFrame df. Então, usamos `.remove` para deixar apenas os itens features e, em seguida, voltamos a lista para dataframe com `df[columnsX]`. agora `X` são nossas features!"
   ]
  },
  {
   "cell_type": "code",
   "execution_count": 6,
   "id": "35c45838-738b-424d-828a-73af37b29ea7",
   "metadata": {},
   "outputs": [
    {
     "name": "stdout",
     "output_type": "stream",
     "text": [
      "['Compound ID', 'ESOL predicted log solubility in mols per litre', 'Minimum Degree', 'Molecular Weight', 'Number of H-Bond Donors', 'Number of Rings', 'Number of Rotatable Bonds', 'Polar Surface Area', 'measured log solubility in mols per litre', 'smiles', 'Aromatic proportion']\n",
      "\n",
      "\n",
      "['Minimum Degree', 'Molecular Weight', 'Number of H-Bond Donors', 'Number of Rings', 'Number of Rotatable Bonds', 'Polar Surface Area', 'Aromatic proportion']\n",
      "\n"
     ]
    },
    {
     "data": {
      "text/html": [
       "<div>\n",
       "<style scoped>\n",
       "    .dataframe tbody tr th:only-of-type {\n",
       "        vertical-align: middle;\n",
       "    }\n",
       "\n",
       "    .dataframe tbody tr th {\n",
       "        vertical-align: top;\n",
       "    }\n",
       "\n",
       "    .dataframe thead th {\n",
       "        text-align: right;\n",
       "    }\n",
       "</style>\n",
       "<table border=\"1\" class=\"dataframe\">\n",
       "  <thead>\n",
       "    <tr style=\"text-align: right;\">\n",
       "      <th></th>\n",
       "      <th>Minimum Degree</th>\n",
       "      <th>Molecular Weight</th>\n",
       "      <th>Number of H-Bond Donors</th>\n",
       "      <th>Number of Rings</th>\n",
       "      <th>Number of Rotatable Bonds</th>\n",
       "      <th>Polar Surface Area</th>\n",
       "      <th>Aromatic proportion</th>\n",
       "    </tr>\n",
       "  </thead>\n",
       "  <tbody>\n",
       "    <tr>\n",
       "      <th>0</th>\n",
       "      <td>1</td>\n",
       "      <td>457.432</td>\n",
       "      <td>7</td>\n",
       "      <td>3</td>\n",
       "      <td>7</td>\n",
       "      <td>202.32</td>\n",
       "      <td>0.187500</td>\n",
       "    </tr>\n",
       "    <tr>\n",
       "      <th>1</th>\n",
       "      <td>1</td>\n",
       "      <td>201.225</td>\n",
       "      <td>1</td>\n",
       "      <td>2</td>\n",
       "      <td>2</td>\n",
       "      <td>42.24</td>\n",
       "      <td>0.733333</td>\n",
       "    </tr>\n",
       "    <tr>\n",
       "      <th>2</th>\n",
       "      <td>1</td>\n",
       "      <td>152.237</td>\n",
       "      <td>0</td>\n",
       "      <td>0</td>\n",
       "      <td>4</td>\n",
       "      <td>17.07</td>\n",
       "      <td>0.000000</td>\n",
       "    </tr>\n",
       "    <tr>\n",
       "      <th>3</th>\n",
       "      <td>2</td>\n",
       "      <td>278.354</td>\n",
       "      <td>0</td>\n",
       "      <td>5</td>\n",
       "      <td>0</td>\n",
       "      <td>0.00</td>\n",
       "      <td>1.000000</td>\n",
       "    </tr>\n",
       "    <tr>\n",
       "      <th>4</th>\n",
       "      <td>2</td>\n",
       "      <td>84.143</td>\n",
       "      <td>0</td>\n",
       "      <td>1</td>\n",
       "      <td>0</td>\n",
       "      <td>0.00</td>\n",
       "      <td>1.000000</td>\n",
       "    </tr>\n",
       "    <tr>\n",
       "      <th>...</th>\n",
       "      <td>...</td>\n",
       "      <td>...</td>\n",
       "      <td>...</td>\n",
       "      <td>...</td>\n",
       "      <td>...</td>\n",
       "      <td>...</td>\n",
       "      <td>...</td>\n",
       "    </tr>\n",
       "    <tr>\n",
       "      <th>1123</th>\n",
       "      <td>1</td>\n",
       "      <td>197.381</td>\n",
       "      <td>0</td>\n",
       "      <td>0</td>\n",
       "      <td>0</td>\n",
       "      <td>0.00</td>\n",
       "      <td>0.000000</td>\n",
       "    </tr>\n",
       "    <tr>\n",
       "      <th>1124</th>\n",
       "      <td>1</td>\n",
       "      <td>219.266</td>\n",
       "      <td>1</td>\n",
       "      <td>0</td>\n",
       "      <td>1</td>\n",
       "      <td>71.00</td>\n",
       "      <td>0.000000</td>\n",
       "    </tr>\n",
       "    <tr>\n",
       "      <th>1125</th>\n",
       "      <td>1</td>\n",
       "      <td>246.359</td>\n",
       "      <td>0</td>\n",
       "      <td>0</td>\n",
       "      <td>7</td>\n",
       "      <td>18.46</td>\n",
       "      <td>0.000000</td>\n",
       "    </tr>\n",
       "    <tr>\n",
       "      <th>1126</th>\n",
       "      <td>1</td>\n",
       "      <td>72.151</td>\n",
       "      <td>0</td>\n",
       "      <td>0</td>\n",
       "      <td>1</td>\n",
       "      <td>0.00</td>\n",
       "      <td>0.000000</td>\n",
       "    </tr>\n",
       "    <tr>\n",
       "      <th>1127</th>\n",
       "      <td>1</td>\n",
       "      <td>365.964</td>\n",
       "      <td>0</td>\n",
       "      <td>1</td>\n",
       "      <td>5</td>\n",
       "      <td>44.76</td>\n",
       "      <td>0.315789</td>\n",
       "    </tr>\n",
       "  </tbody>\n",
       "</table>\n",
       "<p>1128 rows × 7 columns</p>\n",
       "</div>"
      ],
      "text/plain": [
       "      Minimum Degree  Molecular Weight  Number of H-Bond Donors  \\\n",
       "0                  1           457.432                        7   \n",
       "1                  1           201.225                        1   \n",
       "2                  1           152.237                        0   \n",
       "3                  2           278.354                        0   \n",
       "4                  2            84.143                        0   \n",
       "...              ...               ...                      ...   \n",
       "1123               1           197.381                        0   \n",
       "1124               1           219.266                        1   \n",
       "1125               1           246.359                        0   \n",
       "1126               1            72.151                        0   \n",
       "1127               1           365.964                        0   \n",
       "\n",
       "      Number of Rings  Number of Rotatable Bonds  Polar Surface Area  \\\n",
       "0                   3                          7              202.32   \n",
       "1                   2                          2               42.24   \n",
       "2                   0                          4               17.07   \n",
       "3                   5                          0                0.00   \n",
       "4                   1                          0                0.00   \n",
       "...               ...                        ...                 ...   \n",
       "1123                0                          0                0.00   \n",
       "1124                0                          1               71.00   \n",
       "1125                0                          7               18.46   \n",
       "1126                0                          1                0.00   \n",
       "1127                1                          5               44.76   \n",
       "\n",
       "      Aromatic proportion  \n",
       "0                0.187500  \n",
       "1                0.733333  \n",
       "2                0.000000  \n",
       "3                1.000000  \n",
       "4                1.000000  \n",
       "...                   ...  \n",
       "1123             0.000000  \n",
       "1124             0.000000  \n",
       "1125             0.000000  \n",
       "1126             0.000000  \n",
       "1127             0.315789  \n",
       "\n",
       "[1128 rows x 7 columns]"
      ]
     },
     "execution_count": 6,
     "metadata": {},
     "output_type": "execute_result"
    }
   ],
   "source": [
    "# Criando um \"X\" que será as features\n",
    "\n",
    "columnsX = list(df.columns)\n",
    "print(columnsX)\n",
    "print()\n",
    "columnsX.remove('Compound ID')\n",
    "columnsX.remove('ESOL predicted log solubility in mols per litre')\n",
    "columnsX.remove('measured log solubility in mols per litre')\n",
    "columnsX.remove('smiles')\n",
    "print()\n",
    "print(columnsX)\n",
    "print()\n",
    "X = df[columnsX]\n",
    "X"
   ]
  },
  {
   "cell_type": "markdown",
   "id": "8eb4be29-ef11-4d3e-9200-66a155e156ff",
   "metadata": {},
   "source": [
    "Como queremos nos aproximar da dos valores experimentais de solubilidade, o nosso target `y` é `df[[\"measured log solubility in mols per litre\"]]`."
   ]
  },
  {
   "cell_type": "code",
   "execution_count": 7,
   "id": "61d7afea-14b5-4a28-9a49-a6615a8303ac",
   "metadata": {},
   "outputs": [
    {
     "data": {
      "text/html": [
       "<div>\n",
       "<style scoped>\n",
       "    .dataframe tbody tr th:only-of-type {\n",
       "        vertical-align: middle;\n",
       "    }\n",
       "\n",
       "    .dataframe tbody tr th {\n",
       "        vertical-align: top;\n",
       "    }\n",
       "\n",
       "    .dataframe thead th {\n",
       "        text-align: right;\n",
       "    }\n",
       "</style>\n",
       "<table border=\"1\" class=\"dataframe\">\n",
       "  <thead>\n",
       "    <tr style=\"text-align: right;\">\n",
       "      <th></th>\n",
       "      <th>measured log solubility in mols per litre</th>\n",
       "    </tr>\n",
       "  </thead>\n",
       "  <tbody>\n",
       "    <tr>\n",
       "      <th>0</th>\n",
       "      <td>-0.770</td>\n",
       "    </tr>\n",
       "    <tr>\n",
       "      <th>1</th>\n",
       "      <td>-3.300</td>\n",
       "    </tr>\n",
       "    <tr>\n",
       "      <th>2</th>\n",
       "      <td>-2.060</td>\n",
       "    </tr>\n",
       "    <tr>\n",
       "      <th>3</th>\n",
       "      <td>-7.870</td>\n",
       "    </tr>\n",
       "    <tr>\n",
       "      <th>4</th>\n",
       "      <td>-1.330</td>\n",
       "    </tr>\n",
       "    <tr>\n",
       "      <th>...</th>\n",
       "      <td>...</td>\n",
       "    </tr>\n",
       "    <tr>\n",
       "      <th>1123</th>\n",
       "      <td>-1.710</td>\n",
       "    </tr>\n",
       "    <tr>\n",
       "      <th>1124</th>\n",
       "      <td>0.106</td>\n",
       "    </tr>\n",
       "    <tr>\n",
       "      <th>1125</th>\n",
       "      <td>-3.091</td>\n",
       "    </tr>\n",
       "    <tr>\n",
       "      <th>1126</th>\n",
       "      <td>-3.180</td>\n",
       "    </tr>\n",
       "    <tr>\n",
       "      <th>1127</th>\n",
       "      <td>-4.522</td>\n",
       "    </tr>\n",
       "  </tbody>\n",
       "</table>\n",
       "<p>1128 rows × 1 columns</p>\n",
       "</div>"
      ],
      "text/plain": [
       "      measured log solubility in mols per litre\n",
       "0                                        -0.770\n",
       "1                                        -3.300\n",
       "2                                        -2.060\n",
       "3                                        -7.870\n",
       "4                                        -1.330\n",
       "...                                         ...\n",
       "1123                                     -1.710\n",
       "1124                                      0.106\n",
       "1125                                     -3.091\n",
       "1126                                     -3.180\n",
       "1127                                     -4.522\n",
       "\n",
       "[1128 rows x 1 columns]"
      ]
     },
     "execution_count": 7,
     "metadata": {},
     "output_type": "execute_result"
    }
   ],
   "source": [
    "# Criando o \"y\" para o target\n",
    "\n",
    "y = df[[\"measured log solubility in mols per litre\"]]\n",
    "y"
   ]
  },
  {
   "cell_type": "markdown",
   "id": "2fa4a965-1925-4a96-b24c-f0cfeb41cffb",
   "metadata": {
    "tags": []
   },
   "source": [
    "### Split: treino, teste e validação"
   ]
  },
  {
   "cell_type": "markdown",
   "id": "c6e6a281-8051-4411-9135-da4608e6b9dd",
   "metadata": {},
   "source": [
    "Para garantir a reprodutibilidade, nossa `random_state`(semente aleatória) será:<font color=\"red\"> 61455</font>.\n",
    "\n",
    "Da biblioteca `scikit-learn` a função `train_test_split` divide nossos dados em subconjuntos de **treino**, **teste** e **validação**. Isso acontece dividindo os dados `X` e `y` em conjuntos de `X_treino`, `y_treino`, `X_teste`, `y_teste`, `X_val` e `y_val`, com `test_size=0.2` "
   ]
  },
  {
   "cell_type": "code",
   "execution_count": 8,
   "id": "732ea973-579e-4a2c-830a-bd27fcebaa7b",
   "metadata": {},
   "outputs": [],
   "source": [
    "# Dividindo os dados em treino, teste e validação\n",
    "\n",
    "X_treino, X_teste, y_treino, y_teste = train_test_split(X, y, test_size=0.2, random_state=61455)\n",
    "X_treino, X_val, y_treino, y_val = train_test_split(X_treino, y_treino, test_size=0.2, random_state=61455)"
   ]
  },
  {
   "cell_type": "markdown",
   "id": "1371cfd5-cf55-4b78-84db-3dde52fc73f7",
   "metadata": {
    "tags": []
   },
   "source": [
    "### Normalização"
   ]
  },
  {
   "cell_type": "markdown",
   "id": "b1236d59-dc82-4c53-8029-c1dccb15130b",
   "metadata": {},
   "source": [
    "Novamente da biblioteca `scikit-learn`, utilizamos `MaxAbsScaler()` definindo como `x_scaler` e `y_scaler`(escaladores) para os dados de `X` e `y`. Adotamos a normalização entre **[-1 , 1]**, pelo fato da importância da preservação dos valores zero (queremos que as grandezas que são zero, para cada exemplo, continuem sendo zero após a normalização). Além disso, os dados devem ser normalizados para que a proporção de importância seja similar no modelo, visto que, alguns dados têm discrepância muito grande de ordem de grandeza como `Number of Rotatable Bonds` e `Polar Surface Area`.\n",
    "\n",
    "`.fit()` ajusta os escaladores às dimensões de `X` e `y`, calculando os valores máximo e mínimo dos dados, para determinar a escala apropriada da normalização. Então, para treino, teste e validação aplicamos a normalização em si com o `transform()` ."
   ]
  },
  {
   "cell_type": "code",
   "execution_count": 9,
   "id": "f34871be-f510-4ff3-af92-51f626f0706d",
   "metadata": {},
   "outputs": [],
   "source": [
    "# Normalizando os dados\n",
    "\n",
    "x_scaler = MaxAbsScaler()\n",
    "x_scaler.fit(X_treino)\n",
    "\n",
    "y_scaler = MaxAbsScaler()\n",
    "y_scaler.fit(y_treino)\n",
    "\n",
    "X_treino = x_scaler.transform(X_treino)\n",
    "y_treino = y_scaler.transform(y_treino)\n",
    "\n",
    "X_val = x_scaler.transform(X_val)\n",
    "y_val = y_scaler.transform(y_val)\n",
    "\n",
    "X_teste = x_scaler.transform(X_teste)\n",
    "y_teste = y_scaler.transform(y_teste)"
   ]
  },
  {
   "cell_type": "markdown",
   "id": "467d40ab-0016-4b4e-83d4-226b9602c7f5",
   "metadata": {},
   "source": [
    "Neste momento, transformamos os conjuntos de dados em **tensores** - estrutura de dados multidimensional usada no `PyTorch` -. Os tensores gerados são do tipo `torch.float32` - dado `float` de **32 bits**:"
   ]
  },
  {
   "cell_type": "markdown",
   "id": "f024b306-b0ee-4182-a008-237f780b0ef0",
   "metadata": {
    "tags": []
   },
   "source": [
    "### Preparação para MLP: tensores e classe"
   ]
  },
  {
   "cell_type": "code",
   "execution_count": 10,
   "id": "676a8887-238e-49cb-b742-540f8619d61f",
   "metadata": {},
   "outputs": [],
   "source": [
    "# Transformando os conjuntos de dados em tensores\n",
    "\n",
    "X_treino = torch.tensor(X_treino, dtype=torch.float32)\n",
    "y_treino = torch.tensor(y_treino, dtype=torch.float32)\n",
    "\n",
    "X_val = torch.tensor(X_val, dtype=torch.float32)\n",
    "y_val = torch.tensor(y_val, dtype=torch.float32)\n",
    "\n",
    "X_teste = torch.tensor(X_teste, dtype=torch.float32)\n",
    "y_teste = torch.tensor(y_teste, dtype=torch.float32)"
   ]
  },
  {
   "cell_type": "markdown",
   "id": "c18e3a20-1bc7-4904-b9ea-217ca59b80cb",
   "metadata": {},
   "source": [
    "`PyTorch Lightning` é uma biblioteca desenvolvida e bastante usual para pesquisadores e profissionais na área de deep learning, Inteligência artificial etc. Ela tem módulos, funções classes, dentre outros que serão úteis para nossa aplicação em Redes Neurais [<sup>[4]</sup>](https://lightning.ai/docs/pytorch/stable/).\n",
    "\n",
    "Para começar, vamos criar uma classe `DataModule` que herda a classe `LightningDataModule` da biblioteca `PyTorch Lightning`. Com isso, essa nova classe deve implementar métodos para retornar **dataloaders** para treinamento, validação e teste. Esses **dataloaders** são ferramentas do PyTorch que permitem carregar dados em **lotes** (lotes ou batches são conjuntos dos dados usados durante o treino, teste ou validação de um modelo. Ao invés de processar todos os dados de uma vez, o que pode ser inviável para vários dados, eles são divididos em lotes menores que \"alimentados\" o modelo em cada iteração).\n",
    "\n",
    "O método dunder `__init__` recebe os dados de treino, teste e validação, armazenando como atributos de instância: `self.X_treino`, `self.y_treino`, etc. Recebe, também, parâmetros da função `DataLoader`: `tamanho_lote` e `num_trabalhadores` - utilizado para transformar os dados em tensores e dividí-los em lotes. Além de utilizar como padrão o argumento `self`, recebe `super().__init__()` da herança.\n",
    "\n",
    "O método `train_dataloader()` retorna a função `DataLoader` para o conjunto de treino. Na função em questão, `TensorDataset` utiliza `X_treino` e `y_treino` e aplica os lotes e os trabalhadores com:\n",
    "\n",
    "`batch_size=self.tamanho_lote,`\n",
    "\n",
    "`num_workers=self.num_trabalhadores,`\n",
    "\n",
    "`persistent_workers=True`\n",
    "\n",
    "Fazendo da mesma forma para teste e validação com `val_dataloader()` e `test_dataloader()`."
   ]
  },
  {
   "cell_type": "code",
   "execution_count": 11,
   "id": "d6a58206-ea86-46e4-a9e2-c46201af2255",
   "metadata": {},
   "outputs": [],
   "source": [
    "# Criando instância de L.LightningDataModule, utilizada durante o treino da rede pelo PyTorch Lightning\n",
    "\n",
    "class DataModule(L.LightningDataModule):\n",
    "    def __init__(\n",
    "        self,\n",
    "        X_treino,\n",
    "        y_treino,\n",
    "        X_val,\n",
    "        y_val,\n",
    "        X_teste,\n",
    "        y_teste,\n",
    "        tamanho_lote = 128,\n",
    "        num_trabalhadores = 2,\n",
    "    ):\n",
    "        super().__init__()\n",
    "\n",
    "        self.tamanho_lote = tamanho_lote\n",
    "        self.num_trabalhadores = num_trabalhadores\n",
    "\n",
    "        self.X_treino = X_treino\n",
    "        self.y_treino = y_treino\n",
    "        self.X_val = X_val\n",
    "        self.y_val = y_val\n",
    "        self.X_teste = X_teste\n",
    "        self.y_teste = y_teste\n",
    "\n",
    "    def train_dataloader(self):\n",
    "        return DataLoader(\n",
    "            TensorDataset(self.X_treino, self.y_treino),\n",
    "            batch_size=self.tamanho_lote,\n",
    "            num_workers=self.num_trabalhadores,\n",
    "            persistent_workers=True\n",
    "        )\n",
    "\n",
    "    def val_dataloader(self):\n",
    "        return DataLoader(\n",
    "            TensorDataset(self.X_val, self.y_val),\n",
    "            batch_size=self.tamanho_lote,\n",
    "            num_workers=self.num_trabalhadores,\n",
    "            persistent_workers=True\n",
    "        )\n",
    "\n",
    "    def test_dataloader(self):\n",
    "        return DataLoader(\n",
    "            TensorDataset(self.X_teste, self.y_teste),\n",
    "            batch_size=self.tamanho_lote,\n",
    "            num_workers=self.num_trabalhadores,\n",
    "            persistent_workers=True\n",
    "        )"
   ]
  },
  {
   "cell_type": "markdown",
   "id": "ada4e028-1b0a-4894-be95-793bf3cebc11",
   "metadata": {
    "tags": []
   },
   "source": [
    "### MLP"
   ]
  },
  {
   "cell_type": "markdown",
   "id": "91871ae5-9366-4175-b2ac-ddc6998f10fa",
   "metadata": {
    "tags": []
   },
   "source": [
    "#### Explicação detalhada da MLP"
   ]
  },
  {
   "cell_type": "markdown",
   "id": "1c3f019b-4a34-4ab8-aea3-52c6ebc33d4e",
   "metadata": {},
   "source": [
    "Para a nossa classe `MPL` de Rede Neural MultiLayer Perceptron, usamos herança da classe `LightningModule` \n",
    "\n",
    "- Aqui o dunder `__init__` recebe de argumentos:\n",
    "`self`, \n",
    "`num_dados_entrada` que são o número de features de entrada,\n",
    "`neuronios`: que é uma lista que diz o número de neurônios em cada camada oculta,\n",
    "`num_saida`: que é o número de neurônios na camada de saída,\n",
    "`lr`: que é a taxa de aprendizado para o otimizador.\n",
    "\n",
    "Ainda nessa função da calsse, temos que `nn`, `F` e `optim`são os módulos `torch.nn`, `torch.nn.functional` e `torch.optim`, que definem e fornecem Redes Neurais, Funções e Otimizadores, respectivamente (definidos no início do Notebook, em **importações**).\n",
    "\n",
    "Continuando com as definições,\n",
    "- `todas_as_camadas` é uma lista, começando vazia, e que armazena as camadas da rede neural.\n",
    "\n",
    "- **primeira camada:**\n",
    "A primeira camada é uma camada que conecta, por operações lineares pela função `nn.Linear`, os inputs `num_dados_entrada` à primeira camada oculta `neuronios[0]`. Após isso, adicionamos a função de ativação `nn.ReLU()` (Rectified Linear Unit) à saída desta camada linear pela sua eficiencia e boa aplicabilidade em Redes Neurais[<sup>[5]</sup>](https://en.wikipedia.org/wiki/Rectifier_(neural_networks)).\n",
    "\n",
    "- **loop de camadas ocultas:** O loop `for i in range(len(neuronios)-1)` percorre as camadas ocultas, começando pela primeira e terminando na penúltima camada, excluindo a última que é a camada de saída. Em cada iteração, uma camada linear (**nn.Linear**) é criada conectando a saída da camada `neuronios[i]` à entrada da próxima camada `neuronios[i+1]`. Adiciona-se essa camada e depois uma função `nn.ReLU()`.\n",
    "\n",
    "- **camada de saída:** A camada de saída é, também, uma camada linear (**nn.Linear**) que conecta a última camada oculta `neuronios[-1]` à camada de saída `num_saida`.\n",
    "\n",
    "Finalizando a definição das camadas, elas são agrupadas em um objeto `nn.Sequential`, que é armazenado em `self.camadas`.\n",
    "\n",
    "- **Função de Perda** é armazendada por `self.fun_perda = F.mse_loss` utilizando o Erro Quadrático Médio, do Inglês: **MSE**.\n",
    "\n",
    "- **Taxa de Aprendizado** é armazenada por `self.lr = lr` armazena a taxa de aprendizado especificada.\n",
    "Listas para Armazenar Perdas:\n",
    "\n",
    "- `self.perdas_trein` e `self.perdas_val` são listas que começam vazias e armazenam as perdas durante o treino e validação, respectivamente.\n",
    "\n",
    "- `self.curva_aprendizado_treino` e `self.curva_aprendizado_val` são listas que começam vazias e armazenam as médias das perdas de treinamento e validação ao final de cada **época**.\n",
    "\n",
    "- A função `forward` recebe um tensor de entrada `X` e o prapaga em `self.camadas`. O return é o tensor de saída, ou seja, a previsão de solubilidade.\n",
    "\n",
    "- A função `training_step` é chamada durante cada iteração do treinamento para processar um lote. Faz uma previsão de `y_pred` para a entrada `x` usando `forward`. Calcula a perda `loss` entre `y_pred` e `y` usando `self.fun_perda` (MSE).Registra a perda com `self.log(\"loss\", loss, prog_bar=True)` e depois, adiciona a perda à lista `self.perdas_treino` para acompanhá-las durante o treino. Por fim, o return é o `loss`.\n",
    "\n",
    "- As funções `test_step` e `validation_step` funcionam de forma análoga à `training_step`.\n",
    "\n",
    "- `on_train_epoch_end` e `on_validation_epoch_end` são funções que ao final de cada época de treino, calculam a perda média para os lotes processados durante a época usando `torch.stack().mean()` e adicionando a perda média à respectiva curva de aprendizado. Por fim, limpam suas listas para a próxima época.\n",
    "\n",
    "- Como ultima função da classe, temos `configure_optimizers` que configura o otimizador `.Adam` usado no modelo. a função usa o otimizador com a taxa de aprendizado `self.lr` e tem como return o otimizador, que será usado para otimizar os parâmetros."
   ]
  },
  {
   "cell_type": "markdown",
   "id": "4beaaa0a-cd7d-43a8-b1cd-e9782bd7587b",
   "metadata": {
    "tags": []
   },
   "source": [
    "#### Criando e rodando a MLP"
   ]
  },
  {
   "cell_type": "code",
   "execution_count": 12,
   "id": "2adbedf7-28ca-4d31-b054-5a829c879823",
   "metadata": {},
   "outputs": [],
   "source": [
    "# Criando a Rede Neural MLP\n",
    "\n",
    "class MLP(L.LightningModule):\n",
    "    def __init__(\n",
    "        self, num_dados_entrada, neuronios, num_saida, lr\n",
    "    ):\n",
    "        super().__init__()\n",
    "        \n",
    "        todas_as_camadas = []\n",
    "        todas_as_camadas.append(nn.Linear(num_dados_entrada, neuronios[0]))\n",
    "        todas_as_camadas.append(nn.ReLU())\n",
    "        for i in range(len(neuronios)-1):\n",
    "            camada = nn.Linear(neuronios[i], neuronios[i+1])\n",
    "            todas_as_camadas.append(camada)\n",
    "            todas_as_camadas.append(nn.ReLU())\n",
    "        todas_as_camadas.append(nn.Linear(neuronios[-1], num_saida))\n",
    "\n",
    "        self.camadas = nn.Sequential(*todas_as_camadas)\n",
    "\n",
    "        self.fun_perda = F.mse_loss\n",
    "        self.lr = lr\n",
    "\n",
    "        self.perdas_treino = []\n",
    "        self.perdas_val = []\n",
    "\n",
    "        self.curva_aprendizado_treino = []\n",
    "        self.curva_aprendizado_val = []\n",
    "\n",
    "    def forward(self, x):\n",
    "        x = self.camadas(x)\n",
    "        return x\n",
    "\n",
    "    def training_step(self, batch, batch_idx):\n",
    "        x, y = batch\n",
    "        y_pred = self(x)\n",
    "        loss = self.fun_perda(y, y_pred)\n",
    "\n",
    "        self.log(\"loss\", loss, prog_bar=True)\n",
    "        self.perdas_treino.append(loss)\n",
    "\n",
    "        return loss\n",
    "\n",
    "    def validation_step(self, batch, batch_idx):\n",
    "        x, y = batch\n",
    "        y_pred = self(x)\n",
    "        loss = self.fun_perda(y, y_pred)\n",
    "\n",
    "        self.log(\"val_loss\", loss, prog_bar=True)\n",
    "        self.perdas_val.append(loss)\n",
    "\n",
    "        return loss\n",
    "\n",
    "    def test_step(self, batch, batch_idx):\n",
    "        x, y = batch\n",
    "        y_pred = self(x)\n",
    "        loss = self.fun_perda(y, y_pred)\n",
    "\n",
    "        self.log(\"test_loss\", loss)\n",
    "\n",
    "        return loss\n",
    "\n",
    "    def on_train_epoch_end(self):\n",
    "        # Atualiza curva de aprendizado\n",
    "        perda_media = torch.stack(self.perdas_treino).mean()\n",
    "        self.curva_aprendizado_treino.append(float(perda_media))\n",
    "        self.perdas_treino.clear()\n",
    "\n",
    "    def on_validation_epoch_end(self):\n",
    "        # Atualiza curva de aprendizado\n",
    "        perda_media = torch.stack(self.perdas_val).mean()\n",
    "        self.curva_aprendizado_val.append(float(perda_media))\n",
    "        self.perdas_val.clear()\n",
    "\n",
    "    def configure_optimizers(self):\n",
    "        optimizer = optim.Adam(self.parameters(), lr = self.lr)\n",
    "        return optimizer"
   ]
  },
  {
   "cell_type": "markdown",
   "id": "2f81a047-7d27-4762-ae3a-11027e39d375",
   "metadata": {},
   "source": [
    "Neste caso usamos o `L.Trainer` é uma classe da biblioteca PyTorch Lightning que junta o processo de treinamento, validação e teste de um modelo. Então usamos para 100 épocas. `dm` é a classe `DataMolude` que recebe todos os dados e fornece os dataloades para realizar o treino, teste e validação. Então, `minha_MLP` é a nossa rede que tem **7 features**, **2 camadas** ocultas com **20 e 10 neurônios**, **1 neurônio de saída** - o resultado da solubilidade - e uma **taxa de aprendizado de 0.001**."
   ]
  },
  {
   "cell_type": "code",
   "execution_count": 13,
   "id": "463156af-eef3-4378-8794-5daaefb1564b",
   "metadata": {},
   "outputs": [
    {
     "name": "stderr",
     "output_type": "stream",
     "text": [
      "GPU available: False, used: False\n",
      "TPU available: False, using: 0 TPU cores\n",
      "IPU available: False, using: 0 IPUs\n",
      "HPU available: False, using: 0 HPUs\n"
     ]
    }
   ],
   "source": [
    "# Treinando o teste\n",
    "\n",
    "treinador = L.Trainer(max_epochs=100)\n",
    "dm = DataModule(X_treino, y_treino, X_val, y_val, X_teste, y_teste)\n",
    "minha_MLP = MLP(7, [20,10], 1, 1e-3)"
   ]
  },
  {
   "cell_type": "markdown",
   "id": "6e026c45-2cab-4d77-a567-2b1d3fae4bf4",
   "metadata": {},
   "source": [
    "`treinador` é um objeto da classe `L.Trainer` que usamos aqui para iniciar o modelo de rede neural usando a `minha_MLP`  e o `dm`."
   ]
  },
  {
   "cell_type": "code",
   "execution_count": 14,
   "id": "2ca44796-c64a-41bc-86e6-cca57cbd3791",
   "metadata": {},
   "outputs": [
    {
     "name": "stderr",
     "output_type": "stream",
     "text": [
      "\n",
      "  | Name    | Type       | Params\n",
      "---------------------------------------\n",
      "0 | camadas | Sequential | 381   \n",
      "---------------------------------------\n",
      "381       Trainable params\n",
      "0         Non-trainable params\n",
      "381       Total params\n",
      "0.002     Total estimated model params size (MB)\n"
     ]
    },
    {
     "data": {
      "application/vnd.jupyter.widget-view+json": {
       "model_id": "",
       "version_major": 2,
       "version_minor": 0
      },
      "text/plain": [
       "Sanity Checking: |                                                                               | 0/? [00:00<…"
      ]
     },
     "metadata": {},
     "output_type": "display_data"
    },
    {
     "name": "stderr",
     "output_type": "stream",
     "text": [
      "c:\\venv\\ilumpy\\lib\\site-packages\\lightning\\pytorch\\loops\\fit_loop.py:298: The number of training batches (6) is smaller than the logging interval Trainer(log_every_n_steps=50). Set a lower value for log_every_n_steps if you want to see logs for the training epoch.\n"
     ]
    },
    {
     "data": {
      "application/vnd.jupyter.widget-view+json": {
       "model_id": "fa6beb079e1e48b6a5801bb8b5697fc9",
       "version_major": 2,
       "version_minor": 0
      },
      "text/plain": [
       "Training: |                                                                                      | 0/? [00:00<…"
      ]
     },
     "metadata": {},
     "output_type": "display_data"
    },
    {
     "data": {
      "application/vnd.jupyter.widget-view+json": {
       "model_id": "",
       "version_major": 2,
       "version_minor": 0
      },
      "text/plain": [
       "Validation: |                                                                                    | 0/? [00:00<…"
      ]
     },
     "metadata": {},
     "output_type": "display_data"
    },
    {
     "data": {
      "application/vnd.jupyter.widget-view+json": {
       "model_id": "",
       "version_major": 2,
       "version_minor": 0
      },
      "text/plain": [
       "Validation: |                                                                                    | 0/? [00:00<…"
      ]
     },
     "metadata": {},
     "output_type": "display_data"
    },
    {
     "data": {
      "application/vnd.jupyter.widget-view+json": {
       "model_id": "",
       "version_major": 2,
       "version_minor": 0
      },
      "text/plain": [
       "Validation: |                                                                                    | 0/? [00:00<…"
      ]
     },
     "metadata": {},
     "output_type": "display_data"
    },
    {
     "data": {
      "application/vnd.jupyter.widget-view+json": {
       "model_id": "",
       "version_major": 2,
       "version_minor": 0
      },
      "text/plain": [
       "Validation: |                                                                                    | 0/? [00:00<…"
      ]
     },
     "metadata": {},
     "output_type": "display_data"
    },
    {
     "data": {
      "application/vnd.jupyter.widget-view+json": {
       "model_id": "",
       "version_major": 2,
       "version_minor": 0
      },
      "text/plain": [
       "Validation: |                                                                                    | 0/? [00:00<…"
      ]
     },
     "metadata": {},
     "output_type": "display_data"
    },
    {
     "data": {
      "application/vnd.jupyter.widget-view+json": {
       "model_id": "",
       "version_major": 2,
       "version_minor": 0
      },
      "text/plain": [
       "Validation: |                                                                                    | 0/? [00:00<…"
      ]
     },
     "metadata": {},
     "output_type": "display_data"
    },
    {
     "data": {
      "application/vnd.jupyter.widget-view+json": {
       "model_id": "",
       "version_major": 2,
       "version_minor": 0
      },
      "text/plain": [
       "Validation: |                                                                                    | 0/? [00:00<…"
      ]
     },
     "metadata": {},
     "output_type": "display_data"
    },
    {
     "data": {
      "application/vnd.jupyter.widget-view+json": {
       "model_id": "",
       "version_major": 2,
       "version_minor": 0
      },
      "text/plain": [
       "Validation: |                                                                                    | 0/? [00:00<…"
      ]
     },
     "metadata": {},
     "output_type": "display_data"
    },
    {
     "data": {
      "application/vnd.jupyter.widget-view+json": {
       "model_id": "",
       "version_major": 2,
       "version_minor": 0
      },
      "text/plain": [
       "Validation: |                                                                                    | 0/? [00:00<…"
      ]
     },
     "metadata": {},
     "output_type": "display_data"
    },
    {
     "data": {
      "application/vnd.jupyter.widget-view+json": {
       "model_id": "",
       "version_major": 2,
       "version_minor": 0
      },
      "text/plain": [
       "Validation: |                                                                                    | 0/? [00:00<…"
      ]
     },
     "metadata": {},
     "output_type": "display_data"
    },
    {
     "data": {
      "application/vnd.jupyter.widget-view+json": {
       "model_id": "",
       "version_major": 2,
       "version_minor": 0
      },
      "text/plain": [
       "Validation: |                                                                                    | 0/? [00:00<…"
      ]
     },
     "metadata": {},
     "output_type": "display_data"
    },
    {
     "data": {
      "application/vnd.jupyter.widget-view+json": {
       "model_id": "",
       "version_major": 2,
       "version_minor": 0
      },
      "text/plain": [
       "Validation: |                                                                                    | 0/? [00:00<…"
      ]
     },
     "metadata": {},
     "output_type": "display_data"
    },
    {
     "data": {
      "application/vnd.jupyter.widget-view+json": {
       "model_id": "",
       "version_major": 2,
       "version_minor": 0
      },
      "text/plain": [
       "Validation: |                                                                                    | 0/? [00:00<…"
      ]
     },
     "metadata": {},
     "output_type": "display_data"
    },
    {
     "data": {
      "application/vnd.jupyter.widget-view+json": {
       "model_id": "",
       "version_major": 2,
       "version_minor": 0
      },
      "text/plain": [
       "Validation: |                                                                                    | 0/? [00:00<…"
      ]
     },
     "metadata": {},
     "output_type": "display_data"
    },
    {
     "data": {
      "application/vnd.jupyter.widget-view+json": {
       "model_id": "",
       "version_major": 2,
       "version_minor": 0
      },
      "text/plain": [
       "Validation: |                                                                                    | 0/? [00:00<…"
      ]
     },
     "metadata": {},
     "output_type": "display_data"
    },
    {
     "data": {
      "application/vnd.jupyter.widget-view+json": {
       "model_id": "",
       "version_major": 2,
       "version_minor": 0
      },
      "text/plain": [
       "Validation: |                                                                                    | 0/? [00:00<…"
      ]
     },
     "metadata": {},
     "output_type": "display_data"
    },
    {
     "data": {
      "application/vnd.jupyter.widget-view+json": {
       "model_id": "",
       "version_major": 2,
       "version_minor": 0
      },
      "text/plain": [
       "Validation: |                                                                                    | 0/? [00:00<…"
      ]
     },
     "metadata": {},
     "output_type": "display_data"
    },
    {
     "data": {
      "application/vnd.jupyter.widget-view+json": {
       "model_id": "",
       "version_major": 2,
       "version_minor": 0
      },
      "text/plain": [
       "Validation: |                                                                                    | 0/? [00:00<…"
      ]
     },
     "metadata": {},
     "output_type": "display_data"
    },
    {
     "data": {
      "application/vnd.jupyter.widget-view+json": {
       "model_id": "",
       "version_major": 2,
       "version_minor": 0
      },
      "text/plain": [
       "Validation: |                                                                                    | 0/? [00:00<…"
      ]
     },
     "metadata": {},
     "output_type": "display_data"
    },
    {
     "data": {
      "application/vnd.jupyter.widget-view+json": {
       "model_id": "",
       "version_major": 2,
       "version_minor": 0
      },
      "text/plain": [
       "Validation: |                                                                                    | 0/? [00:00<…"
      ]
     },
     "metadata": {},
     "output_type": "display_data"
    },
    {
     "data": {
      "application/vnd.jupyter.widget-view+json": {
       "model_id": "",
       "version_major": 2,
       "version_minor": 0
      },
      "text/plain": [
       "Validation: |                                                                                    | 0/? [00:00<…"
      ]
     },
     "metadata": {},
     "output_type": "display_data"
    },
    {
     "data": {
      "application/vnd.jupyter.widget-view+json": {
       "model_id": "",
       "version_major": 2,
       "version_minor": 0
      },
      "text/plain": [
       "Validation: |                                                                                    | 0/? [00:00<…"
      ]
     },
     "metadata": {},
     "output_type": "display_data"
    },
    {
     "data": {
      "application/vnd.jupyter.widget-view+json": {
       "model_id": "",
       "version_major": 2,
       "version_minor": 0
      },
      "text/plain": [
       "Validation: |                                                                                    | 0/? [00:00<…"
      ]
     },
     "metadata": {},
     "output_type": "display_data"
    },
    {
     "data": {
      "application/vnd.jupyter.widget-view+json": {
       "model_id": "",
       "version_major": 2,
       "version_minor": 0
      },
      "text/plain": [
       "Validation: |                                                                                    | 0/? [00:00<…"
      ]
     },
     "metadata": {},
     "output_type": "display_data"
    },
    {
     "data": {
      "application/vnd.jupyter.widget-view+json": {
       "model_id": "",
       "version_major": 2,
       "version_minor": 0
      },
      "text/plain": [
       "Validation: |                                                                                    | 0/? [00:00<…"
      ]
     },
     "metadata": {},
     "output_type": "display_data"
    },
    {
     "data": {
      "application/vnd.jupyter.widget-view+json": {
       "model_id": "",
       "version_major": 2,
       "version_minor": 0
      },
      "text/plain": [
       "Validation: |                                                                                    | 0/? [00:00<…"
      ]
     },
     "metadata": {},
     "output_type": "display_data"
    },
    {
     "data": {
      "application/vnd.jupyter.widget-view+json": {
       "model_id": "",
       "version_major": 2,
       "version_minor": 0
      },
      "text/plain": [
       "Validation: |                                                                                    | 0/? [00:00<…"
      ]
     },
     "metadata": {},
     "output_type": "display_data"
    },
    {
     "data": {
      "application/vnd.jupyter.widget-view+json": {
       "model_id": "",
       "version_major": 2,
       "version_minor": 0
      },
      "text/plain": [
       "Validation: |                                                                                    | 0/? [00:00<…"
      ]
     },
     "metadata": {},
     "output_type": "display_data"
    },
    {
     "data": {
      "application/vnd.jupyter.widget-view+json": {
       "model_id": "",
       "version_major": 2,
       "version_minor": 0
      },
      "text/plain": [
       "Validation: |                                                                                    | 0/? [00:00<…"
      ]
     },
     "metadata": {},
     "output_type": "display_data"
    },
    {
     "data": {
      "application/vnd.jupyter.widget-view+json": {
       "model_id": "",
       "version_major": 2,
       "version_minor": 0
      },
      "text/plain": [
       "Validation: |                                                                                    | 0/? [00:00<…"
      ]
     },
     "metadata": {},
     "output_type": "display_data"
    },
    {
     "data": {
      "application/vnd.jupyter.widget-view+json": {
       "model_id": "",
       "version_major": 2,
       "version_minor": 0
      },
      "text/plain": [
       "Validation: |                                                                                    | 0/? [00:00<…"
      ]
     },
     "metadata": {},
     "output_type": "display_data"
    },
    {
     "data": {
      "application/vnd.jupyter.widget-view+json": {
       "model_id": "",
       "version_major": 2,
       "version_minor": 0
      },
      "text/plain": [
       "Validation: |                                                                                    | 0/? [00:00<…"
      ]
     },
     "metadata": {},
     "output_type": "display_data"
    },
    {
     "data": {
      "application/vnd.jupyter.widget-view+json": {
       "model_id": "",
       "version_major": 2,
       "version_minor": 0
      },
      "text/plain": [
       "Validation: |                                                                                    | 0/? [00:00<…"
      ]
     },
     "metadata": {},
     "output_type": "display_data"
    },
    {
     "data": {
      "application/vnd.jupyter.widget-view+json": {
       "model_id": "",
       "version_major": 2,
       "version_minor": 0
      },
      "text/plain": [
       "Validation: |                                                                                    | 0/? [00:00<…"
      ]
     },
     "metadata": {},
     "output_type": "display_data"
    },
    {
     "data": {
      "application/vnd.jupyter.widget-view+json": {
       "model_id": "",
       "version_major": 2,
       "version_minor": 0
      },
      "text/plain": [
       "Validation: |                                                                                    | 0/? [00:00<…"
      ]
     },
     "metadata": {},
     "output_type": "display_data"
    },
    {
     "data": {
      "application/vnd.jupyter.widget-view+json": {
       "model_id": "",
       "version_major": 2,
       "version_minor": 0
      },
      "text/plain": [
       "Validation: |                                                                                    | 0/? [00:00<…"
      ]
     },
     "metadata": {},
     "output_type": "display_data"
    },
    {
     "data": {
      "application/vnd.jupyter.widget-view+json": {
       "model_id": "",
       "version_major": 2,
       "version_minor": 0
      },
      "text/plain": [
       "Validation: |                                                                                    | 0/? [00:00<…"
      ]
     },
     "metadata": {},
     "output_type": "display_data"
    },
    {
     "data": {
      "application/vnd.jupyter.widget-view+json": {
       "model_id": "",
       "version_major": 2,
       "version_minor": 0
      },
      "text/plain": [
       "Validation: |                                                                                    | 0/? [00:00<…"
      ]
     },
     "metadata": {},
     "output_type": "display_data"
    },
    {
     "data": {
      "application/vnd.jupyter.widget-view+json": {
       "model_id": "",
       "version_major": 2,
       "version_minor": 0
      },
      "text/plain": [
       "Validation: |                                                                                    | 0/? [00:00<…"
      ]
     },
     "metadata": {},
     "output_type": "display_data"
    },
    {
     "data": {
      "application/vnd.jupyter.widget-view+json": {
       "model_id": "",
       "version_major": 2,
       "version_minor": 0
      },
      "text/plain": [
       "Validation: |                                                                                    | 0/? [00:00<…"
      ]
     },
     "metadata": {},
     "output_type": "display_data"
    },
    {
     "data": {
      "application/vnd.jupyter.widget-view+json": {
       "model_id": "",
       "version_major": 2,
       "version_minor": 0
      },
      "text/plain": [
       "Validation: |                                                                                    | 0/? [00:00<…"
      ]
     },
     "metadata": {},
     "output_type": "display_data"
    },
    {
     "data": {
      "application/vnd.jupyter.widget-view+json": {
       "model_id": "",
       "version_major": 2,
       "version_minor": 0
      },
      "text/plain": [
       "Validation: |                                                                                    | 0/? [00:00<…"
      ]
     },
     "metadata": {},
     "output_type": "display_data"
    },
    {
     "data": {
      "application/vnd.jupyter.widget-view+json": {
       "model_id": "",
       "version_major": 2,
       "version_minor": 0
      },
      "text/plain": [
       "Validation: |                                                                                    | 0/? [00:00<…"
      ]
     },
     "metadata": {},
     "output_type": "display_data"
    },
    {
     "data": {
      "application/vnd.jupyter.widget-view+json": {
       "model_id": "",
       "version_major": 2,
       "version_minor": 0
      },
      "text/plain": [
       "Validation: |                                                                                    | 0/? [00:00<…"
      ]
     },
     "metadata": {},
     "output_type": "display_data"
    },
    {
     "data": {
      "application/vnd.jupyter.widget-view+json": {
       "model_id": "",
       "version_major": 2,
       "version_minor": 0
      },
      "text/plain": [
       "Validation: |                                                                                    | 0/? [00:00<…"
      ]
     },
     "metadata": {},
     "output_type": "display_data"
    },
    {
     "data": {
      "application/vnd.jupyter.widget-view+json": {
       "model_id": "",
       "version_major": 2,
       "version_minor": 0
      },
      "text/plain": [
       "Validation: |                                                                                    | 0/? [00:00<…"
      ]
     },
     "metadata": {},
     "output_type": "display_data"
    },
    {
     "data": {
      "application/vnd.jupyter.widget-view+json": {
       "model_id": "0b0e3672ad864fad8218d07e85f3558c",
       "version_major": 2,
       "version_minor": 0
      },
      "text/plain": [
       "Validation: |                                                                                    | 0/? [00:00<…"
      ]
     },
     "metadata": {},
     "output_type": "display_data"
    },
    {
     "data": {
      "application/vnd.jupyter.widget-view+json": {
       "model_id": "101bc96ef57c42c3bdb4b9db13e75c02",
       "version_major": 2,
       "version_minor": 0
      },
      "text/plain": [
       "Validation: |                                                                                    | 0/? [00:00<…"
      ]
     },
     "metadata": {},
     "output_type": "display_data"
    },
    {
     "data": {
      "application/vnd.jupyter.widget-view+json": {
       "model_id": "d956b5df4fb94f8682593ec3d75a0c9d",
       "version_major": 2,
       "version_minor": 0
      },
      "text/plain": [
       "Validation: |                                                                                    | 0/? [00:00<…"
      ]
     },
     "metadata": {},
     "output_type": "display_data"
    },
    {
     "data": {
      "application/vnd.jupyter.widget-view+json": {
       "model_id": "d0ed5890042d463395318eea6a2a14c6",
       "version_major": 2,
       "version_minor": 0
      },
      "text/plain": [
       "Validation: |                                                                                    | 0/? [00:00<…"
      ]
     },
     "metadata": {},
     "output_type": "display_data"
    },
    {
     "data": {
      "application/vnd.jupyter.widget-view+json": {
       "model_id": "30c2a09f8e094bdda32c63413af98a7a",
       "version_major": 2,
       "version_minor": 0
      },
      "text/plain": [
       "Validation: |                                                                                    | 0/? [00:00<…"
      ]
     },
     "metadata": {},
     "output_type": "display_data"
    },
    {
     "data": {
      "application/vnd.jupyter.widget-view+json": {
       "model_id": "3a5c5f0989da466c88c17f7de31c5deb",
       "version_major": 2,
       "version_minor": 0
      },
      "text/plain": [
       "Validation: |                                                                                    | 0/? [00:00<…"
      ]
     },
     "metadata": {},
     "output_type": "display_data"
    },
    {
     "data": {
      "application/vnd.jupyter.widget-view+json": {
       "model_id": "e450c155423b4f59bfcf63c2b9059424",
       "version_major": 2,
       "version_minor": 0
      },
      "text/plain": [
       "Validation: |                                                                                    | 0/? [00:00<…"
      ]
     },
     "metadata": {},
     "output_type": "display_data"
    },
    {
     "data": {
      "application/vnd.jupyter.widget-view+json": {
       "model_id": "2d61161679bb467785ae28de8ac880d2",
       "version_major": 2,
       "version_minor": 0
      },
      "text/plain": [
       "Validation: |                                                                                    | 0/? [00:00<…"
      ]
     },
     "metadata": {},
     "output_type": "display_data"
    },
    {
     "data": {
      "application/vnd.jupyter.widget-view+json": {
       "model_id": "6412c28f87174987b0ae656378941804",
       "version_major": 2,
       "version_minor": 0
      },
      "text/plain": [
       "Validation: |                                                                                    | 0/? [00:00<…"
      ]
     },
     "metadata": {},
     "output_type": "display_data"
    },
    {
     "data": {
      "application/vnd.jupyter.widget-view+json": {
       "model_id": "8b2e02e26f2049f8a2402bc8bae15506",
       "version_major": 2,
       "version_minor": 0
      },
      "text/plain": [
       "Validation: |                                                                                    | 0/? [00:00<…"
      ]
     },
     "metadata": {},
     "output_type": "display_data"
    },
    {
     "data": {
      "application/vnd.jupyter.widget-view+json": {
       "model_id": "dfec87dc7f75407e80193f34dfe869c7",
       "version_major": 2,
       "version_minor": 0
      },
      "text/plain": [
       "Validation: |                                                                                    | 0/? [00:00<…"
      ]
     },
     "metadata": {},
     "output_type": "display_data"
    },
    {
     "data": {
      "application/vnd.jupyter.widget-view+json": {
       "model_id": "6ab4e74c977a46899023d8852b5e74ea",
       "version_major": 2,
       "version_minor": 0
      },
      "text/plain": [
       "Validation: |                                                                                    | 0/? [00:00<…"
      ]
     },
     "metadata": {},
     "output_type": "display_data"
    },
    {
     "data": {
      "application/vnd.jupyter.widget-view+json": {
       "model_id": "3141010800c349949f8fad26dfe4d873",
       "version_major": 2,
       "version_minor": 0
      },
      "text/plain": [
       "Validation: |                                                                                    | 0/? [00:00<…"
      ]
     },
     "metadata": {},
     "output_type": "display_data"
    },
    {
     "data": {
      "application/vnd.jupyter.widget-view+json": {
       "model_id": "390097b6d55f440c9663ae18b6c2c2c4",
       "version_major": 2,
       "version_minor": 0
      },
      "text/plain": [
       "Validation: |                                                                                    | 0/? [00:00<…"
      ]
     },
     "metadata": {},
     "output_type": "display_data"
    },
    {
     "data": {
      "application/vnd.jupyter.widget-view+json": {
       "model_id": "596ae5158f694bce95a4ecfd80401013",
       "version_major": 2,
       "version_minor": 0
      },
      "text/plain": [
       "Validation: |                                                                                    | 0/? [00:00<…"
      ]
     },
     "metadata": {},
     "output_type": "display_data"
    },
    {
     "data": {
      "application/vnd.jupyter.widget-view+json": {
       "model_id": "27af3c10f39b4297831d0718b679d580",
       "version_major": 2,
       "version_minor": 0
      },
      "text/plain": [
       "Validation: |                                                                                    | 0/? [00:00<…"
      ]
     },
     "metadata": {},
     "output_type": "display_data"
    },
    {
     "data": {
      "application/vnd.jupyter.widget-view+json": {
       "model_id": "61fec2dd392f476d946f12fccbd482a7",
       "version_major": 2,
       "version_minor": 0
      },
      "text/plain": [
       "Validation: |                                                                                    | 0/? [00:00<…"
      ]
     },
     "metadata": {},
     "output_type": "display_data"
    },
    {
     "data": {
      "application/vnd.jupyter.widget-view+json": {
       "model_id": "e7f823adc3b04202883e94ae172d28c5",
       "version_major": 2,
       "version_minor": 0
      },
      "text/plain": [
       "Validation: |                                                                                    | 0/? [00:00<…"
      ]
     },
     "metadata": {},
     "output_type": "display_data"
    },
    {
     "data": {
      "application/vnd.jupyter.widget-view+json": {
       "model_id": "977ab05412474c55916e4ca7999627f4",
       "version_major": 2,
       "version_minor": 0
      },
      "text/plain": [
       "Validation: |                                                                                    | 0/? [00:00<…"
      ]
     },
     "metadata": {},
     "output_type": "display_data"
    },
    {
     "data": {
      "application/vnd.jupyter.widget-view+json": {
       "model_id": "3bd8f075f3fc4130bc9ab32ad82a4f3f",
       "version_major": 2,
       "version_minor": 0
      },
      "text/plain": [
       "Validation: |                                                                                    | 0/? [00:00<…"
      ]
     },
     "metadata": {},
     "output_type": "display_data"
    },
    {
     "data": {
      "application/vnd.jupyter.widget-view+json": {
       "model_id": "b4859e9ad8c84f13b2a3c4bd4b25b82b",
       "version_major": 2,
       "version_minor": 0
      },
      "text/plain": [
       "Validation: |                                                                                    | 0/? [00:00<…"
      ]
     },
     "metadata": {},
     "output_type": "display_data"
    },
    {
     "data": {
      "application/vnd.jupyter.widget-view+json": {
       "model_id": "04deea553ccb493c883de845d0cfc216",
       "version_major": 2,
       "version_minor": 0
      },
      "text/plain": [
       "Validation: |                                                                                    | 0/? [00:00<…"
      ]
     },
     "metadata": {},
     "output_type": "display_data"
    },
    {
     "data": {
      "application/vnd.jupyter.widget-view+json": {
       "model_id": "7b533f4cfb1d4542b8f322fa2dcda554",
       "version_major": 2,
       "version_minor": 0
      },
      "text/plain": [
       "Validation: |                                                                                    | 0/? [00:00<…"
      ]
     },
     "metadata": {},
     "output_type": "display_data"
    },
    {
     "data": {
      "application/vnd.jupyter.widget-view+json": {
       "model_id": "54adc36436ff4bd6b4349775bcb6b6de",
       "version_major": 2,
       "version_minor": 0
      },
      "text/plain": [
       "Validation: |                                                                                    | 0/? [00:00<…"
      ]
     },
     "metadata": {},
     "output_type": "display_data"
    },
    {
     "data": {
      "application/vnd.jupyter.widget-view+json": {
       "model_id": "4a842f1ae02f42d6a829052c5a365f3e",
       "version_major": 2,
       "version_minor": 0
      },
      "text/plain": [
       "Validation: |                                                                                    | 0/? [00:00<…"
      ]
     },
     "metadata": {},
     "output_type": "display_data"
    },
    {
     "data": {
      "application/vnd.jupyter.widget-view+json": {
       "model_id": "2622fd5cfa12478bbee8c128da6ce188",
       "version_major": 2,
       "version_minor": 0
      },
      "text/plain": [
       "Validation: |                                                                                    | 0/? [00:00<…"
      ]
     },
     "metadata": {},
     "output_type": "display_data"
    },
    {
     "data": {
      "application/vnd.jupyter.widget-view+json": {
       "model_id": "52de56954f7b4bbeaf66bc296eda4020",
       "version_major": 2,
       "version_minor": 0
      },
      "text/plain": [
       "Validation: |                                                                                    | 0/? [00:00<…"
      ]
     },
     "metadata": {},
     "output_type": "display_data"
    },
    {
     "data": {
      "application/vnd.jupyter.widget-view+json": {
       "model_id": "aab32bcb9a6f41cf8b82726af84118c5",
       "version_major": 2,
       "version_minor": 0
      },
      "text/plain": [
       "Validation: |                                                                                    | 0/? [00:00<…"
      ]
     },
     "metadata": {},
     "output_type": "display_data"
    },
    {
     "data": {
      "application/vnd.jupyter.widget-view+json": {
       "model_id": "dff9666f5e134dbb88321592c68b9d34",
       "version_major": 2,
       "version_minor": 0
      },
      "text/plain": [
       "Validation: |                                                                                    | 0/? [00:00<…"
      ]
     },
     "metadata": {},
     "output_type": "display_data"
    },
    {
     "data": {
      "application/vnd.jupyter.widget-view+json": {
       "model_id": "24f8bf73cb69485898fde3d083851201",
       "version_major": 2,
       "version_minor": 0
      },
      "text/plain": [
       "Validation: |                                                                                    | 0/? [00:00<…"
      ]
     },
     "metadata": {},
     "output_type": "display_data"
    },
    {
     "data": {
      "application/vnd.jupyter.widget-view+json": {
       "model_id": "04919f002c774456945e9b0158de3ee6",
       "version_major": 2,
       "version_minor": 0
      },
      "text/plain": [
       "Validation: |                                                                                    | 0/? [00:00<…"
      ]
     },
     "metadata": {},
     "output_type": "display_data"
    },
    {
     "data": {
      "application/vnd.jupyter.widget-view+json": {
       "model_id": "5c34996c4dd74f44b55c78bc3c3a589e",
       "version_major": 2,
       "version_minor": 0
      },
      "text/plain": [
       "Validation: |                                                                                    | 0/? [00:00<…"
      ]
     },
     "metadata": {},
     "output_type": "display_data"
    },
    {
     "data": {
      "application/vnd.jupyter.widget-view+json": {
       "model_id": "a735b41a1f0b4d809995a8f5f0180178",
       "version_major": 2,
       "version_minor": 0
      },
      "text/plain": [
       "Validation: |                                                                                    | 0/? [00:00<…"
      ]
     },
     "metadata": {},
     "output_type": "display_data"
    },
    {
     "data": {
      "application/vnd.jupyter.widget-view+json": {
       "model_id": "eaaa682d5e84428ca98d5a5a0efe2ca9",
       "version_major": 2,
       "version_minor": 0
      },
      "text/plain": [
       "Validation: |                                                                                    | 0/? [00:00<…"
      ]
     },
     "metadata": {},
     "output_type": "display_data"
    },
    {
     "data": {
      "application/vnd.jupyter.widget-view+json": {
       "model_id": "4530c76ae0444b70a38fd444c5aa1dad",
       "version_major": 2,
       "version_minor": 0
      },
      "text/plain": [
       "Validation: |                                                                                    | 0/? [00:00<…"
      ]
     },
     "metadata": {},
     "output_type": "display_data"
    },
    {
     "data": {
      "application/vnd.jupyter.widget-view+json": {
       "model_id": "2a909883dabc4b6f81d2dc4e9a339730",
       "version_major": 2,
       "version_minor": 0
      },
      "text/plain": [
       "Validation: |                                                                                    | 0/? [00:00<…"
      ]
     },
     "metadata": {},
     "output_type": "display_data"
    },
    {
     "data": {
      "application/vnd.jupyter.widget-view+json": {
       "model_id": "038c4e38cd05402e8fb54f4774c74da2",
       "version_major": 2,
       "version_minor": 0
      },
      "text/plain": [
       "Validation: |                                                                                    | 0/? [00:00<…"
      ]
     },
     "metadata": {},
     "output_type": "display_data"
    },
    {
     "data": {
      "application/vnd.jupyter.widget-view+json": {
       "model_id": "b434db434c9343f4b7c1aecb94edc44d",
       "version_major": 2,
       "version_minor": 0
      },
      "text/plain": [
       "Validation: |                                                                                    | 0/? [00:00<…"
      ]
     },
     "metadata": {},
     "output_type": "display_data"
    },
    {
     "data": {
      "application/vnd.jupyter.widget-view+json": {
       "model_id": "ab4dc4666b16408c86f26433422abc5f",
       "version_major": 2,
       "version_minor": 0
      },
      "text/plain": [
       "Validation: |                                                                                    | 0/? [00:00<…"
      ]
     },
     "metadata": {},
     "output_type": "display_data"
    },
    {
     "data": {
      "application/vnd.jupyter.widget-view+json": {
       "model_id": "ab94801ebf9f4f2c91522d26b3dd8038",
       "version_major": 2,
       "version_minor": 0
      },
      "text/plain": [
       "Validation: |                                                                                    | 0/? [00:00<…"
      ]
     },
     "metadata": {},
     "output_type": "display_data"
    },
    {
     "data": {
      "application/vnd.jupyter.widget-view+json": {
       "model_id": "2d9108c97c2b485cba9b4a7178d32548",
       "version_major": 2,
       "version_minor": 0
      },
      "text/plain": [
       "Validation: |                                                                                    | 0/? [00:00<…"
      ]
     },
     "metadata": {},
     "output_type": "display_data"
    },
    {
     "data": {
      "application/vnd.jupyter.widget-view+json": {
       "model_id": "6dfc69ab8bd547b193face4da8a86f17",
       "version_major": 2,
       "version_minor": 0
      },
      "text/plain": [
       "Validation: |                                                                                    | 0/? [00:00<…"
      ]
     },
     "metadata": {},
     "output_type": "display_data"
    },
    {
     "data": {
      "application/vnd.jupyter.widget-view+json": {
       "model_id": "ab526e3802e547b7ab02353ec788f098",
       "version_major": 2,
       "version_minor": 0
      },
      "text/plain": [
       "Validation: |                                                                                    | 0/? [00:00<…"
      ]
     },
     "metadata": {},
     "output_type": "display_data"
    },
    {
     "data": {
      "application/vnd.jupyter.widget-view+json": {
       "model_id": "ca6a3daaa3064c05b1b55617059c5b28",
       "version_major": 2,
       "version_minor": 0
      },
      "text/plain": [
       "Validation: |                                                                                    | 0/? [00:00<…"
      ]
     },
     "metadata": {},
     "output_type": "display_data"
    },
    {
     "data": {
      "application/vnd.jupyter.widget-view+json": {
       "model_id": "7ee4ab8f72914e62aa61bee660c2fd95",
       "version_major": 2,
       "version_minor": 0
      },
      "text/plain": [
       "Validation: |                                                                                    | 0/? [00:00<…"
      ]
     },
     "metadata": {},
     "output_type": "display_data"
    },
    {
     "data": {
      "application/vnd.jupyter.widget-view+json": {
       "model_id": "3f0ad4f2de334db2b2a99cdf3fbaafb1",
       "version_major": 2,
       "version_minor": 0
      },
      "text/plain": [
       "Validation: |                                                                                    | 0/? [00:00<…"
      ]
     },
     "metadata": {},
     "output_type": "display_data"
    },
    {
     "data": {
      "application/vnd.jupyter.widget-view+json": {
       "model_id": "406dbdfedeab4cd29c38b7f2410daae7",
       "version_major": 2,
       "version_minor": 0
      },
      "text/plain": [
       "Validation: |                                                                                    | 0/? [00:00<…"
      ]
     },
     "metadata": {},
     "output_type": "display_data"
    },
    {
     "data": {
      "application/vnd.jupyter.widget-view+json": {
       "model_id": "4ef48bb3aa5c4350b8ffe611aba26394",
       "version_major": 2,
       "version_minor": 0
      },
      "text/plain": [
       "Validation: |                                                                                    | 0/? [00:00<…"
      ]
     },
     "metadata": {},
     "output_type": "display_data"
    },
    {
     "data": {
      "application/vnd.jupyter.widget-view+json": {
       "model_id": "4db585cf0d204a00a271cd14fbc521b3",
       "version_major": 2,
       "version_minor": 0
      },
      "text/plain": [
       "Validation: |                                                                                    | 0/? [00:00<…"
      ]
     },
     "metadata": {},
     "output_type": "display_data"
    },
    {
     "data": {
      "application/vnd.jupyter.widget-view+json": {
       "model_id": "67a6c4ee9808493184d25fe77b85c515",
       "version_major": 2,
       "version_minor": 0
      },
      "text/plain": [
       "Validation: |                                                                                    | 0/? [00:00<…"
      ]
     },
     "metadata": {},
     "output_type": "display_data"
    },
    {
     "data": {
      "application/vnd.jupyter.widget-view+json": {
       "model_id": "3cbacba6ed8c450db15da98dadf08700",
       "version_major": 2,
       "version_minor": 0
      },
      "text/plain": [
       "Validation: |                                                                                    | 0/? [00:00<…"
      ]
     },
     "metadata": {},
     "output_type": "display_data"
    },
    {
     "data": {
      "application/vnd.jupyter.widget-view+json": {
       "model_id": "85f213e6fb1f4a4398d88c29873016c8",
       "version_major": 2,
       "version_minor": 0
      },
      "text/plain": [
       "Validation: |                                                                                    | 0/? [00:00<…"
      ]
     },
     "metadata": {},
     "output_type": "display_data"
    },
    {
     "data": {
      "application/vnd.jupyter.widget-view+json": {
       "model_id": "094c28de14324af4b35a27c275bc1409",
       "version_major": 2,
       "version_minor": 0
      },
      "text/plain": [
       "Validation: |                                                                                    | 0/? [00:00<…"
      ]
     },
     "metadata": {},
     "output_type": "display_data"
    },
    {
     "data": {
      "application/vnd.jupyter.widget-view+json": {
       "model_id": "095da0e1afbc4734a777334afc535e89",
       "version_major": 2,
       "version_minor": 0
      },
      "text/plain": [
       "Validation: |                                                                                    | 0/? [00:00<…"
      ]
     },
     "metadata": {},
     "output_type": "display_data"
    },
    {
     "name": "stderr",
     "output_type": "stream",
     "text": [
      "`Trainer.fit` stopped: `max_epochs=100` reached.\n"
     ]
    }
   ],
   "source": [
    "treinador.fit(minha_MLP, dm)"
   ]
  },
  {
   "cell_type": "markdown",
   "id": "22dd96b0-05d9-46bb-aec2-32dd81037b14",
   "metadata": {
    "tags": []
   },
   "source": [
    "### Compreendendo a Rede Neural"
   ]
  },
  {
   "cell_type": "markdown",
   "id": "b238c6dc-3854-417b-bd17-29881f5c8e94",
   "metadata": {},
   "source": [
    "Os modelos de previsão, como as Redes Neurais têm que ser treinados e testados. Um ótimo modelo tem baixo erro (loss) em seu treino pois ele consegue ajustar-se bem ao seu daframe de treino e baixo erro usando dados fora do daframe de treino, pois ele consegue acertar dados que ele não obteve na hora de treinar. Então, ao passar das épocas, espera-se que o modelo diminua o erro tanto no treino, quanto na validação, porém que a curva de validação esteja acima da curva de teste, pois, esperamos que ele erre mais na hora de aplicar um modelo para uma molécula que ele nunca \"viu\".[<sup>[6]</sup>](https://www.youtube.com/watch?v=nt5DwCuYY5c&t=288s)[<sup>[7]</sup>](https://www.youtube.com/watch?v=p3CcfIjycBA&t=762s) É o que percebemos com o nosso modelo com o plot a seguir utilizando a biblioteca `matplotlib`."
   ]
  },
  {
   "cell_type": "code",
   "execution_count": 15,
   "id": "969783cb-9f44-40af-939a-8d2e30d30942",
   "metadata": {},
   "outputs": [
    {
     "data": {
      "image/png": "[encoded data removed]",
      "text/plain": [
       "<Figure size 640x480 with 1 Axes>"
      ]
     },
     "metadata": {},
     "output_type": "display_data"
    }
   ],
   "source": [
    "# Plotando a curva de aprendizado\n",
    "\n",
    "figura, eixo = plt.subplots()\n",
    "\n",
    "ca_treino = minha_MLP.curva_aprendizado_treino\n",
    "ca_val = minha_MLP.curva_aprendizado_val\n",
    "\n",
    "eixo.plot(ca_treino, label=\"Treino\")\n",
    "eixo.plot(ca_val, label=\"Validação\")\n",
    "\n",
    "eixo.legend()\n",
    "\n",
    "eixo.set_xlim(left=0)\n",
    "\n",
    "eixo.set_title(\"Curva de aprendizado\")\n",
    "eixo.set_xlabel(\"Época\")\n",
    "eixo.set_ylabel(\"Loss\");"
   ]
  },
  {
   "cell_type": "markdown",
   "id": "f29ff5db-34c9-4a01-b275-f5f81f605310",
   "metadata": {},
   "source": [
    "Primeiro, com `minha_MLP.eval()` interrompemos operações de treinamento e coloca o modelo em modo de teste. e com `with torch.no_grad()` desativamos o cálculo de gradientes para operações dentro deste bloco `with`, pois não há necessidade e melhora o desempenho computacional. Posteriormente, `inverse_transform()` invertemos a normalização do `y_true` e `y_pred` para os dados originais. Por fim, o cálculo da Raiz do Erro Quadrado Médio (do inglês, RMSE) foi utilizada como métrica das solubilidades previstas por esse modelo. O Print o RMSE é visto no código a seguir:"
   ]
  },
  {
   "cell_type": "code",
   "execution_count": 16,
   "id": "242b1923-1b09-4220-a77b-a033be303b77",
   "metadata": {},
   "outputs": [
    {
     "name": "stdout",
     "output_type": "stream",
     "text": [
      "1.0809028872471145\n"
     ]
    }
   ],
   "source": [
    "# Avaliando o modelo\n",
    "\n",
    "minha_MLP.eval()\n",
    "\n",
    "with torch.no_grad():\n",
    "    X_true = X_teste\n",
    "\n",
    "    y_true = y_teste\n",
    "    y_true = y_scaler.inverse_transform(y_true)\n",
    "\n",
    "    y_pred = minha_MLP(X_true)\n",
    "    y_pred = y_scaler.inverse_transform(y_pred)\n",
    "\n",
    "    RMSE = mean_squared_error(y_true, y_pred, squared=False)\n",
    "\n",
    "    print(RMSE)"
   ]
  },
  {
   "cell_type": "markdown",
   "id": "40fd3f54-a0b2-408f-bcef-4d818f25c669",
   "metadata": {},
   "source": [
    "Por fim, podemos ver a dispersão desses dados com o plot do gráfico."
   ]
  },
  {
   "cell_type": "code",
   "execution_count": 17,
   "id": "3c3350c3-33bd-4378-90a4-4adb68db0237",
   "metadata": {},
   "outputs": [
    {
     "data": {
      "image/png": "[encoded data removed]",
      "text/plain": [
       "<Figure size 640x480 with 1 Axes>"
      ]
     },
     "metadata": {},
     "output_type": "display_data"
    }
   ],
   "source": [
    "# Gráfico de previsto x verdadeiro\n",
    "\n",
    "plt.plot(y_pred, y_true,\"*\")\n",
    "\n",
    "min_valor = min([y_true.min(),y_pred.min()])\n",
    "max_valor = max([y_true.max(),y_pred.max()])\n",
    "\n",
    "\n",
    "plt.xlim(min_valor,max_valor)\n",
    "plt.ylim(min_valor,max_valor)\n",
    "plt.plot([min_valor,max_valor],[min_valor,max_valor],\"--\",color=\"pink\")\n",
    "plt.xlabel(\"Previsto\")\n",
    "plt.ylabel(\"Medido\")\n",
    "plt.show()"
   ]
  },
  {
   "cell_type": "markdown",
   "id": "8028e7c7-d8a5-4921-b59a-c39162e4e693",
   "metadata": {},
   "source": [
    "Neste gráfico, os valores medidos e previstos de logS são dados na unidade de mol/L."
   ]
  },
  {
   "cell_type": "markdown",
   "id": "bfa3cdac-428c-4f52-a75f-2e51d9599c55",
   "metadata": {
    "tags": []
   },
   "source": [
    "## Otimização MLP"
   ]
  },
  {
   "cell_type": "markdown",
   "id": "6fd4bd05-daf9-482c-b2bf-47b4eb0b1a4d",
   "metadata": {},
   "source": [
    "Usando a biblioteca `Optuna`, vamos otimizar os hiperparâmetros com uma abordagem que consiste em testar diferentes configurações para encontrar a melhor arquitetura possível usando os métodos dessa biblioteca especializada em otimização.[<sup>[8]</sup>](https://optuna.org/) Vamos testas 150 configurações diferentes de arquitetura, variando o número de camadas ocultas, neurônios por camada e taxa de aprendizado, e procura minimizar a perda de validação.\n",
    "\n",
    "Primeiro, definimos a função `objective` que recebe um objeto `trial` que é usado para sugerir hiperparâmetros aleatórios. Depois: `camadas = trial.suggest_int('num_camadas', 1, 5)` sugere o número de camadas entre 1 e 5; `hidden.append(trial.suggest_int(f'neuronios_c{i}', 4, 64))`, para cada camada oculta, sugere um número de neurônios entre 4 e 64; `learning_rate = trial.suggest_float('learning_rate', 1e-5, 1e-2)` sugere uma taxa de aprendizado entre 1e-5 e 1e-2.\n",
    "\n",
    "Além disso,`treinador = L.Trainer(max_epochs=200, callbacks=[EarlyStopping(monitor=\"val_loss\", mode=\"min\")])`\n",
    "esta parte da função inicializa um treinador de PyTorch Lightning com um máximo de 200 épocas e um **callback** de parada antecipada (EarlyStopping) para monitorar a perda de validação.\n",
    "\n",
    "Então, ciamos uma MLP, ainda dentro da função, com esses hiperparâmetros a serem escolhidos pelo Optuna: `minha_MLP = MLP(7, hidden, 1, learning_rate)` com treinamento `treinador.fit(minha_MLP, dm)` e, por fim, com return da perda de validação com `return treinador.callback_metrics[\"val_loss\"].item()`, que é usada pelo Optuna para otimizar os hiperparâmetros.\n",
    "\n",
    "Para execução da otimização `study = optuna.create_study(...)` cria um estudo de Optuna com o objetivo de minimizar a perda de validação com `minimize`. `study.optimize(objective, n_trials=150)` executa a otimização por 150 tentativas, testando diferentes hiperparâmetros.\n",
    "\n",
    "e como resultados, são printados `best_params = study.best_param` e `best_loss = study.best_value`"
   ]
  },
  {
   "cell_type": "code",
   "execution_count": 16,
   "id": "628d17f8-acb5-429a-a144-134f99485dd1",
   "metadata": {
    "tags": []
   },
   "outputs": [
    {
     "name": "stderr",
     "output_type": "stream",
     "text": [
      "c:\\Users\\guida\\anaconda3\\envs\\env_ic\\Lib\\site-packages\\tqdm\\auto.py:21: TqdmWarning: IProgress not found. Please update jupyter and ipywidgets. See https://ipywidgets.readthedocs.io/en/stable/user_install.html\n",
      "  from .autonotebook import tqdm as notebook_tqdm\n",
      "[I 2024-05-07 00:16:38,771] A new study created in RDB with name: Sol_study\n",
      "GPU available: True (cuda), used: True\n",
      "TPU available: False, using: 0 TPU cores\n",
      "IPU available: False, using: 0 IPUs\n",
      "HPU available: False, using: 0 HPUs\n",
      "LOCAL_RANK: 0 - CUDA_VISIBLE_DEVICES: [0]\n",
      "\n",
      "  | Name    | Type       | Params\n",
      "---------------------------------------\n",
      "0 | camadas | Sequential | 6.1 K \n",
      "---------------------------------------\n",
      "6.1 K     Trainable params\n",
      "0         Non-trainable params\n",
      "6.1 K     Total params\n",
      "0.024     Total estimated model params size (MB)\n"
     ]
    },
    {
     "name": "stdout",
     "output_type": "stream",
     "text": [
      "                                                                            "
     ]
    },
    {
     "name": "stderr",
     "output_type": "stream",
     "text": [
      "c:\\Users\\guida\\anaconda3\\envs\\env_ic\\Lib\\site-packages\\lightning\\pytorch\\loops\\fit_loop.py:298: The number of training batches (6) is smaller than the logging interval Trainer(log_every_n_steps=50). Set a lower value for log_every_n_steps if you want to see logs for the training epoch.\n"
     ]
    },
    {
     "name": "stdout",
     "output_type": "stream",
     "text": [
      "Epoch 28: 100%|██████████| 6/6 [00:00<00:00, 139.54it/s, v_num=1, loss=0.00817, val_loss=0.0109]\n"
     ]
    },
    {
     "name": "stderr",
     "output_type": "stream",
     "text": [
      "[I 2024-05-07 00:16:46,018] Trial 0 finished with value: 0.010919732041656971 and parameters: {'num_camadas': 3, 'neuronios_c0': 49, 'neuronios_c1': 62, 'neuronios_c2': 41, 'learning_rate': 0.004644243310200764}. Best is trial 0 with value: 0.010919732041656971.\n",
      "GPU available: True (cuda), used: True\n",
      "TPU available: False, using: 0 TPU cores\n",
      "IPU available: False, using: 0 IPUs\n",
      "HPU available: False, using: 0 HPUs\n",
      "LOCAL_RANK: 0 - CUDA_VISIBLE_DEVICES: [0]\n",
      "\n",
      "  | Name    | Type       | Params\n",
      "---------------------------------------\n",
      "0 | camadas | Sequential | 3.0 K \n",
      "---------------------------------------\n",
      "3.0 K     Trainable params\n",
      "0         Non-trainable params\n",
      "3.0 K     Total params\n",
      "0.012     Total estimated model params size (MB)\n"
     ]
    },
    {
     "name": "stdout",
     "output_type": "stream",
     "text": [
      "Epoch 59: 100%|██████████| 6/6 [00:00<00:00, 143.28it/s, v_num=2, loss=0.00664, val_loss=0.00875]\n"
     ]
    },
    {
     "name": "stderr",
     "output_type": "stream",
     "text": [
      "[I 2024-05-07 00:16:54,668] Trial 1 finished with value: 0.00875046942383051 and parameters: {'num_camadas': 3, 'neuronios_c0': 19, 'neuronios_c1': 55, 'neuronios_c2': 31, 'learning_rate': 0.0069910855070535}. Best is trial 1 with value: 0.00875046942383051.\n",
      "GPU available: True (cuda), used: True\n",
      "TPU available: False, using: 0 TPU cores\n",
      "IPU available: False, using: 0 IPUs\n",
      "HPU available: False, using: 0 HPUs\n",
      "LOCAL_RANK: 0 - CUDA_VISIBLE_DEVICES: [0]\n",
      "\n",
      "  | Name    | Type       | Params\n",
      "---------------------------------------\n",
      "0 | camadas | Sequential | 2.6 K \n",
      "---------------------------------------\n",
      "2.6 K     Trainable params\n",
      "0         Non-trainable params\n",
      "2.6 K     Total params\n",
      "0.010     Total estimated model params size (MB)\n"
     ]
    },
    {
     "name": "stdout",
     "output_type": "stream",
     "text": [
      "Epoch 13: 100%|██████████| 6/6 [00:00<00:00, 124.87it/s, v_num=3, loss=0.00966, val_loss=0.0145]\n"
     ]
    },
    {
     "name": "stderr",
     "output_type": "stream",
     "text": [
      "[I 2024-05-07 00:17:01,191] Trial 2 finished with value: 0.01453668624162674 and parameters: {'num_camadas': 3, 'neuronios_c0': 40, 'neuronios_c1': 27, 'neuronios_c2': 39, 'learning_rate': 0.009465725986003318}. Best is trial 1 with value: 0.00875046942383051.\n",
      "GPU available: True (cuda), used: True\n",
      "TPU available: False, using: 0 TPU cores\n",
      "IPU available: False, using: 0 IPUs\n",
      "HPU available: False, using: 0 HPUs\n",
      "LOCAL_RANK: 0 - CUDA_VISIBLE_DEVICES: [0]\n",
      "\n",
      "  | Name    | Type       | Params\n",
      "---------------------------------------\n",
      "0 | camadas | Sequential | 6.2 K \n",
      "---------------------------------------\n",
      "6.2 K     Trainable params\n",
      "0         Non-trainable params\n",
      "6.2 K     Total params\n",
      "0.025     Total estimated model params size (MB)\n"
     ]
    },
    {
     "name": "stdout",
     "output_type": "stream",
     "text": [
      "Epoch 13: 100%|██████████| 6/6 [00:00<00:00, 127.68it/s, v_num=4, loss=0.0093, val_loss=0.0152]\n"
     ]
    },
    {
     "name": "stderr",
     "output_type": "stream",
     "text": [
      "[I 2024-05-07 00:17:08,046] Trial 3 finished with value: 0.01517216581851244 and parameters: {'num_camadas': 3, 'neuronios_c0': 63, 'neuronios_c1': 45, 'neuronios_c2': 60, 'learning_rate': 0.008835438949903598}. Best is trial 1 with value: 0.00875046942383051.\n",
      "GPU available: True (cuda), used: True\n",
      "TPU available: False, using: 0 TPU cores\n",
      "IPU available: False, using: 0 IPUs\n",
      "HPU available: False, using: 0 HPUs\n",
      "LOCAL_RANK: 0 - CUDA_VISIBLE_DEVICES: [0]\n",
      "\n",
      "  | Name    | Type       | Params\n",
      "---------------------------------------\n",
      "0 | camadas | Sequential | 2.9 K \n",
      "---------------------------------------\n",
      "2.9 K     Trainable params\n",
      "0         Non-trainable params\n",
      "2.9 K     Total params\n",
      "0.012     Total estimated model params size (MB)\n"
     ]
    },
    {
     "name": "stdout",
     "output_type": "stream",
     "text": [
      "Epoch 17: 100%|██████████| 6/6 [00:00<00:00, 117.66it/s, v_num=5, loss=0.013, val_loss=0.0179] \n"
     ]
    },
    {
     "name": "stderr",
     "output_type": "stream",
     "text": [
      "[I 2024-05-07 00:17:15,043] Trial 4 finished with value: 0.017905594781041145 and parameters: {'num_camadas': 5, 'neuronios_c0': 9, 'neuronios_c1': 31, 'neuronios_c2': 24, 'neuronios_c3': 30, 'neuronios_c4': 32, 'learning_rate': 0.008818116760755583}. Best is trial 1 with value: 0.00875046942383051.\n",
      "GPU available: True (cuda), used: True\n",
      "TPU available: False, using: 0 TPU cores\n",
      "IPU available: False, using: 0 IPUs\n",
      "HPU available: False, using: 0 HPUs\n",
      "LOCAL_RANK: 0 - CUDA_VISIBLE_DEVICES: [0]\n",
      "\n",
      "  | Name    | Type       | Params\n",
      "---------------------------------------\n",
      "0 | camadas | Sequential | 4.6 K \n",
      "---------------------------------------\n",
      "4.6 K     Trainable params\n",
      "0         Non-trainable params\n",
      "4.6 K     Total params\n",
      "0.018     Total estimated model params size (MB)\n"
     ]
    },
    {
     "name": "stdout",
     "output_type": "stream",
     "text": [
      "Epoch 40: 100%|██████████| 6/6 [00:00<00:00, 103.72it/s, v_num=6, loss=0.00791, val_loss=0.00968]\n"
     ]
    },
    {
     "name": "stderr",
     "output_type": "stream",
     "text": [
      "[I 2024-05-07 00:17:23,206] Trial 5 finished with value: 0.009681753814220428 and parameters: {'num_camadas': 3, 'neuronios_c0': 16, 'neuronios_c1': 60, 'neuronios_c2': 55, 'learning_rate': 0.005593104738456723}. Best is trial 1 with value: 0.00875046942383051.\n",
      "GPU available: True (cuda), used: True\n",
      "TPU available: False, using: 0 TPU cores\n",
      "IPU available: False, using: 0 IPUs\n",
      "HPU available: False, using: 0 HPUs\n",
      "LOCAL_RANK: 0 - CUDA_VISIBLE_DEVICES: [0]\n",
      "\n",
      "  | Name    | Type       | Params\n",
      "---------------------------------------\n",
      "0 | camadas | Sequential | 4.3 K \n",
      "---------------------------------------\n",
      "4.3 K     Trainable params\n",
      "0         Non-trainable params\n",
      "4.3 K     Total params\n",
      "0.017     Total estimated model params size (MB)\n"
     ]
    },
    {
     "name": "stdout",
     "output_type": "stream",
     "text": [
      "Epoch 37: 100%|██████████| 6/6 [00:00<00:00, 122.37it/s, v_num=7, loss=0.00778, val_loss=0.0095] \n"
     ]
    },
    {
     "name": "stderr",
     "output_type": "stream",
     "text": [
      "[I 2024-05-07 00:17:31,094] Trial 6 finished with value: 0.009502025321125984 and parameters: {'num_camadas': 2, 'neuronios_c0': 62, 'neuronios_c1': 60, 'learning_rate': 0.0068621472805480595}. Best is trial 1 with value: 0.00875046942383051.\n",
      "GPU available: True (cuda), used: True\n",
      "TPU available: False, using: 0 TPU cores\n",
      "IPU available: False, using: 0 IPUs\n",
      "HPU available: False, using: 0 HPUs\n",
      "LOCAL_RANK: 0 - CUDA_VISIBLE_DEVICES: [0]\n",
      "\n",
      "  | Name    | Type       | Params\n",
      "---------------------------------------\n",
      "0 | camadas | Sequential | 851   \n",
      "---------------------------------------\n",
      "851       Trainable params\n",
      "0         Non-trainable params\n",
      "851       Total params\n",
      "0.003     Total estimated model params size (MB)\n"
     ]
    },
    {
     "name": "stdout",
     "output_type": "stream",
     "text": [
      "Epoch 93: 100%|██████████| 6/6 [00:00<00:00, 120.01it/s, v_num=8, loss=0.00788, val_loss=0.00919]\n"
     ]
    },
    {
     "name": "stderr",
     "output_type": "stream",
     "text": [
      "[I 2024-05-07 00:17:41,763] Trial 7 finished with value: 0.00919445138424635 and parameters: {'num_camadas': 3, 'neuronios_c0': 19, 'neuronios_c1': 16, 'neuronios_c2': 21, 'learning_rate': 0.0050299454424155956}. Best is trial 1 with value: 0.00875046942383051.\n",
      "GPU available: True (cuda), used: True\n",
      "TPU available: False, using: 0 TPU cores\n",
      "IPU available: False, using: 0 IPUs\n",
      "HPU available: False, using: 0 HPUs\n",
      "LOCAL_RANK: 0 - CUDA_VISIBLE_DEVICES: [0]\n",
      "\n",
      "  | Name    | Type       | Params\n",
      "---------------------------------------\n",
      "0 | camadas | Sequential | 461   \n",
      "---------------------------------------\n",
      "461       Trainable params\n",
      "0         Non-trainable params\n",
      "461       Total params\n",
      "0.002     Total estimated model params size (MB)\n"
     ]
    },
    {
     "name": "stdout",
     "output_type": "stream",
     "text": [
      "Epoch 103: 100%|██████████| 6/6 [00:00<00:00, 108.09it/s, v_num=9, loss=0.00731, val_loss=0.00826]\n"
     ]
    },
    {
     "name": "stderr",
     "output_type": "stream",
     "text": [
      "[I 2024-05-07 00:17:52,734] Trial 8 finished with value: 0.008264674805104733 and parameters: {'num_camadas': 2, 'neuronios_c0': 26, 'neuronios_c1': 9, 'learning_rate': 0.0036201031594356404}. Best is trial 8 with value: 0.008264674805104733.\n",
      "GPU available: True (cuda), used: True\n",
      "TPU available: False, using: 0 TPU cores\n",
      "IPU available: False, using: 0 IPUs\n",
      "HPU available: False, using: 0 HPUs\n",
      "LOCAL_RANK: 0 - CUDA_VISIBLE_DEVICES: [0]\n",
      "\n",
      "  | Name    | Type       | Params\n",
      "---------------------------------------\n",
      "0 | camadas | Sequential | 321   \n",
      "---------------------------------------\n",
      "321       Trainable params\n",
      "0         Non-trainable params\n",
      "321       Total params\n",
      "0.001     Total estimated model params size (MB)\n"
     ]
    },
    {
     "name": "stdout",
     "output_type": "stream",
     "text": [
      "Epoch 81: 100%|██████████| 6/6 [00:00<00:00, 119.23it/s, v_num=10, loss=0.00913, val_loss=0.0109]\n"
     ]
    },
    {
     "name": "stderr",
     "output_type": "stream",
     "text": [
      "[I 2024-05-07 00:18:02,687] Trial 9 finished with value: 0.010932202450931072 and parameters: {'num_camadas': 2, 'neuronios_c0': 26, 'neuronios_c1': 4, 'learning_rate': 0.0049856918099790495}. Best is trial 8 with value: 0.008264674805104733.\n",
      "GPU available: True (cuda), used: True\n",
      "TPU available: False, using: 0 TPU cores\n",
      "IPU available: False, using: 0 IPUs\n",
      "HPU available: False, using: 0 HPUs\n",
      "LOCAL_RANK: 0 - CUDA_VISIBLE_DEVICES: [0]\n",
      "\n",
      "  | Name    | Type       | Params\n",
      "---------------------------------------\n",
      "0 | camadas | Sequential | 325   \n",
      "---------------------------------------\n",
      "325       Trainable params\n",
      "0         Non-trainable params\n",
      "325       Total params\n",
      "0.001     Total estimated model params size (MB)\n"
     ]
    },
    {
     "name": "stdout",
     "output_type": "stream",
     "text": [
      "Epoch 199: 100%|██████████| 6/6 [00:00<00:00, 166.66it/s, v_num=11, loss=0.00746, val_loss=0.00989]"
     ]
    },
    {
     "name": "stderr",
     "output_type": "stream",
     "text": [
      "`Trainer.fit` stopped: `max_epochs=200` reached.\n"
     ]
    },
    {
     "name": "stdout",
     "output_type": "stream",
     "text": [
      "Epoch 199: 100%|██████████| 6/6 [00:00<00:00, 146.34it/s, v_num=11, loss=0.00746, val_loss=0.00989]\n"
     ]
    },
    {
     "name": "stderr",
     "output_type": "stream",
     "text": [
      "[I 2024-05-07 00:18:17,373] Trial 10 finished with value: 0.009890859015285969 and parameters: {'num_camadas': 1, 'neuronios_c0': 36, 'learning_rate': 0.0019430460209235285}. Best is trial 8 with value: 0.008264674805104733.\n",
      "GPU available: True (cuda), used: True\n",
      "TPU available: False, using: 0 TPU cores\n",
      "IPU available: False, using: 0 IPUs\n",
      "HPU available: False, using: 0 HPUs\n",
      "LOCAL_RANK: 0 - CUDA_VISIBLE_DEVICES: [0]\n",
      "\n",
      "  | Name    | Type       | Params\n",
      "---------------------------------------\n",
      "0 | camadas | Sequential | 5.0 K \n",
      "---------------------------------------\n",
      "5.0 K     Trainable params\n",
      "0         Non-trainable params\n",
      "5.0 K     Total params\n",
      "0.020     Total estimated model params size (MB)\n"
     ]
    },
    {
     "name": "stdout",
     "output_type": "stream",
     "text": [
      "Epoch 82: 100%|██████████| 6/6 [00:00<00:00, 119.82it/s, v_num=12, loss=0.0131, val_loss=0.0153]\n"
     ]
    },
    {
     "name": "stderr",
     "output_type": "stream",
     "text": [
      "[I 2024-05-07 00:18:27,634] Trial 11 finished with value: 0.01530804205685854 and parameters: {'num_camadas': 5, 'neuronios_c0': 5, 'neuronios_c1': 47, 'neuronios_c2': 7, 'neuronios_c3': 63, 'neuronios_c4': 59, 'learning_rate': 0.0024955723198643405}. Best is trial 8 with value: 0.008264674805104733.\n",
      "GPU available: True (cuda), used: True\n",
      "TPU available: False, using: 0 TPU cores\n",
      "IPU available: False, using: 0 IPUs\n",
      "HPU available: False, using: 0 HPUs\n",
      "LOCAL_RANK: 0 - CUDA_VISIBLE_DEVICES: [0]\n",
      "\n",
      "  | Name    | Type       | Params\n",
      "---------------------------------------\n",
      "0 | camadas | Sequential | 235   \n",
      "---------------------------------------\n",
      "235       Trainable params\n",
      "0         Non-trainable params\n",
      "235       Total params\n",
      "0.001     Total estimated model params size (MB)\n"
     ]
    },
    {
     "name": "stdout",
     "output_type": "stream",
     "text": [
      "Epoch 199: 100%|██████████| 6/6 [00:00<00:00, 164.37it/s, v_num=13, loss=0.0121, val_loss=0.0142]"
     ]
    },
    {
     "name": "stderr",
     "output_type": "stream",
     "text": [
      "`Trainer.fit` stopped: `max_epochs=200` reached.\n"
     ]
    },
    {
     "name": "stdout",
     "output_type": "stream",
     "text": [
      "Epoch 199: 100%|██████████| 6/6 [00:00<00:00, 148.14it/s, v_num=13, loss=0.0121, val_loss=0.0142]\n"
     ]
    },
    {
     "name": "stderr",
     "output_type": "stream",
     "text": [
      "[I 2024-05-07 00:18:41,893] Trial 12 finished with value: 0.014171947725117207 and parameters: {'num_camadas': 1, 'neuronios_c0': 26, 'learning_rate': 0.00046102255704493335}. Best is trial 8 with value: 0.008264674805104733.\n",
      "GPU available: True (cuda), used: True\n",
      "TPU available: False, using: 0 TPU cores\n",
      "IPU available: False, using: 0 IPUs\n",
      "HPU available: False, using: 0 HPUs\n",
      "LOCAL_RANK: 0 - CUDA_VISIBLE_DEVICES: [0]\n",
      "\n",
      "  | Name    | Type       | Params\n",
      "---------------------------------------\n",
      "0 | camadas | Sequential | 362   \n",
      "---------------------------------------\n",
      "362       Trainable params\n",
      "0         Non-trainable params\n",
      "362       Total params\n",
      "0.001     Total estimated model params size (MB)\n"
     ]
    },
    {
     "name": "stdout",
     "output_type": "stream",
     "text": [
      "Epoch 120: 100%|██████████| 6/6 [00:00<00:00, 119.64it/s, v_num=14, loss=0.00856, val_loss=0.00975]\n"
     ]
    },
    {
     "name": "stderr",
     "output_type": "stream",
     "text": [
      "[I 2024-05-07 00:18:53,655] Trial 13 finished with value: 0.009749309159815311 and parameters: {'num_camadas': 2, 'neuronios_c0': 27, 'neuronios_c1': 5, 'learning_rate': 0.007095711917409124}. Best is trial 8 with value: 0.008264674805104733.\n",
      "GPU available: True (cuda), used: True\n",
      "TPU available: False, using: 0 TPU cores\n",
      "IPU available: False, using: 0 IPUs\n",
      "HPU available: False, using: 0 HPUs\n",
      "LOCAL_RANK: 0 - CUDA_VISIBLE_DEVICES: [0]\n",
      "\n",
      "  | Name    | Type       | Params\n",
      "---------------------------------------\n",
      "0 | camadas | Sequential | 2.2 K \n",
      "---------------------------------------\n",
      "2.2 K     Trainable params\n",
      "0         Non-trainable params\n",
      "2.2 K     Total params\n",
      "0.009     Total estimated model params size (MB)\n"
     ]
    },
    {
     "name": "stdout",
     "output_type": "stream",
     "text": [
      "Epoch 110: 100%|██████████| 6/6 [00:00<00:00, 115.40it/s, v_num=15, loss=0.00768, val_loss=0.00879]\n"
     ]
    },
    {
     "name": "stderr",
     "output_type": "stream",
     "text": [
      "[I 2024-05-07 00:19:05,717] Trial 14 finished with value: 0.008786843158304691 and parameters: {'num_camadas': 4, 'neuronios_c0': 15, 'neuronios_c1': 46, 'neuronios_c2': 25, 'neuronios_c3': 6, 'learning_rate': 0.002754152055232684}. Best is trial 8 with value: 0.008264674805104733.\n",
      "GPU available: True (cuda), used: True\n",
      "TPU available: False, using: 0 TPU cores\n",
      "IPU available: False, using: 0 IPUs\n",
      "HPU available: False, using: 0 HPUs\n",
      "LOCAL_RANK: 0 - CUDA_VISIBLE_DEVICES: [0]\n",
      "\n",
      "  | Name    | Type       | Params\n",
      "---------------------------------------\n",
      "0 | camadas | Sequential | 1.8 K \n",
      "---------------------------------------\n",
      "1.8 K     Trainable params\n",
      "0         Non-trainable params\n",
      "1.8 K     Total params\n",
      "0.007     Total estimated model params size (MB)\n"
     ]
    },
    {
     "name": "stdout",
     "output_type": "stream",
     "text": [
      "Epoch 5: 100%|██████████| 6/6 [00:00<00:00, 115.40it/s, v_num=16, loss=0.0475, val_loss=0.0497]\n"
     ]
    },
    {
     "name": "stderr",
     "output_type": "stream",
     "text": [
      "[I 2024-05-07 00:19:12,364] Trial 15 finished with value: 0.049737315624952316 and parameters: {'num_camadas': 4, 'neuronios_c0': 46, 'neuronios_c1': 20, 'neuronios_c2': 4, 'neuronios_c3': 60, 'learning_rate': 0.0036867951633975868}. Best is trial 8 with value: 0.008264674805104733.\n",
      "GPU available: True (cuda), used: True\n",
      "TPU available: False, using: 0 TPU cores\n",
      "IPU available: False, using: 0 IPUs\n",
      "HPU available: False, using: 0 HPUs\n",
      "LOCAL_RANK: 0 - CUDA_VISIBLE_DEVICES: [0]\n",
      "\n",
      "  | Name    | Type       | Params\n",
      "---------------------------------------\n",
      "0 | camadas | Sequential | 1.5 K \n",
      "---------------------------------------\n",
      "1.5 K     Trainable params\n",
      "0         Non-trainable params\n",
      "1.5 K     Total params\n",
      "0.006     Total estimated model params size (MB)\n"
     ]
    },
    {
     "name": "stdout",
     "output_type": "stream",
     "text": [
      "Epoch 171: 100%|██████████| 6/6 [00:00<00:00, 115.39it/s, v_num=17, loss=0.00678, val_loss=0.00791]\n"
     ]
    },
    {
     "name": "stderr",
     "output_type": "stream",
     "text": [
      "[I 2024-05-07 00:19:26,590] Trial 16 finished with value: 0.007911605760455132 and parameters: {'num_camadas': 2, 'neuronios_c0': 30, 'neuronios_c1': 38, 'learning_rate': 0.006468377861584512}. Best is trial 16 with value: 0.007911605760455132.\n",
      "GPU available: True (cuda), used: True\n",
      "TPU available: False, using: 0 TPU cores\n",
      "IPU available: False, using: 0 IPUs\n",
      "HPU available: False, using: 0 HPUs\n",
      "LOCAL_RANK: 0 - CUDA_VISIBLE_DEVICES: [0]\n",
      "\n",
      "  | Name    | Type       | Params\n",
      "---------------------------------------\n",
      "0 | camadas | Sequential | 1.4 K \n",
      "---------------------------------------\n",
      "1.4 K     Trainable params\n",
      "0         Non-trainable params\n",
      "1.4 K     Total params\n",
      "0.006     Total estimated model params size (MB)\n"
     ]
    },
    {
     "name": "stdout",
     "output_type": "stream",
     "text": [
      "Epoch 103: 100%|██████████| 6/6 [00:00<00:00, 129.00it/s, v_num=18, loss=0.00582, val_loss=0.0081] \n"
     ]
    },
    {
     "name": "stderr",
     "output_type": "stream",
     "text": [
      "[I 2024-05-07 00:19:37,519] Trial 17 finished with value: 0.008098211139440536 and parameters: {'num_camadas': 2, 'neuronios_c0': 30, 'neuronios_c1': 37, 'learning_rate': 0.0040121682898629826}. Best is trial 16 with value: 0.007911605760455132.\n",
      "GPU available: True (cuda), used: True\n",
      "TPU available: False, using: 0 TPU cores\n",
      "IPU available: False, using: 0 IPUs\n",
      "HPU available: False, using: 0 HPUs\n",
      "LOCAL_RANK: 0 - CUDA_VISIBLE_DEVICES: [0]\n",
      "\n",
      "  | Name    | Type       | Params\n",
      "---------------------------------------\n",
      "0 | camadas | Sequential | 298   \n",
      "---------------------------------------\n",
      "298       Trainable params\n",
      "0         Non-trainable params\n",
      "298       Total params\n",
      "0.001     Total estimated model params size (MB)\n"
     ]
    },
    {
     "name": "stdout",
     "output_type": "stream",
     "text": [
      "Epoch 94: 100%|██████████| 6/6 [00:00<00:00, 130.43it/s, v_num=19, loss=0.00837, val_loss=0.00899]\n"
     ]
    },
    {
     "name": "stderr",
     "output_type": "stream",
     "text": [
      "[I 2024-05-07 00:19:47,839] Trial 18 finished with value: 0.008990996517241001 and parameters: {'num_camadas': 1, 'neuronios_c0': 33, 'learning_rate': 0.006543254982821688}. Best is trial 16 with value: 0.007911605760455132.\n",
      "GPU available: True (cuda), used: True\n",
      "TPU available: False, using: 0 TPU cores\n",
      "IPU available: False, using: 0 IPUs\n",
      "HPU available: False, using: 0 HPUs\n",
      "LOCAL_RANK: 0 - CUDA_VISIBLE_DEVICES: [0]\n",
      "\n",
      "  | Name    | Type       | Params\n",
      "---------------------------------------\n",
      "0 | camadas | Sequential | 2.4 K \n",
      "---------------------------------------\n",
      "2.4 K     Trainable params\n",
      "0         Non-trainable params\n",
      "2.4 K     Total params\n",
      "0.010     Total estimated model params size (MB)\n"
     ]
    },
    {
     "name": "stdout",
     "output_type": "stream",
     "text": [
      "Epoch 17: 100%|██████████| 6/6 [00:00<00:00, 126.28it/s, v_num=20, loss=0.00865, val_loss=0.0127]\n"
     ]
    },
    {
     "name": "stderr",
     "output_type": "stream",
     "text": [
      "[I 2024-05-07 00:19:54,736] Trial 19 finished with value: 0.012689432129263878 and parameters: {'num_camadas': 2, 'neuronios_c0': 50, 'neuronios_c1': 39, 'learning_rate': 0.008114739220635929}. Best is trial 16 with value: 0.007911605760455132.\n",
      "GPU available: True (cuda), used: True\n",
      "TPU available: False, using: 0 TPU cores\n",
      "IPU available: False, using: 0 IPUs\n",
      "HPU available: False, using: 0 HPUs\n",
      "LOCAL_RANK: 0 - CUDA_VISIBLE_DEVICES: [0]\n",
      "\n",
      "  | Name    | Type       | Params\n",
      "---------------------------------------\n",
      "0 | camadas | Sequential | 4.0 K \n",
      "---------------------------------------\n",
      "4.0 K     Trainable params\n",
      "0         Non-trainable params\n",
      "4.0 K     Total params\n",
      "0.016     Total estimated model params size (MB)\n"
     ]
    },
    {
     "name": "stdout",
     "output_type": "stream",
     "text": [
      "Epoch 32: 100%|██████████| 6/6 [00:00<00:00, 118.80it/s, v_num=21, loss=0.00584, val_loss=0.00867]\n"
     ]
    },
    {
     "name": "stderr",
     "output_type": "stream",
     "text": [
      "[I 2024-05-07 00:20:02,474] Trial 20 finished with value: 0.008674178272485733 and parameters: {'num_camadas': 4, 'neuronios_c0': 40, 'neuronios_c1': 37, 'neuronios_c2': 49, 'neuronios_c3': 6, 'learning_rate': 0.009982180184411615}. Best is trial 16 with value: 0.007911605760455132.\n",
      "GPU available: True (cuda), used: True\n",
      "TPU available: False, using: 0 TPU cores\n",
      "IPU available: False, using: 0 IPUs\n",
      "HPU available: False, using: 0 HPUs\n",
      "LOCAL_RANK: 0 - CUDA_VISIBLE_DEVICES: [0]\n",
      "\n",
      "  | Name    | Type       | Params\n",
      "---------------------------------------\n",
      "0 | camadas | Sequential | 1.1 K \n",
      "---------------------------------------\n",
      "1.1 K     Trainable params\n",
      "0         Non-trainable params\n",
      "1.1 K     Total params\n",
      "0.004     Total estimated model params size (MB)\n"
     ]
    },
    {
     "name": "stdout",
     "output_type": "stream",
     "text": [
      "Epoch 173: 100%|██████████| 6/6 [00:00<00:00, 122.46it/s, v_num=22, loss=0.00786, val_loss=0.00874]\n"
     ]
    },
    {
     "name": "stderr",
     "output_type": "stream",
     "text": [
      "[I 2024-05-07 00:20:16,933] Trial 21 finished with value: 0.008738716132938862 and parameters: {'num_camadas': 2, 'neuronios_c0': 31, 'neuronios_c1': 25, 'learning_rate': 0.00391119729506163}. Best is trial 16 with value: 0.007911605760455132.\n",
      "GPU available: True (cuda), used: True\n",
      "TPU available: False, using: 0 TPU cores\n",
      "IPU available: False, using: 0 IPUs\n",
      "HPU available: False, using: 0 HPUs\n",
      "LOCAL_RANK: 0 - CUDA_VISIBLE_DEVICES: [0]\n",
      "\n",
      "  | Name    | Type       | Params\n",
      "---------------------------------------\n",
      "0 | camadas | Sequential | 465   \n",
      "---------------------------------------\n",
      "465       Trainable params\n",
      "0         Non-trainable params\n",
      "465       Total params\n",
      "0.002     Total estimated model params size (MB)\n"
     ]
    },
    {
     "name": "stdout",
     "output_type": "stream",
     "text": [
      "Epoch 62: 100%|██████████| 6/6 [00:00<00:00, 112.12it/s, v_num=23, loss=0.00993, val_loss=0.0109]\n"
     ]
    },
    {
     "name": "stderr",
     "output_type": "stream",
     "text": [
      "[I 2024-05-07 00:20:26,030] Trial 22 finished with value: 0.010872479528188705 and parameters: {'num_camadas': 2, 'neuronios_c0': 22, 'neuronios_c1': 12, 'learning_rate': 0.00570046298372286}. Best is trial 16 with value: 0.007911605760455132.\n",
      "GPU available: True (cuda), used: True\n",
      "TPU available: False, using: 0 TPU cores\n",
      "IPU available: False, using: 0 IPUs\n",
      "HPU available: False, using: 0 HPUs\n",
      "LOCAL_RANK: 0 - CUDA_VISIBLE_DEVICES: [0]\n",
      "\n",
      "  | Name    | Type       | Params\n",
      "---------------------------------------\n",
      "0 | camadas | Sequential | 343   \n",
      "---------------------------------------\n",
      "343       Trainable params\n",
      "0         Non-trainable params\n",
      "343       Total params\n",
      "0.001     Total estimated model params size (MB)\n"
     ]
    },
    {
     "name": "stdout",
     "output_type": "stream",
     "text": [
      "Epoch 94: 100%|██████████| 6/6 [00:00<00:00, 128.28it/s, v_num=24, loss=0.00751, val_loss=0.00908]\n"
     ]
    },
    {
     "name": "stderr",
     "output_type": "stream",
     "text": [
      "[I 2024-05-07 00:20:36,509] Trial 23 finished with value: 0.009075629524886608 and parameters: {'num_camadas': 1, 'neuronios_c0': 38, 'learning_rate': 0.003980530755894743}. Best is trial 16 with value: 0.007911605760455132.\n",
      "GPU available: True (cuda), used: True\n",
      "TPU available: False, using: 0 TPU cores\n",
      "IPU available: False, using: 0 IPUs\n",
      "HPU available: False, using: 0 HPUs\n",
      "LOCAL_RANK: 0 - CUDA_VISIBLE_DEVICES: [0]\n",
      "\n",
      "  | Name    | Type       | Params\n",
      "---------------------------------------\n",
      "0 | camadas | Sequential | 1.4 K \n",
      "---------------------------------------\n",
      "1.4 K     Trainable params\n",
      "0         Non-trainable params\n",
      "1.4 K     Total params\n",
      "0.005     Total estimated model params size (MB)\n"
     ]
    },
    {
     "name": "stdout",
     "output_type": "stream",
     "text": [
      "Epoch 90: 100%|██████████| 6/6 [00:00<00:00, 120.01it/s, v_num=25, loss=0.00701, val_loss=0.00872]\n"
     ]
    },
    {
     "name": "stderr",
     "output_type": "stream",
     "text": [
      "[I 2024-05-07 00:20:46,745] Trial 24 finished with value: 0.008723929524421692 and parameters: {'num_camadas': 2, 'neuronios_c0': 31, 'neuronios_c1': 34, 'learning_rate': 0.005758278546228163}. Best is trial 16 with value: 0.007911605760455132.\n",
      "GPU available: True (cuda), used: True\n",
      "TPU available: False, using: 0 TPU cores\n",
      "IPU available: False, using: 0 IPUs\n",
      "HPU available: False, using: 0 HPUs\n",
      "LOCAL_RANK: 0 - CUDA_VISIBLE_DEVICES: [0]\n",
      "\n",
      "  | Name    | Type       | Params\n",
      "---------------------------------------\n",
      "0 | camadas | Sequential | 217   \n",
      "---------------------------------------\n",
      "217       Trainable params\n",
      "0         Non-trainable params\n",
      "217       Total params\n",
      "0.001     Total estimated model params size (MB)\n"
     ]
    },
    {
     "name": "stdout",
     "output_type": "stream",
     "text": [
      "Epoch 199: 100%|██████████| 6/6 [00:00<00:00, 134.80it/s, v_num=26, loss=0.007, val_loss=0.00855]  "
     ]
    },
    {
     "name": "stderr",
     "output_type": "stream",
     "text": [
      "`Trainer.fit` stopped: `max_epochs=200` reached.\n"
     ]
    },
    {
     "name": "stdout",
     "output_type": "stream",
     "text": [
      "Epoch 199: 100%|██████████| 6/6 [00:00<00:00, 112.14it/s, v_num=26, loss=0.007, val_loss=0.00855]\n"
     ]
    },
    {
     "name": "stderr",
     "output_type": "stream",
     "text": [
      "[I 2024-05-07 00:21:01,579] Trial 25 finished with value: 0.00855386070907116 and parameters: {'num_camadas': 1, 'neuronios_c0': 24, 'learning_rate': 0.00429383089295124}. Best is trial 16 with value: 0.007911605760455132.\n",
      "GPU available: True (cuda), used: True\n",
      "TPU available: False, using: 0 TPU cores\n",
      "IPU available: False, using: 0 IPUs\n",
      "HPU available: False, using: 0 HPUs\n",
      "LOCAL_RANK: 0 - CUDA_VISIBLE_DEVICES: [0]\n",
      "\n",
      "  | Name    | Type       | Params\n",
      "---------------------------------------\n",
      "0 | camadas | Sequential | 2.3 K \n",
      "---------------------------------------\n",
      "2.3 K     Trainable params\n",
      "0         Non-trainable params\n",
      "2.3 K     Total params\n",
      "0.009     Total estimated model params size (MB)\n"
     ]
    },
    {
     "name": "stdout",
     "output_type": "stream",
     "text": [
      "Epoch 71: 100%|██████████| 6/6 [00:00<00:00, 139.55it/s, v_num=27, loss=0.00726, val_loss=0.00879]\n"
     ]
    },
    {
     "name": "stderr",
     "output_type": "stream",
     "text": [
      "[I 2024-05-07 00:21:10,701] Trial 26 finished with value: 0.008787423372268677 and parameters: {'num_camadas': 2, 'neuronios_c0': 45, 'neuronios_c1': 41, 'learning_rate': 0.003215978319960332}. Best is trial 16 with value: 0.007911605760455132.\n",
      "GPU available: True (cuda), used: True\n",
      "TPU available: False, using: 0 TPU cores\n",
      "IPU available: False, using: 0 IPUs\n",
      "HPU available: False, using: 0 HPUs\n",
      "LOCAL_RANK: 0 - CUDA_VISIBLE_DEVICES: [0]\n",
      "\n",
      "  | Name    | Type       | Params\n",
      "---------------------------------------\n",
      "0 | camadas | Sequential | 2.0 K \n",
      "---------------------------------------\n",
      "2.0 K     Trainable params\n",
      "0         Non-trainable params\n",
      "2.0 K     Total params\n",
      "0.008     Total estimated model params size (MB)\n"
     ]
    },
    {
     "name": "stdout",
     "output_type": "stream",
     "text": [
      "Epoch 128: 100%|██████████| 6/6 [00:00<00:00, 142.85it/s, v_num=28, loss=0.00693, val_loss=0.00865]\n"
     ]
    },
    {
     "name": "stderr",
     "output_type": "stream",
     "text": [
      "[I 2024-05-07 00:21:22,294] Trial 27 finished with value: 0.008647562004625797 and parameters: {'num_camadas': 2, 'neuronios_c0': 31, 'neuronios_c1': 53, 'learning_rate': 0.003204867175782757}. Best is trial 16 with value: 0.007911605760455132.\n",
      "GPU available: True (cuda), used: True\n",
      "TPU available: False, using: 0 TPU cores\n",
      "IPU available: False, using: 0 IPUs\n",
      "HPU available: False, using: 0 HPUs\n",
      "LOCAL_RANK: 0 - CUDA_VISIBLE_DEVICES: [0]\n",
      "\n",
      "  | Name    | Type       | Params\n",
      "---------------------------------------\n",
      "0 | camadas | Sequential | 109   \n",
      "---------------------------------------\n",
      "109       Trainable params\n",
      "0         Non-trainable params\n",
      "109       Total params\n",
      "0.000     Total estimated model params size (MB)\n"
     ]
    },
    {
     "name": "stdout",
     "output_type": "stream",
     "text": [
      "Epoch 199: 100%|██████████| 6/6 [00:00<00:00, 157.93it/s, v_num=29, loss=0.0117, val_loss=0.0142]"
     ]
    },
    {
     "name": "stderr",
     "output_type": "stream",
     "text": [
      "`Trainer.fit` stopped: `max_epochs=200` reached.\n"
     ]
    },
    {
     "name": "stdout",
     "output_type": "stream",
     "text": [
      "Epoch 199: 100%|██████████| 6/6 [00:00<00:00, 139.56it/s, v_num=29, loss=0.0117, val_loss=0.0142]\n"
     ]
    },
    {
     "name": "stderr",
     "output_type": "stream",
     "text": [
      "[I 2024-05-07 00:21:36,690] Trial 28 finished with value: 0.014221606776118279 and parameters: {'num_camadas': 1, 'neuronios_c0': 12, 'learning_rate': 0.0018871938179818087}. Best is trial 16 with value: 0.007911605760455132.\n",
      "GPU available: True (cuda), used: True\n",
      "TPU available: False, using: 0 TPU cores\n",
      "IPU available: False, using: 0 IPUs\n",
      "HPU available: False, using: 0 HPUs\n",
      "LOCAL_RANK: 0 - CUDA_VISIBLE_DEVICES: [0]\n",
      "\n",
      "  | Name    | Type       | Params\n",
      "---------------------------------------\n",
      "0 | camadas | Sequential | 2.9 K \n",
      "---------------------------------------\n",
      "2.9 K     Trainable params\n",
      "0         Non-trainable params\n",
      "2.9 K     Total params\n",
      "0.012     Total estimated model params size (MB)\n"
     ]
    },
    {
     "name": "stdout",
     "output_type": "stream",
     "text": [
      "Epoch 122: 100%|██████████| 6/6 [00:00<00:00, 112.13it/s, v_num=30, loss=0.00586, val_loss=0.00748]\n"
     ]
    },
    {
     "name": "stderr",
     "output_type": "stream",
     "text": [
      "[I 2024-05-07 00:21:48,833] Trial 29 finished with value: 0.007476270664483309 and parameters: {'num_camadas': 3, 'neuronios_c0': 21, 'neuronios_c1': 30, 'neuronios_c2': 64, 'learning_rate': 0.004690771741923557}. Best is trial 29 with value: 0.007476270664483309.\n",
      "GPU available: True (cuda), used: True\n",
      "TPU available: False, using: 0 TPU cores\n",
      "IPU available: False, using: 0 IPUs\n",
      "HPU available: False, using: 0 HPUs\n",
      "LOCAL_RANK: 0 - CUDA_VISIBLE_DEVICES: [0]\n",
      "\n",
      "  | Name    | Type       | Params\n",
      "---------------------------------------\n",
      "0 | camadas | Sequential | 5.3 K \n",
      "---------------------------------------\n",
      "5.3 K     Trainable params\n",
      "0         Non-trainable params\n",
      "5.3 K     Total params\n",
      "0.021     Total estimated model params size (MB)\n"
     ]
    },
    {
     "name": "stdout",
     "output_type": "stream",
     "text": [
      "Epoch 44: 100%|██████████| 6/6 [00:00<00:00, 112.13it/s, v_num=31, loss=0.00801, val_loss=0.0108]\n"
     ]
    },
    {
     "name": "stderr",
     "output_type": "stream",
     "text": [
      "[I 2024-05-07 00:21:57,271] Trial 30 finished with value: 0.010787351988255978 and parameters: {'num_camadas': 4, 'neuronios_c0': 53, 'neuronios_c1': 29, 'neuronios_c2': 49, 'neuronios_c3': 36, 'learning_rate': 0.004600411518063402}. Best is trial 29 with value: 0.007476270664483309.\n",
      "GPU available: True (cuda), used: True\n",
      "TPU available: False, using: 0 TPU cores\n",
      "IPU available: False, using: 0 IPUs\n",
      "HPU available: False, using: 0 HPUs\n",
      "LOCAL_RANK: 0 - CUDA_VISIBLE_DEVICES: [0]\n",
      "\n",
      "  | Name    | Type       | Params\n",
      "---------------------------------------\n",
      "0 | camadas | Sequential | 2.2 K \n",
      "---------------------------------------\n",
      "2.2 K     Trainable params\n",
      "0         Non-trainable params\n",
      "2.2 K     Total params\n",
      "0.009     Total estimated model params size (MB)\n"
     ]
    },
    {
     "name": "stdout",
     "output_type": "stream",
     "text": [
      "Epoch 61: 100%|██████████| 6/6 [00:00<00:00, 115.38it/s, v_num=32, loss=0.00775, val_loss=0.0105]\n"
     ]
    },
    {
     "name": "stderr",
     "output_type": "stream",
     "text": [
      "[I 2024-05-07 00:22:06,492] Trial 31 finished with value: 0.010501670651137829 and parameters: {'num_camadas': 3, 'neuronios_c0': 21, 'neuronios_c1': 22, 'neuronios_c2': 63, 'learning_rate': 0.0047580500168249015}. Best is trial 29 with value: 0.007476270664483309.\n",
      "GPU available: True (cuda), used: True\n",
      "TPU available: False, using: 0 TPU cores\n",
      "IPU available: False, using: 0 IPUs\n",
      "HPU available: False, using: 0 HPUs\n",
      "LOCAL_RANK: 0 - CUDA_VISIBLE_DEVICES: [0]\n",
      "\n",
      "  | Name    | Type       | Params\n",
      "---------------------------------------\n",
      "0 | camadas | Sequential | 1.7 K \n",
      "---------------------------------------\n",
      "1.7 K     Trainable params\n",
      "0         Non-trainable params\n",
      "1.7 K     Total params\n",
      "0.007     Total estimated model params size (MB)\n"
     ]
    },
    {
     "name": "stdout",
     "output_type": "stream",
     "text": [
      "Epoch 67: 100%|██████████| 6/6 [00:00<00:00, 126.29it/s, v_num=33, loss=0.00706, val_loss=0.00867]\n"
     ]
    },
    {
     "name": "stderr",
     "output_type": "stream",
     "text": [
      "[I 2024-05-07 00:22:15,846] Trial 32 finished with value: 0.008668429218232632 and parameters: {'num_camadas': 3, 'neuronios_c0': 28, 'neuronios_c1': 33, 'neuronios_c2': 14, 'learning_rate': 0.0042302436665415544}. Best is trial 29 with value: 0.007476270664483309.\n",
      "GPU available: True (cuda), used: True\n",
      "TPU available: False, using: 0 TPU cores\n",
      "IPU available: False, using: 0 IPUs\n",
      "HPU available: False, using: 0 HPUs\n",
      "LOCAL_RANK: 0 - CUDA_VISIBLE_DEVICES: [0]\n",
      "\n",
      "  | Name    | Type       | Params\n",
      "---------------------------------------\n",
      "0 | camadas | Sequential | 384   \n",
      "---------------------------------------\n",
      "384       Trainable params\n",
      "0         Non-trainable params\n",
      "384       Total params\n",
      "0.002     Total estimated model params size (MB)\n"
     ]
    },
    {
     "name": "stdout",
     "output_type": "stream",
     "text": [
      "Epoch 75: 100%|██████████| 6/6 [00:00<00:00, 127.21it/s, v_num=34, loss=0.00831, val_loss=0.0094] \n"
     ]
    },
    {
     "name": "stderr",
     "output_type": "stream",
     "text": [
      "[I 2024-05-07 00:22:25,258] Trial 33 finished with value: 0.009399785660207272 and parameters: {'num_camadas': 2, 'neuronios_c0': 17, 'neuronios_c1': 13, 'learning_rate': 0.006260322228006341}. Best is trial 29 with value: 0.007476270664483309.\n",
      "GPU available: True (cuda), used: True\n",
      "TPU available: False, using: 0 TPU cores\n",
      "IPU available: False, using: 0 IPUs\n",
      "HPU available: False, using: 0 HPUs\n",
      "LOCAL_RANK: 0 - CUDA_VISIBLE_DEVICES: [0]\n",
      "\n",
      "  | Name    | Type       | Params\n",
      "---------------------------------------\n",
      "0 | camadas | Sequential | 3.9 K \n",
      "---------------------------------------\n",
      "3.9 K     Trainable params\n",
      "0         Non-trainable params\n",
      "3.9 K     Total params\n",
      "0.015     Total estimated model params size (MB)\n"
     ]
    },
    {
     "name": "stdout",
     "output_type": "stream",
     "text": [
      "Epoch 32: 100%|██████████| 6/6 [00:00<00:00, 129.01it/s, v_num=35, loss=0.00942, val_loss=0.0116]\n"
     ]
    },
    {
     "name": "stderr",
     "output_type": "stream",
     "text": [
      "[I 2024-05-07 00:22:32,838] Trial 34 finished with value: 0.011597502045333385 and parameters: {'num_camadas': 3, 'neuronios_c0': 35, 'neuronios_c1': 42, 'neuronios_c2': 47, 'learning_rate': 0.005180090215647387}. Best is trial 29 with value: 0.007476270664483309.\n",
      "GPU available: True (cuda), used: True\n",
      "TPU available: False, using: 0 TPU cores\n",
      "IPU available: False, using: 0 IPUs\n",
      "HPU available: False, using: 0 HPUs\n",
      "LOCAL_RANK: 0 - CUDA_VISIBLE_DEVICES: [0]\n",
      "\n",
      "  | Name    | Type       | Params\n",
      "---------------------------------------\n",
      "0 | camadas | Sequential | 2.3 K \n",
      "---------------------------------------\n",
      "2.3 K     Trainable params\n",
      "0         Non-trainable params\n",
      "2.3 K     Total params\n",
      "0.009     Total estimated model params size (MB)\n"
     ]
    },
    {
     "name": "stdout",
     "output_type": "stream",
     "text": [
      "Epoch 80: 100%|██████████| 6/6 [00:00<00:00, 136.37it/s, v_num=36, loss=0.00674, val_loss=0.00823]\n"
     ]
    },
    {
     "name": "stderr",
     "output_type": "stream",
     "text": [
      "[I 2024-05-07 00:22:42,482] Trial 35 finished with value: 0.008228623308241367 and parameters: {'num_camadas': 3, 'neuronios_c0': 22, 'neuronios_c1': 35, 'neuronios_c2': 35, 'learning_rate': 0.003542963211105468}. Best is trial 29 with value: 0.007476270664483309.\n",
      "GPU available: True (cuda), used: True\n",
      "TPU available: False, using: 0 TPU cores\n",
      "IPU available: False, using: 0 IPUs\n",
      "HPU available: False, using: 0 HPUs\n",
      "LOCAL_RANK: 0 - CUDA_VISIBLE_DEVICES: [0]\n",
      "\n",
      "  | Name    | Type       | Params\n",
      "---------------------------------------\n",
      "0 | camadas | Sequential | 1.9 K \n",
      "---------------------------------------\n",
      "1.9 K     Trainable params\n",
      "0         Non-trainable params\n",
      "1.9 K     Total params\n",
      "0.007     Total estimated model params size (MB)\n"
     ]
    },
    {
     "name": "stdout",
     "output_type": "stream",
     "text": [
      "Epoch 65: 100%|██████████| 6/6 [00:00<00:00, 119.90it/s, v_num=37, loss=0.00809, val_loss=0.00933]\n"
     ]
    },
    {
     "name": "stderr",
     "output_type": "stream",
     "text": [
      "[I 2024-05-07 00:22:51,512] Trial 36 finished with value: 0.009326150640845299 and parameters: {'num_camadas': 3, 'neuronios_c0': 11, 'neuronios_c1': 37, 'neuronios_c2': 34, 'learning_rate': 0.0043799088631302505}. Best is trial 29 with value: 0.007476270664483309.\n",
      "GPU available: True (cuda), used: True\n",
      "TPU available: False, using: 0 TPU cores\n",
      "IPU available: False, using: 0 IPUs\n",
      "HPU available: False, using: 0 HPUs\n",
      "LOCAL_RANK: 0 - CUDA_VISIBLE_DEVICES: [0]\n",
      "\n",
      "  | Name    | Type       | Params\n",
      "---------------------------------------\n",
      "0 | camadas | Sequential | 5.4 K \n",
      "---------------------------------------\n",
      "5.4 K     Trainable params\n",
      "0         Non-trainable params\n",
      "5.4 K     Total params\n",
      "0.022     Total estimated model params size (MB)\n"
     ]
    },
    {
     "name": "stdout",
     "output_type": "stream",
     "text": [
      "Epoch 45: 100%|██████████| 6/6 [00:00<00:00, 121.19it/s, v_num=38, loss=0.00785, val_loss=0.00999]\n"
     ]
    },
    {
     "name": "stderr",
     "output_type": "stream",
     "text": [
      "[I 2024-05-07 00:23:00,067] Trial 37 finished with value: 0.009994806721806526 and parameters: {'num_camadas': 4, 'neuronios_c0': 23, 'neuronios_c1': 34, 'neuronios_c2': 58, 'neuronios_c3': 40, 'learning_rate': 0.005358150363231014}. Best is trial 29 with value: 0.007476270664483309.\n",
      "GPU available: True (cuda), used: True\n",
      "TPU available: False, using: 0 TPU cores\n",
      "IPU available: False, using: 0 IPUs\n",
      "HPU available: False, using: 0 HPUs\n",
      "LOCAL_RANK: 0 - CUDA_VISIBLE_DEVICES: [0]\n",
      "\n",
      "  | Name    | Type       | Params\n",
      "---------------------------------------\n",
      "0 | camadas | Sequential | 3.5 K \n",
      "---------------------------------------\n",
      "3.5 K     Trainable params\n",
      "0         Non-trainable params\n",
      "3.5 K     Total params\n",
      "0.014     Total estimated model params size (MB)\n"
     ]
    },
    {
     "name": "stdout",
     "output_type": "stream",
     "text": [
      "Epoch 47: 100%|██████████| 6/6 [00:00<00:00, 131.85it/s, v_num=39, loss=0.00736, val_loss=0.0089] \n"
     ]
    },
    {
     "name": "stderr",
     "output_type": "stream",
     "text": [
      "[I 2024-05-07 00:23:08,421] Trial 38 finished with value: 0.008897675201296806 and parameters: {'num_camadas': 3, 'neuronios_c0': 20, 'neuronios_c1': 52, 'neuronios_c2': 41, 'learning_rate': 0.006040076106066999}. Best is trial 29 with value: 0.007476270664483309.\n",
      "GPU available: True (cuda), used: True\n",
      "TPU available: False, using: 0 TPU cores\n",
      "IPU available: False, using: 0 IPUs\n",
      "HPU available: False, using: 0 HPUs\n",
      "LOCAL_RANK: 0 - CUDA_VISIBLE_DEVICES: [0]\n",
      "\n",
      "  | Name    | Type       | Params\n",
      "---------------------------------------\n",
      "0 | camadas | Sequential | 673   \n",
      "---------------------------------------\n",
      "673       Trainable params\n",
      "0         Non-trainable params\n",
      "673       Total params\n",
      "0.003     Total estimated model params size (MB)\n"
     ]
    },
    {
     "name": "stdout",
     "output_type": "stream",
     "text": [
      "Epoch 119: 100%|██████████| 6/6 [00:00<00:00, 122.46it/s, v_num=40, loss=0.00923, val_loss=0.011] \n"
     ]
    },
    {
     "name": "stderr",
     "output_type": "stream",
     "text": [
      "[I 2024-05-07 00:23:20,540] Trial 39 finished with value: 0.010973997414112091 and parameters: {'num_camadas': 3, 'neuronios_c0': 6, 'neuronios_c1': 27, 'neuronios_c2': 15, 'learning_rate': 0.004860616734046665}. Best is trial 29 with value: 0.007476270664483309.\n",
      "GPU available: True (cuda), used: True\n",
      "TPU available: False, using: 0 TPU cores\n",
      "IPU available: False, using: 0 IPUs\n",
      "HPU available: False, using: 0 HPUs\n",
      "LOCAL_RANK: 0 - CUDA_VISIBLE_DEVICES: [0]\n",
      "\n",
      "  | Name    | Type       | Params\n",
      "---------------------------------------\n",
      "0 | camadas | Sequential | 3.6 K \n",
      "---------------------------------------\n",
      "3.6 K     Trainable params\n",
      "0         Non-trainable params\n",
      "3.6 K     Total params\n",
      "0.014     Total estimated model params size (MB)\n"
     ]
    },
    {
     "name": "stdout",
     "output_type": "stream",
     "text": [
      "Epoch 9: 100%|██████████| 6/6 [00:00<00:00, 115.73it/s, v_num=41, loss=0.0132, val_loss=0.0173]\n"
     ]
    },
    {
     "name": "stderr",
     "output_type": "stream",
     "text": [
      "[I 2024-05-07 00:23:26,929] Trial 40 finished with value: 0.01734844408929348 and parameters: {'num_camadas': 3, 'neuronios_c0': 14, 'neuronios_c1': 49, 'neuronios_c2': 54, 'learning_rate': 0.007274332182662045}. Best is trial 29 with value: 0.007476270664483309.\n",
      "GPU available: True (cuda), used: True\n",
      "TPU available: False, using: 0 TPU cores\n",
      "IPU available: False, using: 0 IPUs\n",
      "HPU available: False, using: 0 HPUs\n",
      "LOCAL_RANK: 0 - CUDA_VISIBLE_DEVICES: [0]\n",
      "\n",
      "  | Name    | Type       | Params\n",
      "---------------------------------------\n",
      "0 | camadas | Sequential | 1.6 K \n",
      "---------------------------------------\n",
      "1.6 K     Trainable params\n",
      "0         Non-trainable params\n",
      "1.6 K     Total params\n",
      "0.006     Total estimated model params size (MB)\n"
     ]
    },
    {
     "name": "stdout",
     "output_type": "stream",
     "text": [
      "Epoch 88: 100%|██████████| 6/6 [00:00<00:00, 130.72it/s, v_num=42, loss=0.00778, val_loss=0.00869]\n"
     ]
    },
    {
     "name": "stderr",
     "output_type": "stream",
     "text": [
      "[I 2024-05-07 00:23:37,141] Trial 41 finished with value: 0.008686883375048637 and parameters: {'num_camadas': 2, 'neuronios_c0': 29, 'neuronios_c1': 43, 'learning_rate': 0.003412458835076699}. Best is trial 29 with value: 0.007476270664483309.\n",
      "GPU available: True (cuda), used: True\n",
      "TPU available: False, using: 0 TPU cores\n",
      "IPU available: False, using: 0 IPUs\n",
      "HPU available: False, using: 0 HPUs\n",
      "LOCAL_RANK: 0 - CUDA_VISIBLE_DEVICES: [0]\n",
      "\n",
      "  | Name    | Type       | Params\n",
      "---------------------------------------\n",
      "0 | camadas | Sequential | 885   \n",
      "---------------------------------------\n",
      "885       Trainable params\n",
      "0         Non-trainable params\n",
      "885       Total params\n",
      "0.004     Total estimated model params size (MB)\n"
     ]
    },
    {
     "name": "stdout",
     "output_type": "stream",
     "text": [
      "Epoch 126: 100%|██████████| 6/6 [00:00<00:00, 131.84it/s, v_num=43, loss=0.00654, val_loss=0.00943]\n"
     ]
    },
    {
     "name": "stderr",
     "output_type": "stream",
     "text": [
      "[I 2024-05-07 00:23:49,161] Trial 42 finished with value: 0.009427722543478012 and parameters: {'num_camadas': 2, 'neuronios_c0': 18, 'neuronios_c1': 37, 'learning_rate': 0.005251159138179177}. Best is trial 29 with value: 0.007476270664483309.\n",
      "GPU available: True (cuda), used: True\n",
      "TPU available: False, using: 0 TPU cores\n",
      "IPU available: False, using: 0 IPUs\n",
      "HPU available: False, using: 0 HPUs\n",
      "LOCAL_RANK: 0 - CUDA_VISIBLE_DEVICES: [0]\n",
      "\n",
      "  | Name    | Type       | Params\n",
      "---------------------------------------\n",
      "0 | camadas | Sequential | 1.0 K \n",
      "---------------------------------------\n",
      "1.0 K     Trainable params\n",
      "0         Non-trainable params\n",
      "1.0 K     Total params\n",
      "0.004     Total estimated model params size (MB)\n"
     ]
    },
    {
     "name": "stdout",
     "output_type": "stream",
     "text": [
      "Epoch 75: 100%|██████████| 6/6 [00:00<00:00, 100.00it/s, v_num=44, loss=0.00714, val_loss=0.00898]\n"
     ]
    },
    {
     "name": "stderr",
     "output_type": "stream",
     "text": [
      "[I 2024-05-07 00:23:59,064] Trial 43 finished with value: 0.008976290933787823 and parameters: {'num_camadas': 2, 'neuronios_c0': 25, 'neuronios_c1': 31, 'learning_rate': 0.003737500419807057}. Best is trial 29 with value: 0.007476270664483309.\n",
      "GPU available: True (cuda), used: True\n",
      "TPU available: False, using: 0 TPU cores\n",
      "IPU available: False, using: 0 IPUs\n",
      "HPU available: False, using: 0 HPUs\n",
      "LOCAL_RANK: 0 - CUDA_VISIBLE_DEVICES: [0]\n",
      "\n",
      "  | Name    | Type       | Params\n",
      "---------------------------------------\n",
      "0 | camadas | Sequential | 863   \n",
      "---------------------------------------\n",
      "863       Trainable params\n",
      "0         Non-trainable params\n",
      "863       Total params\n",
      "0.003     Total estimated model params size (MB)\n"
     ]
    },
    {
     "name": "stdout",
     "output_type": "stream",
     "text": [
      "Epoch 157: 100%|██████████| 6/6 [00:00<00:00, 126.27it/s, v_num=45, loss=0.0061, val_loss=0.00897] \n"
     ]
    },
    {
     "name": "stderr",
     "output_type": "stream",
     "text": [
      "[I 2024-05-07 00:24:13,043] Trial 44 finished with value: 0.008973523043096066 and parameters: {'num_camadas': 3, 'neuronios_c0': 34, 'neuronios_c1': 8, 'neuronios_c2': 31, 'learning_rate': 0.004549497355624191}. Best is trial 29 with value: 0.007476270664483309.\n",
      "GPU available: True (cuda), used: True\n",
      "TPU available: False, using: 0 TPU cores\n",
      "IPU available: False, using: 0 IPUs\n",
      "HPU available: False, using: 0 HPUs\n",
      "LOCAL_RANK: 0 - CUDA_VISIBLE_DEVICES: [0]\n",
      "\n",
      "  | Name    | Type       | Params\n",
      "---------------------------------------\n",
      "0 | camadas | Sequential | 3.2 K \n",
      "---------------------------------------\n",
      "3.2 K     Trainable params\n",
      "0         Non-trainable params\n",
      "3.2 K     Total params\n",
      "0.013     Total estimated model params size (MB)\n"
     ]
    },
    {
     "name": "stdout",
     "output_type": "stream",
     "text": [
      "Epoch 43: 100%|██████████| 6/6 [00:00<00:00, 101.22it/s, v_num=46, loss=0.0101, val_loss=0.0127] \n"
     ]
    },
    {
     "name": "stderr",
     "output_type": "stream",
     "text": [
      "[I 2024-05-07 00:24:21,572] Trial 45 finished with value: 0.012744531966745853 and parameters: {'num_camadas': 5, 'neuronios_c0': 29, 'neuronios_c1': 24, 'neuronios_c2': 45, 'neuronios_c3': 22, 'neuronios_c4': 4, 'learning_rate': 0.0056032372142023334}. Best is trial 29 with value: 0.007476270664483309.\n",
      "GPU available: True (cuda), used: True\n",
      "TPU available: False, using: 0 TPU cores\n",
      "IPU available: False, using: 0 IPUs\n",
      "HPU available: False, using: 0 HPUs\n",
      "LOCAL_RANK: 0 - CUDA_VISIBLE_DEVICES: [0]\n",
      "\n",
      "  | Name    | Type       | Params\n",
      "---------------------------------------\n",
      "0 | camadas | Sequential | 2.2 K \n",
      "---------------------------------------\n",
      "2.2 K     Trainable params\n",
      "0         Non-trainable params\n",
      "2.2 K     Total params\n",
      "0.009     Total estimated model params size (MB)\n"
     ]
    },
    {
     "name": "stdout",
     "output_type": "stream",
     "text": [
      "Epoch 96: 100%|██████████| 6/6 [00:00<00:00, 116.87it/s, v_num=47, loss=0.00595, val_loss=0.00824]\n"
     ]
    },
    {
     "name": "stderr",
     "output_type": "stream",
     "text": [
      "[I 2024-05-07 00:24:32,424] Trial 46 finished with value: 0.008236238732933998 and parameters: {'num_camadas': 3, 'neuronios_c0': 37, 'neuronios_c1': 18, 'neuronios_c2': 63, 'learning_rate': 0.00410487624687304}. Best is trial 29 with value: 0.007476270664483309.\n",
      "GPU available: True (cuda), used: True\n",
      "TPU available: False, using: 0 TPU cores\n",
      "IPU available: False, using: 0 IPUs\n",
      "HPU available: False, using: 0 HPUs\n",
      "LOCAL_RANK: 0 - CUDA_VISIBLE_DEVICES: [0]\n",
      "\n",
      "  | Name    | Type       | Params\n",
      "---------------------------------------\n",
      "0 | camadas | Sequential | 5.7 K \n",
      "---------------------------------------\n",
      "5.7 K     Trainable params\n",
      "0         Non-trainable params\n",
      "5.7 K     Total params\n",
      "0.023     Total estimated model params size (MB)\n"
     ]
    },
    {
     "name": "stdout",
     "output_type": "stream",
     "text": [
      "Epoch 46: 100%|██████████| 6/6 [00:00<00:00, 113.22it/s, v_num=48, loss=0.00788, val_loss=0.00975]\n"
     ]
    },
    {
     "name": "stderr",
     "output_type": "stream",
     "text": [
      "[I 2024-05-07 00:24:41,053] Trial 47 finished with value: 0.00975153036415577 and parameters: {'num_camadas': 4, 'neuronios_c0': 43, 'neuronios_c1': 20, 'neuronios_c2': 63, 'neuronios_c3': 48, 'learning_rate': 0.0049112385719880325}. Best is trial 29 with value: 0.007476270664483309.\n",
      "GPU available: True (cuda), used: True\n",
      "TPU available: False, using: 0 TPU cores\n",
      "IPU available: False, using: 0 IPUs\n",
      "HPU available: False, using: 0 HPUs\n",
      "LOCAL_RANK: 0 - CUDA_VISIBLE_DEVICES: [0]\n",
      "\n",
      "  | Name    | Type       | Params\n",
      "---------------------------------------\n",
      "0 | camadas | Sequential | 3.2 K \n",
      "---------------------------------------\n",
      "3.2 K     Trainable params\n",
      "0         Non-trainable params\n",
      "3.2 K     Total params\n",
      "0.013     Total estimated model params size (MB)\n"
     ]
    },
    {
     "name": "stdout",
     "output_type": "stream",
     "text": [
      "Epoch 68: 100%|██████████| 6/6 [00:00<00:00, 129.00it/s, v_num=49, loss=0.00655, val_loss=0.0086] \n"
     ]
    },
    {
     "name": "stderr",
     "output_type": "stream",
     "text": [
      "[I 2024-05-07 00:24:50,482] Trial 48 finished with value: 0.008598966524004936 and parameters: {'num_camadas': 3, 'neuronios_c0': 38, 'neuronios_c1': 30, 'neuronios_c2': 53, 'learning_rate': 0.004099711557282833}. Best is trial 29 with value: 0.007476270664483309.\n",
      "GPU available: True (cuda), used: True\n",
      "TPU available: False, using: 0 TPU cores\n",
      "IPU available: False, using: 0 IPUs\n",
      "HPU available: False, using: 0 HPUs\n",
      "LOCAL_RANK: 0 - CUDA_VISIBLE_DEVICES: [0]\n",
      "\n",
      "  | Name    | Type       | Params\n",
      "---------------------------------------\n",
      "0 | camadas | Sequential | 2.5 K \n",
      "---------------------------------------\n",
      "2.5 K     Trainable params\n",
      "0         Non-trainable params\n",
      "2.5 K     Total params\n",
      "0.010     Total estimated model params size (MB)\n"
     ]
    },
    {
     "name": "stdout",
     "output_type": "stream",
     "text": [
      "Epoch 74: 100%|██████████| 6/6 [00:00<00:00, 121.18it/s, v_num=50, loss=0.00623, val_loss=0.00856]\n"
     ]
    },
    {
     "name": "stderr",
     "output_type": "stream",
     "text": [
      "[I 2024-05-07 00:25:00,336] Trial 49 finished with value: 0.00856374017894268 and parameters: {'num_camadas': 3, 'neuronios_c0': 56, 'neuronios_c1': 16, 'neuronios_c2': 64, 'learning_rate': 0.00606624514260112}. Best is trial 29 with value: 0.007476270664483309.\n",
      "GPU available: True (cuda), used: True\n",
      "TPU available: False, using: 0 TPU cores\n",
      "IPU available: False, using: 0 IPUs\n",
      "HPU available: False, using: 0 HPUs\n",
      "LOCAL_RANK: 0 - CUDA_VISIBLE_DEVICES: [0]\n",
      "\n",
      "  | Name    | Type       | Params\n",
      "---------------------------------------\n",
      "0 | camadas | Sequential | 4.4 K \n",
      "---------------------------------------\n",
      "4.4 K     Trainable params\n",
      "0         Non-trainable params\n",
      "4.4 K     Total params\n",
      "0.018     Total estimated model params size (MB)\n"
     ]
    },
    {
     "name": "stdout",
     "output_type": "stream",
     "text": [
      "Epoch 57: 100%|██████████| 6/6 [00:00<00:00, 122.39it/s, v_num=51, loss=0.00787, val_loss=0.00971]\n"
     ]
    },
    {
     "name": "stderr",
     "output_type": "stream",
     "text": [
      "[I 2024-05-07 00:25:09,389] Trial 50 finished with value: 0.009709642268717289 and parameters: {'num_camadas': 3, 'neuronios_c0': 42, 'neuronios_c1': 39, 'neuronios_c2': 59, 'learning_rate': 0.0029057199190569154}. Best is trial 29 with value: 0.007476270664483309.\n",
      "GPU available: True (cuda), used: True\n",
      "TPU available: False, using: 0 TPU cores\n",
      "IPU available: False, using: 0 IPUs\n",
      "HPU available: False, using: 0 HPUs\n",
      "LOCAL_RANK: 0 - CUDA_VISIBLE_DEVICES: [0]\n",
      "\n",
      "  | Name    | Type       | Params\n",
      "---------------------------------------\n",
      "0 | camadas | Sequential | 449   \n",
      "---------------------------------------\n",
      "449       Trainable params\n",
      "0         Non-trainable params\n",
      "449       Total params\n",
      "0.002     Total estimated model params size (MB)\n"
     ]
    },
    {
     "name": "stdout",
     "output_type": "stream",
     "text": [
      "Epoch 128: 100%|██████████| 6/6 [00:00<00:00, 133.34it/s, v_num=52, loss=0.00759, val_loss=0.00861]\n"
     ]
    },
    {
     "name": "stderr",
     "output_type": "stream",
     "text": [
      "[I 2024-05-07 00:25:21,461] Trial 51 finished with value: 0.008609982207417488 and parameters: {'num_camadas': 2, 'neuronios_c0': 27, 'neuronios_c1': 8, 'learning_rate': 0.0035981880506631373}. Best is trial 29 with value: 0.007476270664483309.\n",
      "GPU available: True (cuda), used: True\n",
      "TPU available: False, using: 0 TPU cores\n",
      "IPU available: False, using: 0 IPUs\n",
      "HPU available: False, using: 0 HPUs\n",
      "LOCAL_RANK: 0 - CUDA_VISIBLE_DEVICES: [0]\n",
      "\n",
      "  | Name    | Type       | Params\n",
      "---------------------------------------\n",
      "0 | camadas | Sequential | 801   \n",
      "---------------------------------------\n",
      "801       Trainable params\n",
      "0         Non-trainable params\n",
      "801       Total params\n",
      "0.003     Total estimated model params size (MB)\n"
     ]
    },
    {
     "name": "stdout",
     "output_type": "stream",
     "text": [
      "Epoch 127: 100%|██████████| 6/6 [00:00<00:00, 123.71it/s, v_num=53, loss=0.00724, val_loss=0.00908]\n"
     ]
    },
    {
     "name": "stderr",
     "output_type": "stream",
     "text": [
      "[I 2024-05-07 00:25:33,688] Trial 52 finished with value: 0.009082675911486149 and parameters: {'num_camadas': 2, 'neuronios_c0': 32, 'neuronios_c1': 16, 'learning_rate': 0.0039880439187287625}. Best is trial 29 with value: 0.007476270664483309.\n",
      "GPU available: True (cuda), used: True\n",
      "TPU available: False, using: 0 TPU cores\n",
      "IPU available: False, using: 0 IPUs\n",
      "HPU available: False, using: 0 HPUs\n",
      "LOCAL_RANK: 0 - CUDA_VISIBLE_DEVICES: [0]\n",
      "\n",
      "  | Name    | Type       | Params\n",
      "---------------------------------------\n",
      "0 | camadas | Sequential | 1.6 K \n",
      "---------------------------------------\n",
      "1.6 K     Trainable params\n",
      "0         Non-trainable params\n",
      "1.6 K     Total params\n",
      "0.006     Total estimated model params size (MB)\n"
     ]
    },
    {
     "name": "stdout",
     "output_type": "stream",
     "text": [
      "Epoch 102: 100%|██████████| 6/6 [00:00<00:00, 120.02it/s, v_num=54, loss=0.00705, val_loss=0.00855]\n"
     ]
    },
    {
     "name": "stderr",
     "output_type": "stream",
     "text": [
      "[I 2024-05-07 00:25:44,474] Trial 53 finished with value: 0.008550336584448814 and parameters: {'num_camadas': 2, 'neuronios_c0': 37, 'neuronios_c1': 34, 'learning_rate': 0.004603033652454661}. Best is trial 29 with value: 0.007476270664483309.\n",
      "GPU available: True (cuda), used: True\n",
      "TPU available: False, using: 0 TPU cores\n",
      "IPU available: False, using: 0 IPUs\n",
      "HPU available: False, using: 0 HPUs\n",
      "LOCAL_RANK: 0 - CUDA_VISIBLE_DEVICES: [0]\n",
      "\n",
      "  | Name    | Type       | Params\n",
      "---------------------------------------\n",
      "0 | camadas | Sequential | 943   \n",
      "---------------------------------------\n",
      "943       Trainable params\n",
      "0         Non-trainable params\n",
      "943       Total params\n",
      "0.004     Total estimated model params size (MB)\n"
     ]
    },
    {
     "name": "stdout",
     "output_type": "stream",
     "text": [
      "Epoch 66: 100%|██████████| 6/6 [00:00<00:00, 92.30it/s, v_num=55, loss=0.011, val_loss=0.0116]   \n"
     ]
    },
    {
     "name": "stderr",
     "output_type": "stream",
     "text": [
      "[I 2024-05-07 00:25:53,769] Trial 54 finished with value: 0.011643683537840843 and parameters: {'num_camadas': 3, 'neuronios_c0': 23, 'neuronios_c1': 11, 'neuronios_c2': 38, 'learning_rate': 0.0035820824247003117}. Best is trial 29 with value: 0.007476270664483309.\n",
      "GPU available: True (cuda), used: True\n",
      "TPU available: False, using: 0 TPU cores\n",
      "IPU available: False, using: 0 IPUs\n",
      "HPU available: False, using: 0 HPUs\n",
      "LOCAL_RANK: 0 - CUDA_VISIBLE_DEVICES: [0]\n",
      "\n",
      "  | Name    | Type       | Params\n",
      "---------------------------------------\n",
      "0 | camadas | Sequential | 172   \n",
      "---------------------------------------\n",
      "172       Trainable params\n",
      "0         Non-trainable params\n",
      "172       Total params\n",
      "0.001     Total estimated model params size (MB)\n"
     ]
    },
    {
     "name": "stdout",
     "output_type": "stream",
     "text": [
      "Epoch 199: 100%|██████████| 6/6 [00:00<00:00, 142.87it/s, v_num=56, loss=0.00864, val_loss=0.011] "
     ]
    },
    {
     "name": "stderr",
     "output_type": "stream",
     "text": [
      "`Trainer.fit` stopped: `max_epochs=200` reached.\n"
     ]
    },
    {
     "name": "stdout",
     "output_type": "stream",
     "text": [
      "Epoch 199: 100%|██████████| 6/6 [00:00<00:00, 127.65it/s, v_num=56, loss=0.00864, val_loss=0.011]\n"
     ]
    },
    {
     "name": "stderr",
     "output_type": "stream",
     "text": [
      "[I 2024-05-07 00:26:08,688] Trial 55 finished with value: 0.010975529439747334 and parameters: {'num_camadas': 1, 'neuronios_c0': 19, 'learning_rate': 0.002519120278580322}. Best is trial 29 with value: 0.007476270664483309.\n",
      "GPU available: True (cuda), used: True\n",
      "TPU available: False, using: 0 TPU cores\n",
      "IPU available: False, using: 0 IPUs\n",
      "HPU available: False, using: 0 HPUs\n",
      "LOCAL_RANK: 0 - CUDA_VISIBLE_DEVICES: [0]\n",
      "\n",
      "  | Name    | Type       | Params\n",
      "---------------------------------------\n",
      "0 | camadas | Sequential | 3.4 K \n",
      "---------------------------------------\n",
      "3.4 K     Trainable params\n",
      "0         Non-trainable params\n",
      "3.4 K     Total params\n",
      "0.014     Total estimated model params size (MB)\n"
     ]
    },
    {
     "name": "stdout",
     "output_type": "stream",
     "text": [
      "Epoch 42: 100%|██████████| 6/6 [00:00<00:00, 113.22it/s, v_num=57, loss=0.00753, val_loss=0.0101] \n"
     ]
    },
    {
     "name": "stderr",
     "output_type": "stream",
     "text": [
      "[I 2024-05-07 00:26:16,804] Trial 56 finished with value: 0.010073050856590271 and parameters: {'num_camadas': 4, 'neuronios_c0': 25, 'neuronios_c1': 27, 'neuronios_c2': 51, 'neuronios_c3': 20, 'learning_rate': 0.004334026356672512}. Best is trial 29 with value: 0.007476270664483309.\n",
      "GPU available: True (cuda), used: True\n",
      "TPU available: False, using: 0 TPU cores\n",
      "IPU available: False, using: 0 IPUs\n",
      "HPU available: False, using: 0 HPUs\n",
      "LOCAL_RANK: 0 - CUDA_VISIBLE_DEVICES: [0]\n",
      "\n",
      "  | Name    | Type       | Params\n",
      "---------------------------------------\n",
      "0 | camadas | Sequential | 3.6 K \n",
      "---------------------------------------\n",
      "3.6 K     Trainable params\n",
      "0         Non-trainable params\n",
      "3.6 K     Total params\n",
      "0.014     Total estimated model params size (MB)\n"
     ]
    },
    {
     "name": "stdout",
     "output_type": "stream",
     "text": [
      "Epoch 69: 100%|██████████| 6/6 [00:00<00:00, 131.86it/s, v_num=58, loss=0.00662, val_loss=0.00896]\n"
     ]
    },
    {
     "name": "stderr",
     "output_type": "stream",
     "text": [
      "[I 2024-05-07 00:26:26,151] Trial 57 finished with value: 0.008958892896771431 and parameters: {'num_camadas': 3, 'neuronios_c0': 29, 'neuronios_c1': 44, 'neuronios_c2': 44, 'learning_rate': 0.005257127565569248}. Best is trial 29 with value: 0.007476270664483309.\n",
      "GPU available: True (cuda), used: True\n",
      "TPU available: False, using: 0 TPU cores\n",
      "IPU available: False, using: 0 IPUs\n",
      "HPU available: False, using: 0 HPUs\n",
      "LOCAL_RANK: 0 - CUDA_VISIBLE_DEVICES: [0]\n",
      "\n",
      "  | Name    | Type       | Params\n",
      "---------------------------------------\n",
      "0 | camadas | Sequential | 1.7 K \n",
      "---------------------------------------\n",
      "1.7 K     Trainable params\n",
      "0         Non-trainable params\n",
      "1.7 K     Total params\n",
      "0.007     Total estimated model params size (MB)\n"
     ]
    },
    {
     "name": "stdout",
     "output_type": "stream",
     "text": [
      "Epoch 86: 100%|██████████| 6/6 [00:00<00:00, 129.03it/s, v_num=59, loss=0.00773, val_loss=0.00853]\n"
     ]
    },
    {
     "name": "stderr",
     "output_type": "stream",
     "text": [
      "[I 2024-05-07 00:26:36,086] Trial 58 finished with value: 0.008530438877642155 and parameters: {'num_camadas': 2, 'neuronios_c0': 34, 'neuronios_c1': 41, 'learning_rate': 0.003851964852532191}. Best is trial 29 with value: 0.007476270664483309.\n",
      "GPU available: True (cuda), used: True\n",
      "TPU available: False, using: 0 TPU cores\n",
      "IPU available: False, using: 0 IPUs\n",
      "HPU available: False, using: 0 HPUs\n",
      "LOCAL_RANK: 0 - CUDA_VISIBLE_DEVICES: [0]\n",
      "\n",
      "  | Name    | Type       | Params\n",
      "---------------------------------------\n",
      "0 | camadas | Sequential | 5.1 K \n",
      "---------------------------------------\n",
      "5.1 K     Trainable params\n",
      "0         Non-trainable params\n",
      "5.1 K     Total params\n",
      "0.020     Total estimated model params size (MB)\n"
     ]
    },
    {
     "name": "stdout",
     "output_type": "stream",
     "text": [
      "Epoch 57: 100%|██████████| 6/6 [00:00<00:00, 120.00it/s, v_num=60, loss=0.00745, val_loss=0.00992]\n"
     ]
    },
    {
     "name": "stderr",
     "output_type": "stream",
     "text": [
      "[I 2024-05-07 00:26:45,137] Trial 59 finished with value: 0.009915132075548172 and parameters: {'num_camadas': 4, 'neuronios_c0': 40, 'neuronios_c1': 19, 'neuronios_c2': 57, 'neuronios_c3': 48, 'learning_rate': 0.0031378753942640576}. Best is trial 29 with value: 0.007476270664483309.\n",
      "GPU available: True (cuda), used: True\n",
      "TPU available: False, using: 0 TPU cores\n",
      "IPU available: False, using: 0 IPUs\n",
      "HPU available: False, using: 0 HPUs\n",
      "LOCAL_RANK: 0 - CUDA_VISIBLE_DEVICES: [0]\n",
      "\n",
      "  | Name    | Type       | Params\n",
      "---------------------------------------\n",
      "0 | camadas | Sequential | 920   \n",
      "---------------------------------------\n",
      "920       Trainable params\n",
      "0         Non-trainable params\n",
      "920       Total params\n",
      "0.004     Total estimated model params size (MB)\n"
     ]
    },
    {
     "name": "stdout",
     "output_type": "stream",
     "text": [
      "Epoch 95: 100%|██████████| 6/6 [00:00<00:00, 123.14it/s, v_num=61, loss=0.00855, val_loss=0.0098] \n"
     ]
    },
    {
     "name": "stderr",
     "output_type": "stream",
     "text": [
      "[I 2024-05-07 00:26:55,518] Trial 60 finished with value: 0.00979517214000225 and parameters: {'num_camadas': 2, 'neuronios_c0': 15, 'neuronios_c1': 47, 'learning_rate': 0.004840080705243663}. Best is trial 29 with value: 0.007476270664483309.\n",
      "GPU available: True (cuda), used: True\n",
      "TPU available: False, using: 0 TPU cores\n",
      "IPU available: False, using: 0 IPUs\n",
      "HPU available: False, using: 0 HPUs\n",
      "LOCAL_RANK: 0 - CUDA_VISIBLE_DEVICES: [0]\n",
      "\n",
      "  | Name    | Type       | Params\n",
      "---------------------------------------\n",
      "0 | camadas | Sequential | 1.7 K \n",
      "---------------------------------------\n",
      "1.7 K     Trainable params\n",
      "0         Non-trainable params\n",
      "1.7 K     Total params\n",
      "0.007     Total estimated model params size (MB)\n"
     ]
    },
    {
     "name": "stdout",
     "output_type": "stream",
     "text": [
      "Epoch 79: 100%|██████████| 6/6 [00:00<00:00, 115.39it/s, v_num=62, loss=0.00755, val_loss=0.00908]\n"
     ]
    },
    {
     "name": "stderr",
     "output_type": "stream",
     "text": [
      "[I 2024-05-07 00:27:05,204] Trial 61 finished with value: 0.009081796742975712 and parameters: {'num_camadas': 2, 'neuronios_c0': 33, 'neuronios_c1': 40, 'learning_rate': 0.003963592894044625}. Best is trial 29 with value: 0.007476270664483309.\n",
      "GPU available: True (cuda), used: True\n",
      "TPU available: False, using: 0 TPU cores\n",
      "IPU available: False, using: 0 IPUs\n",
      "HPU available: False, using: 0 HPUs\n",
      "LOCAL_RANK: 0 - CUDA_VISIBLE_DEVICES: [0]\n",
      "\n",
      "  | Name    | Type       | Params\n",
      "---------------------------------------\n",
      "0 | camadas | Sequential | 1.7 K \n",
      "---------------------------------------\n",
      "1.7 K     Trainable params\n",
      "0         Non-trainable params\n",
      "1.7 K     Total params\n",
      "0.007     Total estimated model params size (MB)\n"
     ]
    },
    {
     "name": "stdout",
     "output_type": "stream",
     "text": [
      "Epoch 59: 100%|██████████| 6/6 [00:00<00:00, 133.33it/s, v_num=63, loss=0.00864, val_loss=0.0106]\n"
     ]
    },
    {
     "name": "stderr",
     "output_type": "stream",
     "text": [
      "[I 2024-05-07 00:27:13,977] Trial 62 finished with value: 0.010647496208548546 and parameters: {'num_camadas': 2, 'neuronios_c0': 36, 'neuronios_c1': 37, 'learning_rate': 0.00373650693001183}. Best is trial 29 with value: 0.007476270664483309.\n",
      "GPU available: True (cuda), used: True\n",
      "TPU available: False, using: 0 TPU cores\n",
      "IPU available: False, using: 0 IPUs\n",
      "HPU available: False, using: 0 HPUs\n",
      "LOCAL_RANK: 0 - CUDA_VISIBLE_DEVICES: [0]\n",
      "\n",
      "  | Name    | Type       | Params\n",
      "---------------------------------------\n",
      "0 | camadas | Sequential | 271   \n",
      "---------------------------------------\n",
      "271       Trainable params\n",
      "0         Non-trainable params\n",
      "271       Total params\n",
      "0.001     Total estimated model params size (MB)\n"
     ]
    },
    {
     "name": "stdout",
     "output_type": "stream",
     "text": [
      "Epoch 132: 100%|██████████| 6/6 [00:00<00:00, 125.01it/s, v_num=64, loss=0.0092, val_loss=0.0101] \n"
     ]
    },
    {
     "name": "stderr",
     "output_type": "stream",
     "text": [
      "[I 2024-05-07 00:27:25,802] Trial 63 finished with value: 0.010103142820298672 and parameters: {'num_camadas': 1, 'neuronios_c0': 30, 'learning_rate': 0.003381703459764591}. Best is trial 29 with value: 0.007476270664483309.\n",
      "GPU available: True (cuda), used: True\n",
      "TPU available: False, using: 0 TPU cores\n",
      "IPU available: False, using: 0 IPUs\n",
      "HPU available: False, using: 0 HPUs\n",
      "LOCAL_RANK: 0 - CUDA_VISIBLE_DEVICES: [0]\n",
      "\n",
      "  | Name    | Type       | Params\n",
      "---------------------------------------\n",
      "0 | camadas | Sequential | 1.1 K \n",
      "---------------------------------------\n",
      "1.1 K     Trainable params\n",
      "0         Non-trainable params\n",
      "1.1 K     Total params\n",
      "0.004     Total estimated model params size (MB)\n"
     ]
    },
    {
     "name": "stdout",
     "output_type": "stream",
     "text": [
      "Epoch 61: 100%|██████████| 6/6 [00:00<00:00, 120.02it/s, v_num=65, loss=0.00811, val_loss=0.0096] \n"
     ]
    },
    {
     "name": "stderr",
     "output_type": "stream",
     "text": [
      "[I 2024-05-07 00:27:34,631] Trial 64 finished with value: 0.009600996971130371 and parameters: {'num_camadas': 2, 'neuronios_c0': 26, 'neuronios_c1': 32, 'learning_rate': 0.004238798901927871}. Best is trial 29 with value: 0.007476270664483309.\n",
      "GPU available: True (cuda), used: True\n",
      "TPU available: False, using: 0 TPU cores\n",
      "IPU available: False, using: 0 IPUs\n",
      "HPU available: False, using: 0 HPUs\n",
      "LOCAL_RANK: 0 - CUDA_VISIBLE_DEVICES: [0]\n",
      "\n",
      "  | Name    | Type       | Params\n",
      "---------------------------------------\n",
      "0 | camadas | Sequential | 1.1 K \n",
      "---------------------------------------\n",
      "1.1 K     Trainable params\n",
      "0         Non-trainable params\n",
      "1.1 K     Total params\n",
      "0.004     Total estimated model params size (MB)\n"
     ]
    },
    {
     "name": "stdout",
     "output_type": "stream",
     "text": [
      "Epoch 92: 100%|██████████| 6/6 [00:00<00:00, 121.17it/s, v_num=66, loss=0.0079, val_loss=0.00869] \n"
     ]
    },
    {
     "name": "stderr",
     "output_type": "stream",
     "text": [
      "[I 2024-05-07 00:27:45,027] Trial 65 finished with value: 0.008694714866578579 and parameters: {'num_camadas': 2, 'neuronios_c0': 21, 'neuronios_c1': 39, 'learning_rate': 0.002905036064950189}. Best is trial 29 with value: 0.007476270664483309.\n",
      "GPU available: True (cuda), used: True\n",
      "TPU available: False, using: 0 TPU cores\n",
      "IPU available: False, using: 0 IPUs\n",
      "HPU available: False, using: 0 HPUs\n",
      "LOCAL_RANK: 0 - CUDA_VISIBLE_DEVICES: [0]\n",
      "\n",
      "  | Name    | Type       | Params\n",
      "---------------------------------------\n",
      "0 | camadas | Sequential | 2.9 K \n",
      "---------------------------------------\n",
      "2.9 K     Trainable params\n",
      "0         Non-trainable params\n",
      "2.9 K     Total params\n",
      "0.011     Total estimated model params size (MB)\n"
     ]
    },
    {
     "name": "stdout",
     "output_type": "stream",
     "text": [
      "Epoch 70: 100%|██████████| 6/6 [00:00<00:00, 133.33it/s, v_num=67, loss=0.00794, val_loss=0.00909]\n"
     ]
    },
    {
     "name": "stderr",
     "output_type": "stream",
     "text": [
      "[I 2024-05-07 00:27:54,523] Trial 66 finished with value: 0.009085705503821373 and parameters: {'num_camadas': 3, 'neuronios_c0': 34, 'neuronios_c1': 35, 'neuronios_c2': 37, 'learning_rate': 0.003847062420074838}. Best is trial 29 with value: 0.007476270664483309.\n",
      "GPU available: True (cuda), used: True\n",
      "TPU available: False, using: 0 TPU cores\n",
      "IPU available: False, using: 0 IPUs\n",
      "HPU available: False, using: 0 HPUs\n",
      "LOCAL_RANK: 0 - CUDA_VISIBLE_DEVICES: [0]\n",
      "\n",
      "  | Name    | Type       | Params\n",
      "---------------------------------------\n",
      "0 | camadas | Sequential | 2.4 K \n",
      "---------------------------------------\n",
      "2.4 K     Trainable params\n",
      "0         Non-trainable params\n",
      "2.4 K     Total params\n",
      "0.009     Total estimated model params size (MB)\n"
     ]
    },
    {
     "name": "stdout",
     "output_type": "stream",
     "text": [
      "Epoch 99: 100%|██████████| 6/6 [00:00<00:00, 119.93it/s, v_num=68, loss=0.00662, val_loss=0.00844]\n"
     ]
    },
    {
     "name": "stderr",
     "output_type": "stream",
     "text": [
      "[I 2024-05-07 00:28:05,251] Trial 67 finished with value: 0.008443647064268589 and parameters: {'num_camadas': 2, 'neuronios_c0': 32, 'neuronios_c1': 62, 'learning_rate': 0.0045666048358106994}. Best is trial 29 with value: 0.007476270664483309.\n",
      "GPU available: True (cuda), used: True\n",
      "TPU available: False, using: 0 TPU cores\n",
      "IPU available: False, using: 0 IPUs\n",
      "HPU available: False, using: 0 HPUs\n",
      "LOCAL_RANK: 0 - CUDA_VISIBLE_DEVICES: [0]\n",
      "\n",
      "  | Name    | Type       | Params\n",
      "---------------------------------------\n",
      "0 | camadas | Sequential | 3.7 K \n",
      "---------------------------------------\n",
      "3.7 K     Trainable params\n",
      "0         Non-trainable params\n",
      "3.7 K     Total params\n",
      "0.015     Total estimated model params size (MB)\n"
     ]
    },
    {
     "name": "stdout",
     "output_type": "stream",
     "text": [
      "Epoch 73: 100%|██████████| 6/6 [00:00<00:00, 121.80it/s, v_num=69, loss=0.00701, val_loss=0.0081] \n"
     ]
    },
    {
     "name": "stderr",
     "output_type": "stream",
     "text": [
      "[I 2024-05-07 00:28:14,871] Trial 68 finished with value: 0.008097258396446705 and parameters: {'num_camadas': 3, 'neuronios_c0': 27, 'neuronios_c1': 61, 'neuronios_c2': 28, 'learning_rate': 0.004524561968333202}. Best is trial 29 with value: 0.007476270664483309.\n",
      "GPU available: True (cuda), used: True\n",
      "TPU available: False, using: 0 TPU cores\n",
      "IPU available: False, using: 0 IPUs\n",
      "HPU available: False, using: 0 HPUs\n",
      "LOCAL_RANK: 0 - CUDA_VISIBLE_DEVICES: [0]\n",
      "\n",
      "  | Name    | Type       | Params\n",
      "---------------------------------------\n",
      "0 | camadas | Sequential | 605   \n",
      "---------------------------------------\n",
      "605       Trainable params\n",
      "0         Non-trainable params\n",
      "605       Total params\n",
      "0.002     Total estimated model params size (MB)\n"
     ]
    },
    {
     "name": "stdout",
     "output_type": "stream",
     "text": [
      "Epoch 118: 100%|██████████| 6/6 [00:00<00:00, 122.46it/s, v_num=70, loss=0.00735, val_loss=0.0082] \n"
     ]
    },
    {
     "name": "stderr",
     "output_type": "stream",
     "text": [
      "[I 2024-05-07 00:28:26,542] Trial 69 finished with value: 0.008199292235076427 and parameters: {'num_camadas': 3, 'neuronios_c0': 23, 'neuronios_c1': 7, 'neuronios_c2': 28, 'learning_rate': 0.004979024163448201}. Best is trial 29 with value: 0.007476270664483309.\n",
      "GPU available: True (cuda), used: True\n",
      "TPU available: False, using: 0 TPU cores\n",
      "IPU available: False, using: 0 IPUs\n",
      "HPU available: False, using: 0 HPUs\n",
      "LOCAL_RANK: 0 - CUDA_VISIBLE_DEVICES: [0]\n",
      "\n",
      "  | Name    | Type       | Params\n",
      "---------------------------------------\n",
      "0 | camadas | Sequential | 3.3 K \n",
      "---------------------------------------\n",
      "3.3 K     Trainable params\n",
      "0         Non-trainable params\n",
      "3.3 K     Total params\n",
      "0.013     Total estimated model params size (MB)\n"
     ]
    },
    {
     "name": "stdout",
     "output_type": "stream",
     "text": [
      "Epoch 39: 100%|██████████| 6/6 [00:00<00:00, 130.39it/s, v_num=71, loss=0.00802, val_loss=0.011] \n"
     ]
    },
    {
     "name": "stderr",
     "output_type": "stream",
     "text": [
      "[I 2024-05-07 00:28:34,404] Trial 70 finished with value: 0.010974225588142872 and parameters: {'num_camadas': 3, 'neuronios_c0': 23, 'neuronios_c1': 59, 'neuronios_c2': 28, 'learning_rate': 0.00516228908695732}. Best is trial 29 with value: 0.007476270664483309.\n",
      "GPU available: True (cuda), used: True\n",
      "TPU available: False, using: 0 TPU cores\n",
      "IPU available: False, using: 0 IPUs\n",
      "HPU available: False, using: 0 HPUs\n",
      "LOCAL_RANK: 0 - CUDA_VISIBLE_DEVICES: [0]\n",
      "\n",
      "  | Name    | Type       | Params\n",
      "---------------------------------------\n",
      "0 | camadas | Sequential | 490   \n",
      "---------------------------------------\n",
      "490       Trainable params\n",
      "0         Non-trainable params\n",
      "490       Total params\n",
      "0.002     Total estimated model params size (MB)\n"
     ]
    },
    {
     "name": "stdout",
     "output_type": "stream",
     "text": [
      "Epoch 73: 100%|██████████| 6/6 [00:00<00:00, 121.20it/s, v_num=72, loss=0.00722, val_loss=0.00957]\n"
     ]
    },
    {
     "name": "stderr",
     "output_type": "stream",
     "text": [
      "[I 2024-05-07 00:28:43,942] Trial 71 finished with value: 0.009565629065036774 and parameters: {'num_camadas': 3, 'neuronios_c0': 27, 'neuronios_c1': 5, 'neuronios_c2': 19, 'learning_rate': 0.004926311998625673}. Best is trial 29 with value: 0.007476270664483309.\n",
      "GPU available: True (cuda), used: True\n",
      "TPU available: False, using: 0 TPU cores\n",
      "IPU available: False, using: 0 IPUs\n",
      "HPU available: False, using: 0 HPUs\n",
      "LOCAL_RANK: 0 - CUDA_VISIBLE_DEVICES: [0]\n",
      "\n",
      "  | Name    | Type       | Params\n",
      "---------------------------------------\n",
      "0 | camadas | Sequential | 693   \n",
      "---------------------------------------\n",
      "693       Trainable params\n",
      "0         Non-trainable params\n",
      "693       Total params\n",
      "0.003     Total estimated model params size (MB)\n"
     ]
    },
    {
     "name": "stdout",
     "output_type": "stream",
     "text": [
      "Epoch 82: 100%|██████████| 6/6 [00:00<00:00, 121.18it/s, v_num=73, loss=0.00801, val_loss=0.0101] \n"
     ]
    },
    {
     "name": "stderr",
     "output_type": "stream",
     "text": [
      "[I 2024-05-07 00:28:54,212] Trial 72 finished with value: 0.010070635005831718 and parameters: {'num_camadas': 3, 'neuronios_c0': 24, 'neuronios_c1': 8, 'neuronios_c2': 30, 'learning_rate': 0.004353550426543077}. Best is trial 29 with value: 0.007476270664483309.\n",
      "GPU available: True (cuda), used: True\n",
      "TPU available: False, using: 0 TPU cores\n",
      "IPU available: False, using: 0 IPUs\n",
      "HPU available: False, using: 0 HPUs\n",
      "LOCAL_RANK: 0 - CUDA_VISIBLE_DEVICES: [0]\n",
      "\n",
      "  | Name    | Type       | Params\n",
      "---------------------------------------\n",
      "0 | camadas | Sequential | 797   \n",
      "---------------------------------------\n",
      "797       Trainable params\n",
      "0         Non-trainable params\n",
      "797       Total params\n",
      "0.003     Total estimated model params size (MB)\n"
     ]
    },
    {
     "name": "stdout",
     "output_type": "stream",
     "text": [
      "Epoch 68: 100%|██████████| 6/6 [00:00<00:00, 132.93it/s, v_num=74, loss=0.00894, val_loss=0.00944]\n"
     ]
    },
    {
     "name": "stderr",
     "output_type": "stream",
     "text": [
      "[I 2024-05-07 00:29:03,710] Trial 73 finished with value: 0.00943543016910553 and parameters: {'num_camadas': 3, 'neuronios_c0': 21, 'neuronios_c1': 10, 'neuronios_c2': 34, 'learning_rate': 0.005582972540066008}. Best is trial 29 with value: 0.007476270664483309.\n",
      "GPU available: True (cuda), used: True\n",
      "TPU available: False, using: 0 TPU cores\n",
      "IPU available: False, using: 0 IPUs\n",
      "HPU available: False, using: 0 HPUs\n",
      "LOCAL_RANK: 0 - CUDA_VISIBLE_DEVICES: [0]\n",
      "\n",
      "  | Name    | Type       | Params\n",
      "---------------------------------------\n",
      "0 | camadas | Sequential | 805   \n",
      "---------------------------------------\n",
      "805       Trainable params\n",
      "0         Non-trainable params\n",
      "805       Total params\n",
      "0.003     Total estimated model params size (MB)\n"
     ]
    },
    {
     "name": "stdout",
     "output_type": "stream",
     "text": [
      "Epoch 103: 100%|██████████| 6/6 [00:00<00:00, 129.00it/s, v_num=75, loss=0.00676, val_loss=0.00877]\n"
     ]
    },
    {
     "name": "stderr",
     "output_type": "stream",
     "text": [
      "[I 2024-05-07 00:29:14,720] Trial 74 finished with value: 0.008767841383814812 and parameters: {'num_camadas': 3, 'neuronios_c0': 17, 'neuronios_c1': 14, 'neuronios_c2': 26, 'learning_rate': 0.0047026382860785865}. Best is trial 29 with value: 0.007476270664483309.\n",
      "GPU available: True (cuda), used: True\n",
      "TPU available: False, using: 0 TPU cores\n",
      "IPU available: False, using: 0 IPUs\n",
      "HPU available: False, using: 0 HPUs\n",
      "LOCAL_RANK: 0 - CUDA_VISIBLE_DEVICES: [0]\n",
      "\n",
      "  | Name    | Type       | Params\n",
      "---------------------------------------\n",
      "0 | camadas | Sequential | 3.1 K \n",
      "---------------------------------------\n",
      "3.1 K     Trainable params\n",
      "0         Non-trainable params\n",
      "3.1 K     Total params\n",
      "0.012     Total estimated model params size (MB)\n"
     ]
    },
    {
     "name": "stdout",
     "output_type": "stream",
     "text": [
      "Epoch 96: 100%|██████████| 6/6 [00:00<00:00, 123.65it/s, v_num=76, loss=0.00777, val_loss=0.00849]\n"
     ]
    },
    {
     "name": "stderr",
     "output_type": "stream",
     "text": [
      "[I 2024-05-07 00:29:25,423] Trial 75 finished with value: 0.008486073464155197 and parameters: {'num_camadas': 3, 'neuronios_c0': 27, 'neuronios_c1': 57, 'neuronios_c2': 21, 'learning_rate': 0.004148750447266536}. Best is trial 29 with value: 0.007476270664483309.\n",
      "GPU available: True (cuda), used: True\n",
      "TPU available: False, using: 0 TPU cores\n",
      "IPU available: False, using: 0 IPUs\n",
      "HPU available: False, using: 0 HPUs\n",
      "LOCAL_RANK: 0 - CUDA_VISIBLE_DEVICES: [0]\n",
      "\n",
      "  | Name    | Type       | Params\n",
      "---------------------------------------\n",
      "0 | camadas | Sequential | 1.1 K \n",
      "---------------------------------------\n",
      "1.1 K     Trainable params\n",
      "0         Non-trainable params\n",
      "1.1 K     Total params\n",
      "0.004     Total estimated model params size (MB)\n"
     ]
    },
    {
     "name": "stdout",
     "output_type": "stream",
     "text": [
      "Epoch 32: 100%|██████████| 6/6 [00:00<00:00, 132.78it/s, v_num=77, loss=0.0113, val_loss=0.0142]\n"
     ]
    },
    {
     "name": "stderr",
     "output_type": "stream",
     "text": [
      "[I 2024-05-07 00:29:33,240] Trial 76 finished with value: 0.014160492457449436 and parameters: {'num_camadas': 4, 'neuronios_c0': 19, 'neuronios_c1': 6, 'neuronios_c2': 34, 'neuronios_c3': 17, 'learning_rate': 0.0050897777239661225}. Best is trial 29 with value: 0.007476270664483309.\n",
      "GPU available: True (cuda), used: True\n",
      "TPU available: False, using: 0 TPU cores\n",
      "IPU available: False, using: 0 IPUs\n",
      "HPU available: False, using: 0 HPUs\n",
      "LOCAL_RANK: 0 - CUDA_VISIBLE_DEVICES: [0]\n",
      "\n",
      "  | Name    | Type       | Params\n",
      "---------------------------------------\n",
      "0 | camadas | Sequential | 1.6 K \n",
      "---------------------------------------\n",
      "1.6 K     Trainable params\n",
      "0         Non-trainable params\n",
      "1.6 K     Total params\n",
      "0.006     Total estimated model params size (MB)\n"
     ]
    },
    {
     "name": "stdout",
     "output_type": "stream",
     "text": [
      "Epoch 102: 100%|██████████| 6/6 [00:00<00:00, 102.47it/s, v_num=78, loss=0.00683, val_loss=0.00909]\n"
     ]
    },
    {
     "name": "stderr",
     "output_type": "stream",
     "text": [
      "[I 2024-05-07 00:29:44,316] Trial 77 finished with value: 0.009092772379517555 and parameters: {'num_camadas': 3, 'neuronios_c0': 25, 'neuronios_c1': 28, 'neuronios_c2': 23, 'learning_rate': 0.004438005987595689}. Best is trial 29 with value: 0.007476270664483309.\n",
      "GPU available: True (cuda), used: True\n",
      "TPU available: False, using: 0 TPU cores\n",
      "IPU available: False, using: 0 IPUs\n",
      "HPU available: False, using: 0 HPUs\n",
      "LOCAL_RANK: 0 - CUDA_VISIBLE_DEVICES: [0]\n",
      "\n",
      "  | Name    | Type       | Params\n",
      "---------------------------------------\n",
      "0 | camadas | Sequential | 2.2 K \n",
      "---------------------------------------\n",
      "2.2 K     Trainable params\n",
      "0         Non-trainable params\n",
      "2.2 K     Total params\n",
      "0.009     Total estimated model params size (MB)\n"
     ]
    },
    {
     "name": "stdout",
     "output_type": "stream",
     "text": [
      "Epoch 115: 100%|██████████| 6/6 [00:00<00:00, 123.68it/s, v_num=79, loss=0.00749, val_loss=0.00975]\n"
     ]
    },
    {
     "name": "stderr",
     "output_type": "stream",
     "text": [
      "[I 2024-05-07 00:29:56,102] Trial 78 finished with value: 0.009748837910592556 and parameters: {'num_camadas': 3, 'neuronios_c0': 22, 'neuronios_c1': 49, 'neuronios_c2': 17, 'learning_rate': 0.0034901962414943645}. Best is trial 29 with value: 0.007476270664483309.\n",
      "GPU available: True (cuda), used: True\n",
      "TPU available: False, using: 0 TPU cores\n",
      "IPU available: False, using: 0 IPUs\n",
      "HPU available: False, using: 0 HPUs\n",
      "LOCAL_RANK: 0 - CUDA_VISIBLE_DEVICES: [0]\n",
      "\n",
      "  | Name    | Type       | Params\n",
      "---------------------------------------\n",
      "0 | camadas | Sequential | 6.3 K \n",
      "---------------------------------------\n",
      "6.3 K     Trainable params\n",
      "0         Non-trainable params\n",
      "6.3 K     Total params\n",
      "0.025     Total estimated model params size (MB)\n"
     ]
    },
    {
     "name": "stdout",
     "output_type": "stream",
     "text": [
      "Epoch 63: 100%|██████████| 6/6 [00:00<00:00, 115.39it/s, v_num=80, loss=0.00667, val_loss=0.00873]\n"
     ]
    },
    {
     "name": "stderr",
     "output_type": "stream",
     "text": [
      "[I 2024-05-07 00:30:05,190] Trial 79 finished with value: 0.008729750290513039 and parameters: {'num_camadas': 3, 'neuronios_c0': 30, 'neuronios_c1': 64, 'neuronios_c2': 61, 'learning_rate': 0.004671402274553295}. Best is trial 29 with value: 0.007476270664483309.\n",
      "GPU available: True (cuda), used: True\n",
      "TPU available: False, using: 0 TPU cores\n",
      "IPU available: False, using: 0 IPUs\n",
      "HPU available: False, using: 0 HPUs\n",
      "LOCAL_RANK: 0 - CUDA_VISIBLE_DEVICES: [0]\n",
      "\n",
      "  | Name    | Type       | Params\n",
      "---------------------------------------\n",
      "0 | camadas | Sequential | 1.0 K \n",
      "---------------------------------------\n",
      "1.0 K     Trainable params\n",
      "0         Non-trainable params\n",
      "1.0 K     Total params\n",
      "0.004     Total estimated model params size (MB)\n"
     ]
    },
    {
     "name": "stdout",
     "output_type": "stream",
     "text": [
      "Epoch 30: 100%|██████████| 6/6 [00:00<00:00, 74.55it/s, v_num=81, loss=0.0117, val_loss=0.0141] \n"
     ]
    },
    {
     "name": "stderr",
     "output_type": "stream",
     "text": [
      "[I 2024-05-07 00:30:12,844] Trial 80 finished with value: 0.014090093784034252 and parameters: {'num_camadas': 4, 'neuronios_c0': 12, 'neuronios_c1': 18, 'neuronios_c2': 8, 'neuronios_c3': 52, 'learning_rate': 0.004119450320787551}. Best is trial 29 with value: 0.007476270664483309.\n",
      "GPU available: True (cuda), used: True\n",
      "TPU available: False, using: 0 TPU cores\n",
      "IPU available: False, using: 0 IPUs\n",
      "HPU available: False, using: 0 HPUs\n",
      "LOCAL_RANK: 0 - CUDA_VISIBLE_DEVICES: [0]\n",
      "\n",
      "  | Name    | Type       | Params\n",
      "---------------------------------------\n",
      "0 | camadas | Sequential | 2.3 K \n",
      "---------------------------------------\n",
      "2.3 K     Trainable params\n",
      "0         Non-trainable params\n",
      "2.3 K     Total params\n",
      "0.009     Total estimated model params size (MB)\n"
     ]
    },
    {
     "name": "stdout",
     "output_type": "stream",
     "text": [
      "Epoch 66: 100%|██████████| 6/6 [00:00<00:00, 117.64it/s, v_num=82, loss=0.00737, val_loss=0.00818]\n"
     ]
    },
    {
     "name": "stderr",
     "output_type": "stream",
     "text": [
      "[I 2024-05-07 00:30:22,003] Trial 81 finished with value: 0.008178837597370148 and parameters: {'num_camadas': 2, 'neuronios_c0': 31, 'neuronios_c1': 62, 'learning_rate': 0.005507562972908827}. Best is trial 29 with value: 0.007476270664483309.\n",
      "GPU available: True (cuda), used: True\n",
      "TPU available: False, using: 0 TPU cores\n",
      "IPU available: False, using: 0 IPUs\n",
      "HPU available: False, using: 0 HPUs\n",
      "LOCAL_RANK: 0 - CUDA_VISIBLE_DEVICES: [0]\n",
      "\n",
      "  | Name    | Type       | Params\n",
      "---------------------------------------\n",
      "0 | camadas | Sequential | 253   \n",
      "---------------------------------------\n",
      "253       Trainable params\n",
      "0         Non-trainable params\n",
      "253       Total params\n",
      "0.001     Total estimated model params size (MB)\n"
     ]
    },
    {
     "name": "stdout",
     "output_type": "stream",
     "text": [
      "Epoch 149: 100%|██████████| 6/6 [00:00<00:00, 136.37it/s, v_num=83, loss=0.00816, val_loss=0.0103]\n"
     ]
    },
    {
     "name": "stderr",
     "output_type": "stream",
     "text": [
      "[I 2024-05-07 00:30:34,705] Trial 82 finished with value: 0.010340282693505287 and parameters: {'num_camadas': 1, 'neuronios_c0': 28, 'learning_rate': 0.005446314648277131}. Best is trial 29 with value: 0.007476270664483309.\n",
      "GPU available: True (cuda), used: True\n",
      "TPU available: False, using: 0 TPU cores\n",
      "IPU available: False, using: 0 IPUs\n",
      "HPU available: False, using: 0 HPUs\n",
      "LOCAL_RANK: 0 - CUDA_VISIBLE_DEVICES: [0]\n",
      "\n",
      "  | Name    | Type       | Params\n",
      "---------------------------------------\n",
      "0 | camadas | Sequential | 2.1 K \n",
      "---------------------------------------\n",
      "2.1 K     Trainable params\n",
      "0         Non-trainable params\n",
      "2.1 K     Total params\n",
      "0.008     Total estimated model params size (MB)\n"
     ]
    },
    {
     "name": "stdout",
     "output_type": "stream",
     "text": [
      "Epoch 48: 100%|██████████| 6/6 [00:00<00:00, 123.68it/s, v_num=84, loss=0.00699, val_loss=0.00851]\n"
     ]
    },
    {
     "name": "stderr",
     "output_type": "stream",
     "text": [
      "[I 2024-05-07 00:30:42,917] Trial 83 finished with value: 0.008505402132868767 and parameters: {'num_camadas': 2, 'neuronios_c0': 31, 'neuronios_c1': 56, 'learning_rate': 0.005777203649463866}. Best is trial 29 with value: 0.007476270664483309.\n",
      "GPU available: True (cuda), used: True\n",
      "TPU available: False, using: 0 TPU cores\n",
      "IPU available: False, using: 0 IPUs\n",
      "HPU available: False, using: 0 HPUs\n",
      "LOCAL_RANK: 0 - CUDA_VISIBLE_DEVICES: [0]\n",
      "\n",
      "  | Name    | Type       | Params\n",
      "---------------------------------------\n",
      "0 | camadas | Sequential | 1.2 K \n",
      "---------------------------------------\n",
      "1.2 K     Trainable params\n",
      "0         Non-trainable params\n",
      "1.2 K     Total params\n",
      "0.005     Total estimated model params size (MB)\n"
     ]
    },
    {
     "name": "stdout",
     "output_type": "stream",
     "text": [
      "Epoch 51: 100%|██████████| 6/6 [00:00<00:00, 123.63it/s, v_num=85, loss=0.00745, val_loss=0.00845]\n"
     ]
    },
    {
     "name": "stderr",
     "output_type": "stream",
     "text": [
      "[I 2024-05-07 00:30:51,295] Trial 84 finished with value: 0.00845145434141159 and parameters: {'num_camadas': 2, 'neuronios_c0': 36, 'neuronios_c1': 25, 'learning_rate': 0.0049897496358294515}. Best is trial 29 with value: 0.007476270664483309.\n",
      "GPU available: True (cuda), used: True\n",
      "TPU available: False, using: 0 TPU cores\n",
      "IPU available: False, using: 0 IPUs\n",
      "HPU available: False, using: 0 HPUs\n",
      "LOCAL_RANK: 0 - CUDA_VISIBLE_DEVICES: [0]\n",
      "\n",
      "  | Name    | Type       | Params\n",
      "---------------------------------------\n",
      "0 | camadas | Sequential | 3.1 K \n",
      "---------------------------------------\n",
      "3.1 K     Trainable params\n",
      "0         Non-trainable params\n",
      "3.1 K     Total params\n",
      "0.012     Total estimated model params size (MB)\n"
     ]
    },
    {
     "name": "stdout",
     "output_type": "stream",
     "text": [
      "Epoch 44: 100%|██████████| 6/6 [00:00<00:00, 113.21it/s, v_num=86, loss=0.00942, val_loss=0.0113]\n"
     ]
    },
    {
     "name": "stderr",
     "output_type": "stream",
     "text": [
      "[I 2024-05-07 00:30:59,433] Trial 85 finished with value: 0.011269951239228249 and parameters: {'num_camadas': 3, 'neuronios_c0': 24, 'neuronios_c1': 53, 'neuronios_c2': 28, 'learning_rate': 0.005460874906083514}. Best is trial 29 with value: 0.007476270664483309.\n",
      "GPU available: True (cuda), used: True\n",
      "TPU available: False, using: 0 TPU cores\n",
      "IPU available: False, using: 0 IPUs\n",
      "HPU available: False, using: 0 HPUs\n",
      "LOCAL_RANK: 0 - CUDA_VISIBLE_DEVICES: [0]\n",
      "\n",
      "  | Name    | Type       | Params\n",
      "---------------------------------------\n",
      "0 | camadas | Sequential | 601   \n",
      "---------------------------------------\n",
      "601       Trainable params\n",
      "0         Non-trainable params\n",
      "601       Total params\n",
      "0.002     Total estimated model params size (MB)\n"
     ]
    },
    {
     "name": "stdout",
     "output_type": "stream",
     "text": [
      "Epoch 90: 100%|██████████| 6/6 [00:00<00:00, 125.01it/s, v_num=87, loss=0.00657, val_loss=0.00884]\n"
     ]
    },
    {
     "name": "stderr",
     "output_type": "stream",
     "text": [
      "[I 2024-05-07 00:31:09,587] Trial 86 finished with value: 0.008838503621518612 and parameters: {'num_camadas': 2, 'neuronios_c0': 26, 'neuronios_c1': 14, 'learning_rate': 0.004440005892314224}. Best is trial 29 with value: 0.007476270664483309.\n",
      "GPU available: True (cuda), used: True\n",
      "TPU available: False, using: 0 TPU cores\n",
      "IPU available: False, using: 0 IPUs\n",
      "HPU available: False, using: 0 HPUs\n",
      "LOCAL_RANK: 0 - CUDA_VISIBLE_DEVICES: [0]\n",
      "\n",
      "  | Name    | Type       | Params\n",
      "---------------------------------------\n",
      "0 | camadas | Sequential | 4.6 K \n",
      "---------------------------------------\n",
      "4.6 K     Trainable params\n",
      "0         Non-trainable params\n",
      "4.6 K     Total params\n",
      "0.019     Total estimated model params size (MB)\n"
     ]
    },
    {
     "name": "stdout",
     "output_type": "stream",
     "text": [
      "Epoch 14: 100%|██████████| 6/6 [00:00<00:00, 121.19it/s, v_num=88, loss=0.0089, val_loss=0.0131] \n"
     ]
    },
    {
     "name": "stderr",
     "output_type": "stream",
     "text": [
      "[I 2024-05-07 00:31:16,152] Trial 87 finished with value: 0.013094920665025711 and parameters: {'num_camadas': 3, 'neuronios_c0': 28, 'neuronios_c1': 61, 'neuronios_c2': 42, 'learning_rate': 0.00691089398568708}. Best is trial 29 with value: 0.007476270664483309.\n",
      "GPU available: True (cuda), used: True\n",
      "TPU available: False, using: 0 TPU cores\n",
      "IPU available: False, using: 0 IPUs\n",
      "HPU available: False, using: 0 HPUs\n",
      "LOCAL_RANK: 0 - CUDA_VISIBLE_DEVICES: [0]\n",
      "\n",
      "  | Name    | Type       | Params\n",
      "---------------------------------------\n",
      "0 | camadas | Sequential | 1.3 K \n",
      "---------------------------------------\n",
      "1.3 K     Trainable params\n",
      "0         Non-trainable params\n",
      "1.3 K     Total params\n",
      "0.005     Total estimated model params size (MB)\n"
     ]
    },
    {
     "name": "stdout",
     "output_type": "stream",
     "text": [
      "Epoch 30: 100%|██████████| 6/6 [00:00<00:00, 97.51it/s, v_num=89, loss=0.0075, val_loss=0.0104]  \n"
     ]
    },
    {
     "name": "stderr",
     "output_type": "stream",
     "text": [
      "[I 2024-05-07 00:31:23,505] Trial 88 finished with value: 0.010400413535535336 and parameters: {'num_camadas': 2, 'neuronios_c0': 39, 'neuronios_c1': 23, 'learning_rate': 0.006541435970233935}. Best is trial 29 with value: 0.007476270664483309.\n",
      "GPU available: True (cuda), used: True\n",
      "TPU available: False, using: 0 TPU cores\n",
      "IPU available: False, using: 0 IPUs\n",
      "HPU available: False, using: 0 HPUs\n",
      "LOCAL_RANK: 0 - CUDA_VISIBLE_DEVICES: [0]\n",
      "\n",
      "  | Name    | Type       | Params\n",
      "---------------------------------------\n",
      "0 | camadas | Sequential | 2.2 K \n",
      "---------------------------------------\n",
      "2.2 K     Trainable params\n",
      "0         Non-trainable params\n",
      "2.2 K     Total params\n",
      "0.009     Total estimated model params size (MB)\n"
     ]
    },
    {
     "name": "stdout",
     "output_type": "stream",
     "text": [
      "Epoch 14: 100%|██████████| 6/6 [00:00<00:00, 122.44it/s, v_num=90, loss=0.0101, val_loss=0.0141]\n"
     ]
    },
    {
     "name": "stderr",
     "output_type": "stream",
     "text": [
      "[I 2024-05-07 00:31:30,203] Trial 89 finished with value: 0.01414414681494236 and parameters: {'num_camadas': 3, 'neuronios_c0': 20, 'neuronios_c1': 64, 'neuronios_c2': 11, 'learning_rate': 0.00579500596114972}. Best is trial 29 with value: 0.007476270664483309.\n",
      "GPU available: True (cuda), used: True\n",
      "TPU available: False, using: 0 TPU cores\n",
      "IPU available: False, using: 0 IPUs\n",
      "HPU available: False, using: 0 HPUs\n",
      "LOCAL_RANK: 0 - CUDA_VISIBLE_DEVICES: [0]\n",
      "\n",
      "  | Name    | Type       | Params\n",
      "---------------------------------------\n",
      "0 | camadas | Sequential | 2.8 K \n",
      "---------------------------------------\n",
      "2.8 K     Trainable params\n",
      "0         Non-trainable params\n",
      "2.8 K     Total params\n",
      "0.011     Total estimated model params size (MB)\n"
     ]
    },
    {
     "name": "stdout",
     "output_type": "stream",
     "text": [
      "Epoch 64: 100%|██████████| 6/6 [00:00<00:00, 130.45it/s, v_num=91, loss=0.00617, val_loss=0.00943]\n"
     ]
    },
    {
     "name": "stderr",
     "output_type": "stream",
     "text": [
      "[I 2024-05-07 00:31:39,225] Trial 90 finished with value: 0.00942864827811718 and parameters: {'num_camadas': 2, 'neuronios_c0': 64, 'neuronios_c1': 35, 'learning_rate': 0.003715629506871475}. Best is trial 29 with value: 0.007476270664483309.\n",
      "GPU available: True (cuda), used: True\n",
      "TPU available: False, using: 0 TPU cores\n",
      "IPU available: False, using: 0 IPUs\n",
      "HPU available: False, using: 0 HPUs\n",
      "LOCAL_RANK: 0 - CUDA_VISIBLE_DEVICES: [0]\n",
      "\n",
      "  | Name    | Type       | Params\n",
      "---------------------------------------\n",
      "0 | camadas | Sequential | 2.3 K \n",
      "---------------------------------------\n",
      "2.3 K     Trainable params\n",
      "0         Non-trainable params\n",
      "2.3 K     Total params\n",
      "0.009     Total estimated model params size (MB)\n"
     ]
    },
    {
     "name": "stdout",
     "output_type": "stream",
     "text": [
      "Epoch 74: 100%|██████████| 6/6 [00:00<00:00, 123.61it/s, v_num=92, loss=0.0065, val_loss=0.00864] \n"
     ]
    },
    {
     "name": "stderr",
     "output_type": "stream",
     "text": [
      "[I 2024-05-07 00:31:48,721] Trial 91 finished with value: 0.008641665801405907 and parameters: {'num_camadas': 2, 'neuronios_c0': 33, 'neuronios_c1': 59, 'learning_rate': 0.004614662625315719}. Best is trial 29 with value: 0.007476270664483309.\n",
      "GPU available: True (cuda), used: True\n",
      "TPU available: False, using: 0 TPU cores\n",
      "IPU available: False, using: 0 IPUs\n",
      "HPU available: False, using: 0 HPUs\n",
      "LOCAL_RANK: 0 - CUDA_VISIBLE_DEVICES: [0]\n",
      "\n",
      "  | Name    | Type       | Params\n",
      "---------------------------------------\n",
      "0 | camadas | Sequential | 2.3 K \n",
      "---------------------------------------\n",
      "2.3 K     Trainable params\n",
      "0         Non-trainable params\n",
      "2.3 K     Total params\n",
      "0.009     Total estimated model params size (MB)\n"
     ]
    },
    {
     "name": "stdout",
     "output_type": "stream",
     "text": [
      "Epoch 82: 100%|██████████| 6/6 [00:00<00:00, 126.28it/s, v_num=93, loss=0.00692, val_loss=0.00768]\n"
     ]
    },
    {
     "name": "stderr",
     "output_type": "stream",
     "text": [
      "[I 2024-05-07 00:31:58,749] Trial 92 finished with value: 0.007679896429181099 and parameters: {'num_camadas': 2, 'neuronios_c0': 32, 'neuronios_c1': 61, 'learning_rate': 0.0050651017898405626}. Best is trial 29 with value: 0.007476270664483309.\n",
      "GPU available: True (cuda), used: True\n",
      "TPU available: False, using: 0 TPU cores\n",
      "IPU available: False, using: 0 IPUs\n",
      "HPU available: False, using: 0 HPUs\n",
      "LOCAL_RANK: 0 - CUDA_VISIBLE_DEVICES: [0]\n",
      "\n",
      "  | Name    | Type       | Params\n",
      "---------------------------------------\n",
      "0 | camadas | Sequential | 2.1 K \n",
      "---------------------------------------\n",
      "2.1 K     Trainable params\n",
      "0         Non-trainable params\n",
      "2.1 K     Total params\n",
      "0.008     Total estimated model params size (MB)\n"
     ]
    },
    {
     "name": "stdout",
     "output_type": "stream",
     "text": [
      "Epoch 67: 100%|██████████| 6/6 [00:00<00:00, 118.78it/s, v_num=94, loss=0.00648, val_loss=0.00823]\n"
     ]
    },
    {
     "name": "stderr",
     "output_type": "stream",
     "text": [
      "[I 2024-05-07 00:32:07,995] Trial 93 finished with value: 0.008233298547565937 and parameters: {'num_camadas': 2, 'neuronios_c0': 30, 'neuronios_c1': 58, 'learning_rate': 0.0049549871218746485}. Best is trial 29 with value: 0.007476270664483309.\n",
      "GPU available: True (cuda), used: True\n",
      "TPU available: False, using: 0 TPU cores\n",
      "IPU available: False, using: 0 IPUs\n",
      "HPU available: False, using: 0 HPUs\n",
      "LOCAL_RANK: 0 - CUDA_VISIBLE_DEVICES: [0]\n",
      "\n",
      "  | Name    | Type       | Params\n",
      "---------------------------------------\n",
      "0 | camadas | Sequential | 2.1 K \n",
      "---------------------------------------\n",
      "2.1 K     Trainable params\n",
      "0         Non-trainable params\n",
      "2.1 K     Total params\n",
      "0.008     Total estimated model params size (MB)\n"
     ]
    },
    {
     "name": "stdout",
     "output_type": "stream",
     "text": [
      "Epoch 99: 100%|██████████| 6/6 [00:00<00:00, 130.43it/s, v_num=95, loss=0.0068, val_loss=0.00923] \n"
     ]
    },
    {
     "name": "stderr",
     "output_type": "stream",
     "text": [
      "[I 2024-05-07 00:32:18,583] Trial 94 finished with value: 0.009234708733856678 and parameters: {'num_camadas': 2, 'neuronios_c0': 30, 'neuronios_c1': 57, 'learning_rate': 0.0050440456040740655}. Best is trial 29 with value: 0.007476270664483309.\n",
      "GPU available: True (cuda), used: True\n",
      "TPU available: False, using: 0 TPU cores\n",
      "IPU available: False, using: 0 IPUs\n",
      "HPU available: False, using: 0 HPUs\n",
      "LOCAL_RANK: 0 - CUDA_VISIBLE_DEVICES: [0]\n",
      "\n",
      "  | Name    | Type       | Params\n",
      "---------------------------------------\n",
      "0 | camadas | Sequential | 2.3 K \n",
      "---------------------------------------\n",
      "2.3 K     Trainable params\n",
      "0         Non-trainable params\n",
      "2.3 K     Total params\n",
      "0.009     Total estimated model params size (MB)\n"
     ]
    },
    {
     "name": "stdout",
     "output_type": "stream",
     "text": [
      "Epoch 81: 100%|██████████| 6/6 [00:00<00:00, 117.57it/s, v_num=96, loss=0.0062, val_loss=0.00832] \n"
     ]
    },
    {
     "name": "stderr",
     "output_type": "stream",
     "text": [
      "[I 2024-05-07 00:32:28,427] Trial 95 finished with value: 0.008323838002979755 and parameters: {'num_camadas': 2, 'neuronios_c0': 32, 'neuronios_c1': 60, 'learning_rate': 0.005325939655057066}. Best is trial 29 with value: 0.007476270664483309.\n",
      "GPU available: True (cuda), used: True\n",
      "TPU available: False, using: 0 TPU cores\n",
      "IPU available: False, using: 0 IPUs\n",
      "HPU available: False, using: 0 HPUs\n",
      "LOCAL_RANK: 0 - CUDA_VISIBLE_DEVICES: [0]\n",
      "\n",
      "  | Name    | Type       | Params\n",
      "---------------------------------------\n",
      "0 | camadas | Sequential | 6.2 K \n",
      "---------------------------------------\n",
      "6.2 K     Trainable params\n",
      "0         Non-trainable params\n",
      "6.2 K     Total params\n",
      "0.025     Total estimated model params size (MB)\n"
     ]
    },
    {
     "name": "stdout",
     "output_type": "stream",
     "text": [
      "Epoch 32: 100%|██████████| 6/6 [00:00<00:00, 116.20it/s, v_num=97, loss=0.00955, val_loss=0.0105]\n"
     ]
    },
    {
     "name": "stderr",
     "output_type": "stream",
     "text": [
      "[I 2024-05-07 00:32:36,108] Trial 96 finished with value: 0.010480666533112526 and parameters: {'num_camadas': 3, 'neuronios_c0': 35, 'neuronios_c1': 63, 'neuronios_c2': 56, 'learning_rate': 0.0047724992842325875}. Best is trial 29 with value: 0.007476270664483309.\n",
      "GPU available: True (cuda), used: True\n",
      "TPU available: False, using: 0 TPU cores\n",
      "IPU available: False, using: 0 IPUs\n",
      "HPU available: False, using: 0 HPUs\n",
      "LOCAL_RANK: 0 - CUDA_VISIBLE_DEVICES: [0]\n",
      "\n",
      "  | Name    | Type       | Params\n",
      "---------------------------------------\n",
      "0 | camadas | Sequential | 1.9 K \n",
      "---------------------------------------\n",
      "1.9 K     Trainable params\n",
      "0         Non-trainable params\n",
      "1.9 K     Total params\n",
      "0.007     Total estimated model params size (MB)\n"
     ]
    },
    {
     "name": "stdout",
     "output_type": "stream",
     "text": [
      "Epoch 63: 100%|██████████| 6/6 [00:00<00:00, 126.28it/s, v_num=98, loss=0.00817, val_loss=0.00856]\n"
     ]
    },
    {
     "name": "stderr",
     "output_type": "stream",
     "text": [
      "[I 2024-05-07 00:32:45,204] Trial 97 finished with value: 0.008556010201573372 and parameters: {'num_camadas': 2, 'neuronios_c0': 28, 'neuronios_c1': 55, 'learning_rate': 0.005250521286089508}. Best is trial 29 with value: 0.007476270664483309.\n",
      "GPU available: True (cuda), used: True\n",
      "TPU available: False, using: 0 TPU cores\n",
      "IPU available: False, using: 0 IPUs\n",
      "HPU available: False, using: 0 HPUs\n",
      "LOCAL_RANK: 0 - CUDA_VISIBLE_DEVICES: [0]\n",
      "\n",
      "  | Name    | Type       | Params\n",
      "---------------------------------------\n",
      "0 | camadas | Sequential | 343   \n",
      "---------------------------------------\n",
      "343       Trainable params\n",
      "0         Non-trainable params\n",
      "343       Total params\n",
      "0.001     Total estimated model params size (MB)\n"
     ]
    },
    {
     "name": "stdout",
     "output_type": "stream",
     "text": [
      "Epoch 128: 100%|██████████| 6/6 [00:00<00:00, 136.14it/s, v_num=99, loss=0.0068, val_loss=0.00833] \n"
     ]
    },
    {
     "name": "stderr",
     "output_type": "stream",
     "text": [
      "[I 2024-05-07 00:32:56,828] Trial 98 finished with value: 0.008326447568833828 and parameters: {'num_camadas': 1, 'neuronios_c0': 38, 'learning_rate': 0.0041103511050043316}. Best is trial 29 with value: 0.007476270664483309.\n",
      "GPU available: True (cuda), used: True\n",
      "TPU available: False, using: 0 TPU cores\n",
      "IPU available: False, using: 0 IPUs\n",
      "HPU available: False, using: 0 HPUs\n",
      "LOCAL_RANK: 0 - CUDA_VISIBLE_DEVICES: [0]\n",
      "\n",
      "  | Name    | Type       | Params\n",
      "---------------------------------------\n",
      "0 | camadas | Sequential | 5.8 K \n",
      "---------------------------------------\n",
      "5.8 K     Trainable params\n",
      "0         Non-trainable params\n",
      "5.8 K     Total params\n",
      "0.023     Total estimated model params size (MB)\n"
     ]
    },
    {
     "name": "stdout",
     "output_type": "stream",
     "text": [
      "Epoch 30: 100%|██████████| 6/6 [00:00<00:00, 131.76it/s, v_num=100, loss=0.00784, val_loss=0.00917]\n"
     ]
    },
    {
     "name": "stderr",
     "output_type": "stream",
     "text": [
      "[I 2024-05-07 00:33:04,308] Trial 99 finished with value: 0.009170636534690857 and parameters: {'num_camadas': 3, 'neuronios_c0': 31, 'neuronios_c1': 58, 'neuronios_c2': 61, 'learning_rate': 0.004808963046647062}. Best is trial 29 with value: 0.007476270664483309.\n",
      "GPU available: True (cuda), used: True\n",
      "TPU available: False, using: 0 TPU cores\n",
      "IPU available: False, using: 0 IPUs\n",
      "HPU available: False, using: 0 HPUs\n",
      "LOCAL_RANK: 0 - CUDA_VISIBLE_DEVICES: [0]\n",
      "\n",
      "  | Name    | Type       | Params\n",
      "---------------------------------------\n",
      "0 | camadas | Sequential | 3.1 K \n",
      "---------------------------------------\n",
      "3.1 K     Trainable params\n",
      "0         Non-trainable params\n",
      "3.1 K     Total params\n",
      "0.013     Total estimated model params size (MB)\n"
     ]
    },
    {
     "name": "stdout",
     "output_type": "stream",
     "text": [
      "Epoch 52: 100%|██████████| 6/6 [00:00<00:00, 139.52it/s, v_num=101, loss=0.00705, val_loss=0.00938]\n"
     ]
    },
    {
     "name": "stderr",
     "output_type": "stream",
     "text": [
      "[I 2024-05-07 00:33:12,775] Trial 100 finished with value: 0.009380616247653961 and parameters: {'num_camadas': 2, 'neuronios_c0': 43, 'neuronios_c1': 62, 'learning_rate': 0.005540483294580943}. Best is trial 29 with value: 0.007476270664483309.\n",
      "GPU available: True (cuda), used: True\n",
      "TPU available: False, using: 0 TPU cores\n",
      "IPU available: False, using: 0 IPUs\n",
      "HPU available: False, using: 0 HPUs\n",
      "LOCAL_RANK: 0 - CUDA_VISIBLE_DEVICES: [0]\n",
      "\n",
      "  | Name    | Type       | Params\n",
      "---------------------------------------\n",
      "0 | camadas | Sequential | 512   \n",
      "---------------------------------------\n",
      "512       Trainable params\n",
      "0         Non-trainable params\n",
      "512       Total params\n",
      "0.002     Total estimated model params size (MB)\n"
     ]
    },
    {
     "name": "stdout",
     "output_type": "stream",
     "text": [
      "Epoch 123: 100%|██████████| 6/6 [00:00<00:00, 125.01it/s, v_num=102, loss=0.00724, val_loss=0.0084] \n"
     ]
    },
    {
     "name": "stderr",
     "output_type": "stream",
     "text": [
      "[I 2024-05-07 00:33:24,662] Trial 101 finished with value: 0.008399748243391514 and parameters: {'num_camadas': 2, 'neuronios_c0': 29, 'neuronios_c1': 9, 'learning_rate': 0.0042885009213792765}. Best is trial 29 with value: 0.007476270664483309.\n",
      "GPU available: True (cuda), used: True\n",
      "TPU available: False, using: 0 TPU cores\n",
      "IPU available: False, using: 0 IPUs\n",
      "HPU available: False, using: 0 HPUs\n",
      "LOCAL_RANK: 0 - CUDA_VISIBLE_DEVICES: [0]\n",
      "\n",
      "  | Name    | Type       | Params\n",
      "---------------------------------------\n",
      "0 | camadas | Sequential | 321   \n",
      "---------------------------------------\n",
      "321       Trainable params\n",
      "0         Non-trainable params\n",
      "321       Total params\n",
      "0.001     Total estimated model params size (MB)\n"
     ]
    },
    {
     "name": "stdout",
     "output_type": "stream",
     "text": [
      "Epoch 104: 100%|██████████| 6/6 [00:00<00:00, 121.18it/s, v_num=103, loss=0.00731, val_loss=0.00898]\n"
     ]
    },
    {
     "name": "stderr",
     "output_type": "stream",
     "text": [
      "[I 2024-05-07 00:33:35,666] Trial 102 finished with value: 0.008976795710623264 and parameters: {'num_camadas': 2, 'neuronios_c0': 26, 'neuronios_c1': 4, 'learning_rate': 0.003901993582621215}. Best is trial 29 with value: 0.007476270664483309.\n",
      "GPU available: True (cuda), used: True\n",
      "TPU available: False, using: 0 TPU cores\n",
      "IPU available: False, using: 0 IPUs\n",
      "HPU available: False, using: 0 HPUs\n",
      "LOCAL_RANK: 0 - CUDA_VISIBLE_DEVICES: [0]\n",
      "\n",
      "  | Name    | Type       | Params\n",
      "---------------------------------------\n",
      "0 | camadas | Sequential | 1.6 K \n",
      "---------------------------------------\n",
      "1.6 K     Trainable params\n",
      "0         Non-trainable params\n",
      "1.6 K     Total params\n",
      "0.007     Total estimated model params size (MB)\n"
     ]
    },
    {
     "name": "stdout",
     "output_type": "stream",
     "text": [
      "Epoch 67: 100%|██████████| 6/6 [00:00<00:00, 133.34it/s, v_num=104, loss=0.00735, val_loss=0.00958]\n"
     ]
    },
    {
     "name": "stderr",
     "output_type": "stream",
     "text": [
      "[I 2024-05-07 00:33:44,761] Trial 103 finished with value: 0.009581352584064007 and parameters: {'num_camadas': 2, 'neuronios_c0': 22, 'neuronios_c1': 61, 'learning_rate': 0.004474464503628848}. Best is trial 29 with value: 0.007476270664483309.\n",
      "GPU available: True (cuda), used: True\n",
      "TPU available: False, using: 0 TPU cores\n",
      "IPU available: False, using: 0 IPUs\n",
      "HPU available: False, using: 0 HPUs\n",
      "LOCAL_RANK: 0 - CUDA_VISIBLE_DEVICES: [0]\n",
      "\n",
      "  | Name    | Type       | Params\n",
      "---------------------------------------\n",
      "0 | camadas | Sequential | 1.4 K \n",
      "---------------------------------------\n",
      "1.4 K     Trainable params\n",
      "0         Non-trainable params\n",
      "1.4 K     Total params\n",
      "0.006     Total estimated model params size (MB)\n"
     ]
    },
    {
     "name": "stdout",
     "output_type": "stream",
     "text": [
      "Epoch 76: 100%|██████████| 6/6 [00:00<00:00, 113.21it/s, v_num=105, loss=0.0069, val_loss=0.00868] \n"
     ]
    },
    {
     "name": "stderr",
     "output_type": "stream",
     "text": [
      "[I 2024-05-07 00:33:54,724] Trial 104 finished with value: 0.008681376464664936 and parameters: {'num_camadas': 2, 'neuronios_c0': 35, 'neuronios_c1': 31, 'learning_rate': 0.005075303580912194}. Best is trial 29 with value: 0.007476270664483309.\n",
      "GPU available: True (cuda), used: True\n",
      "TPU available: False, using: 0 TPU cores\n",
      "IPU available: False, using: 0 IPUs\n",
      "HPU available: False, using: 0 HPUs\n",
      "LOCAL_RANK: 0 - CUDA_VISIBLE_DEVICES: [0]\n",
      "\n",
      "  | Name    | Type       | Params\n",
      "---------------------------------------\n",
      "0 | camadas | Sequential | 2.0 K \n",
      "---------------------------------------\n",
      "2.0 K     Trainable params\n",
      "0         Non-trainable params\n",
      "2.0 K     Total params\n",
      "0.008     Total estimated model params size (MB)\n"
     ]
    },
    {
     "name": "stdout",
     "output_type": "stream",
     "text": [
      "Epoch 122: 100%|██████████| 6/6 [00:00<00:00, 123.68it/s, v_num=106, loss=0.00687, val_loss=0.00826]\n"
     ]
    },
    {
     "name": "stderr",
     "output_type": "stream",
     "text": [
      "[I 2024-05-07 00:34:07,236] Trial 105 finished with value: 0.008262093178927898 and parameters: {'num_camadas': 3, 'neuronios_c0': 24, 'neuronios_c1': 36, 'neuronios_c2': 23, 'learning_rate': 0.004862455782159334}. Best is trial 29 with value: 0.007476270664483309.\n",
      "GPU available: True (cuda), used: True\n",
      "TPU available: False, using: 0 TPU cores\n",
      "IPU available: False, using: 0 IPUs\n",
      "HPU available: False, using: 0 HPUs\n",
      "LOCAL_RANK: 0 - CUDA_VISIBLE_DEVICES: [0]\n",
      "\n",
      "  | Name    | Type       | Params\n",
      "---------------------------------------\n",
      "0 | camadas | Sequential | 2.0 K \n",
      "---------------------------------------\n",
      "2.0 K     Trainable params\n",
      "0         Non-trainable params\n",
      "2.0 K     Total params\n",
      "0.008     Total estimated model params size (MB)\n"
     ]
    },
    {
     "name": "stdout",
     "output_type": "stream",
     "text": [
      "Epoch 64: 100%|██████████| 6/6 [00:00<00:00, 131.85it/s, v_num=107, loss=0.0076, val_loss=0.00979] \n"
     ]
    },
    {
     "name": "stderr",
     "output_type": "stream",
     "text": [
      "[I 2024-05-07 00:34:16,665] Trial 106 finished with value: 0.009789572097361088 and parameters: {'num_camadas': 3, 'neuronios_c0': 25, 'neuronios_c1': 36, 'neuronios_c2': 22, 'learning_rate': 0.005958272272815479}. Best is trial 29 with value: 0.007476270664483309.\n",
      "GPU available: True (cuda), used: True\n",
      "TPU available: False, using: 0 TPU cores\n",
      "IPU available: False, using: 0 IPUs\n",
      "HPU available: False, using: 0 HPUs\n",
      "LOCAL_RANK: 0 - CUDA_VISIBLE_DEVICES: [0]\n",
      "\n",
      "  | Name    | Type       | Params\n",
      "---------------------------------------\n",
      "0 | camadas | Sequential | 2.1 K \n",
      "---------------------------------------\n",
      "2.1 K     Trainable params\n",
      "0         Non-trainable params\n",
      "2.1 K     Total params\n",
      "0.009     Total estimated model params size (MB)\n"
     ]
    },
    {
     "name": "stdout",
     "output_type": "stream",
     "text": [
      "Epoch 101: 100%|██████████| 6/6 [00:00<00:00, 133.34it/s, v_num=108, loss=0.00602, val_loss=0.00796]\n"
     ]
    },
    {
     "name": "stderr",
     "output_type": "stream",
     "text": [
      "[I 2024-05-07 00:34:27,748] Trial 107 finished with value: 0.00795925036072731 and parameters: {'num_camadas': 3, 'neuronios_c0': 23, 'neuronios_c1': 39, 'neuronios_c2': 25, 'learning_rate': 0.004892573285744628}. Best is trial 29 with value: 0.007476270664483309.\n",
      "GPU available: True (cuda), used: True\n",
      "TPU available: False, using: 0 TPU cores\n",
      "IPU available: False, using: 0 IPUs\n",
      "HPU available: False, using: 0 HPUs\n",
      "LOCAL_RANK: 0 - CUDA_VISIBLE_DEVICES: [0]\n",
      "\n",
      "  | Name    | Type       | Params\n",
      "---------------------------------------\n",
      "0 | camadas | Sequential | 1.9 K \n",
      "---------------------------------------\n",
      "1.9 K     Trainable params\n",
      "0         Non-trainable params\n",
      "1.9 K     Total params\n",
      "0.008     Total estimated model params size (MB)\n"
     ]
    },
    {
     "name": "stdout",
     "output_type": "stream",
     "text": [
      "Epoch 65: 100%|██████████| 6/6 [00:00<00:00, 120.01it/s, v_num=109, loss=0.00717, val_loss=0.00849]\n"
     ]
    },
    {
     "name": "stderr",
     "output_type": "stream",
     "text": [
      "[I 2024-05-07 00:34:37,094] Trial 108 finished with value: 0.00848634634166956 and parameters: {'num_camadas': 3, 'neuronios_c0': 18, 'neuronios_c1': 38, 'neuronios_c2': 27, 'learning_rate': 0.00539826247911917}. Best is trial 29 with value: 0.007476270664483309.\n",
      "GPU available: True (cuda), used: True\n",
      "TPU available: False, using: 0 TPU cores\n",
      "IPU available: False, using: 0 IPUs\n",
      "HPU available: False, using: 0 HPUs\n",
      "LOCAL_RANK: 0 - CUDA_VISIBLE_DEVICES: [0]\n",
      "\n",
      "  | Name    | Type       | Params\n",
      "---------------------------------------\n",
      "0 | camadas | Sequential | 2.6 K \n",
      "---------------------------------------\n",
      "2.6 K     Trainable params\n",
      "0         Non-trainable params\n",
      "2.6 K     Total params\n",
      "0.010     Total estimated model params size (MB)\n"
     ]
    },
    {
     "name": "stdout",
     "output_type": "stream",
     "text": [
      "Epoch 85: 100%|██████████| 6/6 [00:00<00:00, 114.14it/s, v_num=110, loss=0.00533, val_loss=0.00815]\n"
     ]
    },
    {
     "name": "stderr",
     "output_type": "stream",
     "text": [
      "[I 2024-05-07 00:34:47,251] Trial 109 finished with value: 0.008149869740009308 and parameters: {'num_camadas': 3, 'neuronios_c0': 32, 'neuronios_c1': 33, 'neuronios_c2': 36, 'learning_rate': 0.005109582375379765}. Best is trial 29 with value: 0.007476270664483309.\n",
      "GPU available: True (cuda), used: True\n",
      "TPU available: False, using: 0 TPU cores\n",
      "IPU available: False, using: 0 IPUs\n",
      "HPU available: False, using: 0 HPUs\n",
      "LOCAL_RANK: 0 - CUDA_VISIBLE_DEVICES: [0]\n",
      "\n",
      "  | Name    | Type       | Params\n",
      "---------------------------------------\n",
      "0 | camadas | Sequential | 5.5 K \n",
      "---------------------------------------\n",
      "5.5 K     Trainable params\n",
      "0         Non-trainable params\n",
      "5.5 K     Total params\n",
      "0.022     Total estimated model params size (MB)\n"
     ]
    },
    {
     "name": "stdout",
     "output_type": "stream",
     "text": [
      "Epoch 14: 100%|██████████| 6/6 [00:00<00:00, 108.08it/s, v_num=111, loss=0.0103, val_loss=0.0155]\n"
     ]
    },
    {
     "name": "stderr",
     "output_type": "stream",
     "text": [
      "[I 2024-05-07 00:34:54,223] Trial 110 finished with value: 0.015483279712498188 and parameters: {'num_camadas': 5, 'neuronios_c0': 32, 'neuronios_c1': 33, 'neuronios_c2': 36, 'neuronios_c3': 29, 'neuronios_c4': 61, 'learning_rate': 0.005137530345576643}. Best is trial 29 with value: 0.007476270664483309.\n",
      "GPU available: True (cuda), used: True\n",
      "TPU available: False, using: 0 TPU cores\n",
      "IPU available: False, using: 0 IPUs\n",
      "HPU available: False, using: 0 HPUs\n",
      "LOCAL_RANK: 0 - CUDA_VISIBLE_DEVICES: [0]\n",
      "\n",
      "  | Name    | Type       | Params\n",
      "---------------------------------------\n",
      "0 | camadas | Sequential | 2.9 K \n",
      "---------------------------------------\n",
      "2.9 K     Trainable params\n",
      "0         Non-trainable params\n",
      "2.9 K     Total params\n",
      "0.012     Total estimated model params size (MB)\n"
     ]
    },
    {
     "name": "stdout",
     "output_type": "stream",
     "text": [
      "Epoch 71: 100%|██████████| 6/6 [00:00<00:00, 118.78it/s, v_num=112, loss=0.00612, val_loss=0.0095] \n"
     ]
    },
    {
     "name": "stderr",
     "output_type": "stream",
     "text": [
      "[I 2024-05-07 00:35:03,961] Trial 111 finished with value: 0.009503430686891079 and parameters: {'num_camadas': 3, 'neuronios_c0': 30, 'neuronios_c1': 42, 'neuronios_c2': 31, 'learning_rate': 0.004565561789162861}. Best is trial 29 with value: 0.007476270664483309.\n",
      "GPU available: True (cuda), used: True\n",
      "TPU available: False, using: 0 TPU cores\n",
      "IPU available: False, using: 0 IPUs\n",
      "HPU available: False, using: 0 HPUs\n",
      "LOCAL_RANK: 0 - CUDA_VISIBLE_DEVICES: [0]\n",
      "\n",
      "  | Name    | Type       | Params\n",
      "---------------------------------------\n",
      "0 | camadas | Sequential | 2.2 K \n",
      "---------------------------------------\n",
      "2.2 K     Trainable params\n",
      "0         Non-trainable params\n",
      "2.2 K     Total params\n",
      "0.009     Total estimated model params size (MB)\n"
     ]
    },
    {
     "name": "stdout",
     "output_type": "stream",
     "text": [
      "Epoch 71: 100%|██████████| 6/6 [00:00<00:00, 119.89it/s, v_num=113, loss=0.0062, val_loss=0.00823] \n"
     ]
    },
    {
     "name": "stderr",
     "output_type": "stream",
     "text": [
      "[I 2024-05-07 00:35:13,553] Trial 112 finished with value: 0.008233211003243923 and parameters: {'num_camadas': 3, 'neuronios_c0': 33, 'neuronios_c1': 32, 'neuronios_c2': 25, 'learning_rate': 0.004923999221439331}. Best is trial 29 with value: 0.007476270664483309.\n",
      "GPU available: True (cuda), used: True\n",
      "TPU available: False, using: 0 TPU cores\n",
      "IPU available: False, using: 0 IPUs\n",
      "HPU available: False, using: 0 HPUs\n",
      "LOCAL_RANK: 0 - CUDA_VISIBLE_DEVICES: [0]\n",
      "\n",
      "  | Name    | Type       | Params\n",
      "---------------------------------------\n",
      "0 | camadas | Sequential | 2.0 K \n",
      "---------------------------------------\n",
      "2.0 K     Trainable params\n",
      "0         Non-trainable params\n",
      "2.0 K     Total params\n",
      "0.008     Total estimated model params size (MB)\n"
     ]
    },
    {
     "name": "stdout",
     "output_type": "stream",
     "text": [
      "Epoch 54: 100%|██████████| 6/6 [00:00<00:00, 133.35it/s, v_num=114, loss=0.00792, val_loss=0.009]  \n"
     ]
    },
    {
     "name": "stderr",
     "output_type": "stream",
     "text": [
      "[I 2024-05-07 00:35:22,136] Trial 113 finished with value: 0.009004337713122368 and parameters: {'num_camadas': 3, 'neuronios_c0': 33, 'neuronios_c1': 29, 'neuronios_c2': 25, 'learning_rate': 0.004976404333645971}. Best is trial 29 with value: 0.007476270664483309.\n",
      "GPU available: True (cuda), used: True\n",
      "TPU available: False, using: 0 TPU cores\n",
      "IPU available: False, using: 0 IPUs\n",
      "HPU available: False, using: 0 HPUs\n",
      "LOCAL_RANK: 0 - CUDA_VISIBLE_DEVICES: [0]\n",
      "\n",
      "  | Name    | Type       | Params\n",
      "---------------------------------------\n",
      "0 | camadas | Sequential | 2.3 K \n",
      "---------------------------------------\n",
      "2.3 K     Trainable params\n",
      "0         Non-trainable params\n",
      "2.3 K     Total params\n",
      "0.009     Total estimated model params size (MB)\n"
     ]
    },
    {
     "name": "stdout",
     "output_type": "stream",
     "text": [
      "Epoch 99: 100%|██████████| 6/6 [00:00<00:00, 110.08it/s, v_num=115, loss=0.00551, val_loss=0.00784]\n"
     ]
    },
    {
     "name": "stderr",
     "output_type": "stream",
     "text": [
      "[I 2024-05-07 00:35:33,015] Trial 114 finished with value: 0.007839866913855076 and parameters: {'num_camadas': 3, 'neuronios_c0': 29, 'neuronios_c1': 33, 'neuronios_c2': 30, 'learning_rate': 0.0056398015481397}. Best is trial 29 with value: 0.007476270664483309.\n",
      "GPU available: True (cuda), used: True\n",
      "TPU available: False, using: 0 TPU cores\n",
      "IPU available: False, using: 0 IPUs\n",
      "HPU available: False, using: 0 HPUs\n",
      "LOCAL_RANK: 0 - CUDA_VISIBLE_DEVICES: [0]\n",
      "\n",
      "  | Name    | Type       | Params\n",
      "---------------------------------------\n",
      "0 | camadas | Sequential | 2.2 K \n",
      "---------------------------------------\n",
      "2.2 K     Trainable params\n",
      "0         Non-trainable params\n",
      "2.2 K     Total params\n",
      "0.009     Total estimated model params size (MB)\n"
     ]
    },
    {
     "name": "stdout",
     "output_type": "stream",
     "text": [
      "Epoch 36: 100%|██████████| 6/6 [00:00<00:00, 118.79it/s, v_num=116, loss=0.00711, val_loss=0.00924]\n"
     ]
    },
    {
     "name": "stderr",
     "output_type": "stream",
     "text": [
      "[I 2024-05-07 00:35:40,886] Trial 115 finished with value: 0.009236393496394157 and parameters: {'num_camadas': 3, 'neuronios_c0': 28, 'neuronios_c1': 33, 'neuronios_c2': 29, 'learning_rate': 0.005668245616792496}. Best is trial 29 with value: 0.007476270664483309.\n",
      "GPU available: True (cuda), used: True\n",
      "TPU available: False, using: 0 TPU cores\n",
      "IPU available: False, using: 0 IPUs\n",
      "HPU available: False, using: 0 HPUs\n",
      "LOCAL_RANK: 0 - CUDA_VISIBLE_DEVICES: [0]\n",
      "\n",
      "  | Name    | Type       | Params\n",
      "---------------------------------------\n",
      "0 | camadas | Sequential | 2.0 K \n",
      "---------------------------------------\n",
      "2.0 K     Trainable params\n",
      "0         Non-trainable params\n",
      "2.0 K     Total params\n",
      "0.008     Total estimated model params size (MB)\n"
     ]
    },
    {
     "name": "stdout",
     "output_type": "stream",
     "text": [
      "Epoch 68: 100%|██████████| 6/6 [00:00<00:00, 122.46it/s, v_num=117, loss=0.00712, val_loss=0.00862]\n"
     ]
    },
    {
     "name": "stderr",
     "output_type": "stream",
     "text": [
      "[I 2024-05-07 00:35:50,191] Trial 116 finished with value: 0.008620604872703552 and parameters: {'num_camadas': 3, 'neuronios_c0': 23, 'neuronios_c1': 32, 'neuronios_c2': 32, 'learning_rate': 0.006240926381689986}. Best is trial 29 with value: 0.007476270664483309.\n",
      "GPU available: True (cuda), used: True\n",
      "TPU available: False, using: 0 TPU cores\n",
      "IPU available: False, using: 0 IPUs\n",
      "HPU available: False, using: 0 HPUs\n",
      "LOCAL_RANK: 0 - CUDA_VISIBLE_DEVICES: [0]\n",
      "\n",
      "  | Name    | Type       | Params\n",
      "---------------------------------------\n",
      "0 | camadas | Sequential | 2.1 K \n",
      "---------------------------------------\n",
      "2.1 K     Trainable params\n",
      "0         Non-trainable params\n",
      "2.1 K     Total params\n",
      "0.008     Total estimated model params size (MB)\n"
     ]
    },
    {
     "name": "stdout",
     "output_type": "stream",
     "text": [
      "Epoch 55: 100%|██████████| 6/6 [00:00<00:00, 123.69it/s, v_num=118, loss=0.00743, val_loss=0.00961]\n"
     ]
    },
    {
     "name": "stderr",
     "output_type": "stream",
     "text": [
      "[I 2024-05-07 00:35:58,988] Trial 117 finished with value: 0.009606672450900078 and parameters: {'num_camadas': 3, 'neuronios_c0': 27, 'neuronios_c1': 30, 'neuronios_c2': 32, 'learning_rate': 0.005222886811195334}. Best is trial 29 with value: 0.007476270664483309.\n",
      "GPU available: True (cuda), used: True\n",
      "TPU available: False, using: 0 TPU cores\n",
      "IPU available: False, using: 0 IPUs\n",
      "HPU available: False, using: 0 HPUs\n",
      "LOCAL_RANK: 0 - CUDA_VISIBLE_DEVICES: [0]\n",
      "\n",
      "  | Name    | Type       | Params\n",
      "---------------------------------------\n",
      "0 | camadas | Sequential | 1.7 K \n",
      "---------------------------------------\n",
      "1.7 K     Trainable params\n",
      "0         Non-trainable params\n",
      "1.7 K     Total params\n",
      "0.007     Total estimated model params size (MB)\n"
     ]
    },
    {
     "name": "stdout",
     "output_type": "stream",
     "text": [
      "Epoch 60: 100%|██████████| 6/6 [00:00<00:00, 122.46it/s, v_num=119, loss=0.00766, val_loss=0.00996]\n"
     ]
    },
    {
     "name": "stderr",
     "output_type": "stream",
     "text": [
      "[I 2024-05-07 00:36:07,850] Trial 118 finished with value: 0.009955709800124168 and parameters: {'num_camadas': 3, 'neuronios_c0': 21, 'neuronios_c1': 35, 'neuronios_c2': 20, 'learning_rate': 0.005497594298459239}. Best is trial 29 with value: 0.007476270664483309.\n",
      "GPU available: True (cuda), used: True\n",
      "TPU available: False, using: 0 TPU cores\n",
      "IPU available: False, using: 0 IPUs\n",
      "HPU available: False, using: 0 HPUs\n",
      "LOCAL_RANK: 0 - CUDA_VISIBLE_DEVICES: [0]\n",
      "\n",
      "  | Name    | Type       | Params\n",
      "---------------------------------------\n",
      "0 | camadas | Sequential | 2.4 K \n",
      "---------------------------------------\n",
      "2.4 K     Trainable params\n",
      "0         Non-trainable params\n",
      "2.4 K     Total params\n",
      "0.010     Total estimated model params size (MB)\n"
     ]
    },
    {
     "name": "stdout",
     "output_type": "stream",
     "text": [
      "Epoch 39: 100%|██████████| 6/6 [00:00<00:00, 118.77it/s, v_num=120, loss=0.00749, val_loss=0.0101] \n"
     ]
    },
    {
     "name": "stderr",
     "output_type": "stream",
     "text": [
      "[I 2024-05-07 00:36:15,884] Trial 119 finished with value: 0.010076926089823246 and parameters: {'num_camadas': 3, 'neuronios_c0': 29, 'neuronios_c1': 39, 'neuronios_c2': 24, 'learning_rate': 0.005333218982405135}. Best is trial 29 with value: 0.007476270664483309.\n",
      "GPU available: True (cuda), used: True\n",
      "TPU available: False, using: 0 TPU cores\n",
      "IPU available: False, using: 0 IPUs\n",
      "HPU available: False, using: 0 HPUs\n",
      "LOCAL_RANK: 0 - CUDA_VISIBLE_DEVICES: [0]\n",
      "\n",
      "  | Name    | Type       | Params\n",
      "---------------------------------------\n",
      "0 | camadas | Sequential | 3.6 K \n",
      "---------------------------------------\n",
      "3.6 K     Trainable params\n",
      "0         Non-trainable params\n",
      "3.6 K     Total params\n",
      "0.014     Total estimated model params size (MB)\n"
     ]
    },
    {
     "name": "stdout",
     "output_type": "stream",
     "text": [
      "Epoch 29: 100%|██████████| 6/6 [00:00<00:00, 120.00it/s, v_num=121, loss=0.00754, val_loss=0.0107]\n"
     ]
    },
    {
     "name": "stderr",
     "output_type": "stream",
     "text": [
      "[I 2024-05-07 00:36:23,510] Trial 120 finished with value: 0.010732214897871017 and parameters: {'num_camadas': 3, 'neuronios_c0': 34, 'neuronios_c1': 44, 'neuronios_c2': 39, 'learning_rate': 0.005850098309120069}. Best is trial 29 with value: 0.007476270664483309.\n",
      "GPU available: True (cuda), used: True\n",
      "TPU available: False, using: 0 TPU cores\n",
      "IPU available: False, using: 0 IPUs\n",
      "HPU available: False, using: 0 HPUs\n",
      "LOCAL_RANK: 0 - CUDA_VISIBLE_DEVICES: [0]\n",
      "\n",
      "  | Name    | Type       | Params\n",
      "---------------------------------------\n",
      "0 | camadas | Sequential | 2.5 K \n",
      "---------------------------------------\n",
      "2.5 K     Trainable params\n",
      "0         Non-trainable params\n",
      "2.5 K     Total params\n",
      "0.010     Total estimated model params size (MB)\n"
     ]
    },
    {
     "name": "stdout",
     "output_type": "stream",
     "text": [
      "Epoch 112: 100%|██████████| 6/6 [00:00<00:00, 115.34it/s, v_num=122, loss=0.00554, val_loss=0.00838]\n"
     ]
    },
    {
     "name": "stderr",
     "output_type": "stream",
     "text": [
      "[I 2024-05-07 00:36:35,118] Trial 121 finished with value: 0.00837842095643282 and parameters: {'num_camadas': 3, 'neuronios_c0': 31, 'neuronios_c1': 38, 'neuronios_c2': 26, 'learning_rate': 0.004811021185203617}. Best is trial 29 with value: 0.007476270664483309.\n",
      "GPU available: True (cuda), used: True\n",
      "TPU available: False, using: 0 TPU cores\n",
      "IPU available: False, using: 0 IPUs\n",
      "HPU available: False, using: 0 HPUs\n",
      "LOCAL_RANK: 0 - CUDA_VISIBLE_DEVICES: [0]\n",
      "\n",
      "  | Name    | Type       | Params\n",
      "---------------------------------------\n",
      "0 | camadas | Sequential | 2.5 K \n",
      "---------------------------------------\n",
      "2.5 K     Trainable params\n",
      "0         Non-trainable params\n",
      "2.5 K     Total params\n",
      "0.010     Total estimated model params size (MB)\n"
     ]
    },
    {
     "name": "stdout",
     "output_type": "stream",
     "text": [
      "Epoch 25: 100%|██████████| 6/6 [00:00<00:00, 115.39it/s, v_num=123, loss=0.00806, val_loss=0.0104]\n"
     ]
    },
    {
     "name": "stderr",
     "output_type": "stream",
     "text": [
      "[I 2024-05-07 00:36:42,777] Trial 122 finished with value: 0.010412927716970444 and parameters: {'num_camadas': 3, 'neuronios_c0': 30, 'neuronios_c1': 32, 'neuronios_c2': 36, 'learning_rate': 0.005680591754217412}. Best is trial 29 with value: 0.007476270664483309.\n",
      "GPU available: True (cuda), used: True\n",
      "TPU available: False, using: 0 TPU cores\n",
      "IPU available: False, using: 0 IPUs\n",
      "HPU available: False, using: 0 HPUs\n",
      "LOCAL_RANK: 0 - CUDA_VISIBLE_DEVICES: [0]\n",
      "\n",
      "  | Name    | Type       | Params\n",
      "---------------------------------------\n",
      "0 | camadas | Sequential | 2.1 K \n",
      "---------------------------------------\n",
      "2.1 K     Trainable params\n",
      "0         Non-trainable params\n",
      "2.1 K     Total params\n",
      "0.009     Total estimated model params size (MB)\n"
     ]
    },
    {
     "name": "stdout",
     "output_type": "stream",
     "text": [
      "Epoch 71: 100%|██████████| 6/6 [00:00<00:00, 125.00it/s, v_num=124, loss=0.00698, val_loss=0.00856]\n"
     ]
    },
    {
     "name": "stderr",
     "output_type": "stream",
     "text": [
      "[I 2024-05-07 00:36:52,497] Trial 123 finished with value: 0.008559774607419968 and parameters: {'num_camadas': 3, 'neuronios_c0': 32, 'neuronios_c1': 36, 'neuronios_c2': 18, 'learning_rate': 0.0050101468447427445}. Best is trial 29 with value: 0.007476270664483309.\n",
      "GPU available: True (cuda), used: True\n",
      "TPU available: False, using: 0 TPU cores\n",
      "IPU available: False, using: 0 IPUs\n",
      "HPU available: False, using: 0 HPUs\n",
      "LOCAL_RANK: 0 - CUDA_VISIBLE_DEVICES: [0]\n",
      "\n",
      "  | Name    | Type       | Params\n",
      "---------------------------------------\n",
      "0 | camadas | Sequential | 2.6 K \n",
      "---------------------------------------\n",
      "2.6 K     Trainable params\n",
      "0         Non-trainable params\n",
      "2.6 K     Total params\n",
      "0.010     Total estimated model params size (MB)\n"
     ]
    },
    {
     "name": "stdout",
     "output_type": "stream",
     "text": [
      "Epoch 88: 100%|██████████| 6/6 [00:00<00:00, 124.60it/s, v_num=125, loss=0.00831, val_loss=0.00929]\n"
     ]
    },
    {
     "name": "stderr",
     "output_type": "stream",
     "text": [
      "[I 2024-05-07 00:37:02,927] Trial 124 finished with value: 0.009294143877923489 and parameters: {'num_camadas': 3, 'neuronios_c0': 26, 'neuronios_c1': 41, 'neuronios_c2': 29, 'learning_rate': 0.004719383800733607}. Best is trial 29 with value: 0.007476270664483309.\n",
      "GPU available: True (cuda), used: True\n",
      "TPU available: False, using: 0 TPU cores\n",
      "IPU available: False, using: 0 IPUs\n",
      "HPU available: False, using: 0 HPUs\n",
      "LOCAL_RANK: 0 - CUDA_VISIBLE_DEVICES: [0]\n",
      "\n",
      "  | Name    | Type       | Params\n",
      "---------------------------------------\n",
      "0 | camadas | Sequential | 1.6 K \n",
      "---------------------------------------\n",
      "1.6 K     Trainable params\n",
      "0         Non-trainable params\n",
      "1.6 K     Total params\n",
      "0.007     Total estimated model params size (MB)\n"
     ]
    },
    {
     "name": "stdout",
     "output_type": "stream",
     "text": [
      "Epoch 98: 100%|██████████| 6/6 [00:00<00:00, 125.00it/s, v_num=126, loss=0.00601, val_loss=0.00778]\n"
     ]
    },
    {
     "name": "stderr",
     "output_type": "stream",
     "text": [
      "[I 2024-05-07 00:37:13,779] Trial 125 finished with value: 0.007780623156577349 and parameters: {'num_camadas': 3, 'neuronios_c0': 20, 'neuronios_c1': 26, 'neuronios_c2': 33, 'learning_rate': 0.004374164511715596}. Best is trial 29 with value: 0.007476270664483309.\n",
      "GPU available: True (cuda), used: True\n",
      "TPU available: False, using: 0 TPU cores\n",
      "IPU available: False, using: 0 IPUs\n",
      "HPU available: False, using: 0 HPUs\n",
      "LOCAL_RANK: 0 - CUDA_VISIBLE_DEVICES: [0]\n",
      "\n",
      "  | Name    | Type       | Params\n",
      "---------------------------------------\n",
      "0 | camadas | Sequential | 1.7 K \n",
      "---------------------------------------\n",
      "1.7 K     Trainable params\n",
      "0         Non-trainable params\n",
      "1.7 K     Total params\n",
      "0.007     Total estimated model params size (MB)\n"
     ]
    },
    {
     "name": "stdout",
     "output_type": "stream",
     "text": [
      "Epoch 51: 100%|██████████| 6/6 [00:00<00:00, 123.69it/s, v_num=127, loss=0.00876, val_loss=0.00869]\n"
     ]
    },
    {
     "name": "stderr",
     "output_type": "stream",
     "text": [
      "[I 2024-05-07 00:37:22,401] Trial 126 finished with value: 0.008689653128385544 and parameters: {'num_camadas': 3, 'neuronios_c0': 20, 'neuronios_c1': 26, 'neuronios_c2': 34, 'learning_rate': 0.004337378836535151}. Best is trial 29 with value: 0.007476270664483309.\n",
      "GPU available: True (cuda), used: True\n",
      "TPU available: False, using: 0 TPU cores\n",
      "IPU available: False, using: 0 IPUs\n",
      "HPU available: False, using: 0 HPUs\n",
      "LOCAL_RANK: 0 - CUDA_VISIBLE_DEVICES: [0]\n",
      "\n",
      "  | Name    | Type       | Params\n",
      "---------------------------------------\n",
      "0 | camadas | Sequential | 2.3 K \n",
      "---------------------------------------\n",
      "2.3 K     Trainable params\n",
      "0         Non-trainable params\n",
      "2.3 K     Total params\n",
      "0.009     Total estimated model params size (MB)\n"
     ]
    },
    {
     "name": "stdout",
     "output_type": "stream",
     "text": [
      "Epoch 60: 100%|██████████| 6/6 [00:00<00:00, 116.48it/s, v_num=128, loss=0.00804, val_loss=0.00976]\n"
     ]
    },
    {
     "name": "stderr",
     "output_type": "stream",
     "text": [
      "[I 2024-05-07 00:37:31,567] Trial 127 finished with value: 0.009760518558323383 and parameters: {'num_camadas': 4, 'neuronios_c0': 16, 'neuronios_c1': 29, 'neuronios_c2': 40, 'neuronios_c3': 12, 'learning_rate': 0.0045210567856458495}. Best is trial 29 with value: 0.007476270664483309.\n",
      "GPU available: True (cuda), used: True\n",
      "TPU available: False, using: 0 TPU cores\n",
      "IPU available: False, using: 0 IPUs\n",
      "HPU available: False, using: 0 HPUs\n",
      "LOCAL_RANK: 0 - CUDA_VISIBLE_DEVICES: [0]\n",
      "\n",
      "  | Name    | Type       | Params\n",
      "---------------------------------------\n",
      "0 | camadas | Sequential | 1.8 K \n",
      "---------------------------------------\n",
      "1.8 K     Trainable params\n",
      "0         Non-trainable params\n",
      "1.8 K     Total params\n",
      "0.007     Total estimated model params size (MB)\n"
     ]
    },
    {
     "name": "stdout",
     "output_type": "stream",
     "text": [
      "Epoch 51: 100%|██████████| 6/6 [00:00<00:00, 120.01it/s, v_num=129, loss=0.00797, val_loss=0.00918]\n"
     ]
    },
    {
     "name": "stderr",
     "output_type": "stream",
     "text": [
      "[I 2024-05-07 00:37:40,160] Trial 128 finished with value: 0.009177413769066334 and parameters: {'num_camadas': 3, 'neuronios_c0': 18, 'neuronios_c1': 31, 'neuronios_c2': 32, 'learning_rate': 0.005975253101226656}. Best is trial 29 with value: 0.007476270664483309.\n",
      "GPU available: True (cuda), used: True\n",
      "TPU available: False, using: 0 TPU cores\n",
      "IPU available: False, using: 0 IPUs\n",
      "HPU available: False, using: 0 HPUs\n",
      "LOCAL_RANK: 0 - CUDA_VISIBLE_DEVICES: [0]\n",
      "\n",
      "  | Name    | Type       | Params\n",
      "---------------------------------------\n",
      "0 | camadas | Sequential | 2.0 K \n",
      "---------------------------------------\n",
      "2.0 K     Trainable params\n",
      "0         Non-trainable params\n",
      "2.0 K     Total params\n",
      "0.008     Total estimated model params size (MB)\n"
     ]
    },
    {
     "name": "stdout",
     "output_type": "stream",
     "text": [
      "Epoch 112: 100%|██████████| 6/6 [00:00<00:00, 131.84it/s, v_num=130, loss=0.00593, val_loss=0.00827]\n"
     ]
    },
    {
     "name": "stderr",
     "output_type": "stream",
     "text": [
      "[I 2024-05-07 00:37:51,864] Trial 129 finished with value: 0.008267177268862724 and parameters: {'num_camadas': 3, 'neuronios_c0': 23, 'neuronios_c1': 34, 'neuronios_c2': 27, 'learning_rate': 0.004028284165118361}. Best is trial 29 with value: 0.007476270664483309.\n",
      "GPU available: True (cuda), used: True\n",
      "TPU available: False, using: 0 TPU cores\n",
      "IPU available: False, using: 0 IPUs\n",
      "HPU available: False, using: 0 HPUs\n",
      "LOCAL_RANK: 0 - CUDA_VISIBLE_DEVICES: [0]\n",
      "\n",
      "  | Name    | Type       | Params\n",
      "---------------------------------------\n",
      "0 | camadas | Sequential | 1.9 K \n",
      "---------------------------------------\n",
      "1.9 K     Trainable params\n",
      "0         Non-trainable params\n",
      "1.9 K     Total params\n",
      "0.008     Total estimated model params size (MB)\n"
     ]
    },
    {
     "name": "stdout",
     "output_type": "stream",
     "text": [
      "Epoch 79: 100%|██████████| 6/6 [00:00<00:00, 120.00it/s, v_num=131, loss=0.00726, val_loss=0.00894]\n"
     ]
    },
    {
     "name": "stderr",
     "output_type": "stream",
     "text": [
      "[I 2024-05-07 00:38:01,992] Trial 130 finished with value: 0.008935492485761642 and parameters: {'num_camadas': 3, 'neuronios_c0': 24, 'neuronios_c1': 28, 'neuronios_c2': 35, 'learning_rate': 0.0042769720837151385}. Best is trial 29 with value: 0.007476270664483309.\n",
      "GPU available: True (cuda), used: True\n",
      "TPU available: False, using: 0 TPU cores\n",
      "IPU available: False, using: 0 IPUs\n",
      "HPU available: False, using: 0 HPUs\n",
      "LOCAL_RANK: 0 - CUDA_VISIBLE_DEVICES: [0]\n",
      "\n",
      "  | Name    | Type       | Params\n",
      "---------------------------------------\n",
      "0 | camadas | Sequential | 2.4 K \n",
      "---------------------------------------\n",
      "2.4 K     Trainable params\n",
      "0         Non-trainable params\n",
      "2.4 K     Total params\n",
      "0.010     Total estimated model params size (MB)\n"
     ]
    },
    {
     "name": "stdout",
     "output_type": "stream",
     "text": [
      "Epoch 89: 100%|██████████| 6/6 [00:00<00:00, 117.65it/s, v_num=132, loss=0.00679, val_loss=0.00861]\n"
     ]
    },
    {
     "name": "stderr",
     "output_type": "stream",
     "text": [
      "[I 2024-05-07 00:38:12,509] Trial 131 finished with value: 0.008611803874373436 and parameters: {'num_camadas': 3, 'neuronios_c0': 33, 'neuronios_c1': 33, 'neuronios_c2': 30, 'learning_rate': 0.005183735142616095}. Best is trial 29 with value: 0.007476270664483309.\n",
      "GPU available: True (cuda), used: True\n",
      "TPU available: False, using: 0 TPU cores\n",
      "IPU available: False, using: 0 IPUs\n",
      "HPU available: False, using: 0 HPUs\n",
      "LOCAL_RANK: 0 - CUDA_VISIBLE_DEVICES: [0]\n",
      "\n",
      "  | Name    | Type       | Params\n",
      "---------------------------------------\n",
      "0 | camadas | Sequential | 4.2 K \n",
      "---------------------------------------\n",
      "4.2 K     Trainable params\n",
      "0         Non-trainable params\n",
      "4.2 K     Total params\n",
      "0.017     Total estimated model params size (MB)\n"
     ]
    },
    {
     "name": "stdout",
     "output_type": "stream",
     "text": [
      "Epoch 106: 100%|██████████| 6/6 [00:00<00:00, 122.46it/s, v_num=133, loss=0.00641, val_loss=0.0081] \n"
     ]
    },
    {
     "name": "stderr",
     "output_type": "stream",
     "text": [
      "[I 2024-05-07 00:38:23,860] Trial 132 finished with value: 0.008104543201625347 and parameters: {'num_camadas': 3, 'neuronios_c0': 28, 'neuronios_c1': 63, 'neuronios_c2': 33, 'learning_rate': 0.0049311300654665035}. Best is trial 29 with value: 0.007476270664483309.\n",
      "GPU available: True (cuda), used: True\n",
      "TPU available: False, using: 0 TPU cores\n",
      "IPU available: False, using: 0 IPUs\n",
      "HPU available: False, using: 0 HPUs\n",
      "LOCAL_RANK: 0 - CUDA_VISIBLE_DEVICES: [0]\n",
      "\n",
      "  | Name    | Type       | Params\n",
      "---------------------------------------\n",
      "0 | camadas | Sequential | 4.1 K \n",
      "---------------------------------------\n",
      "4.1 K     Trainable params\n",
      "0         Non-trainable params\n",
      "4.1 K     Total params\n",
      "0.017     Total estimated model params size (MB)\n"
     ]
    },
    {
     "name": "stdout",
     "output_type": "stream",
     "text": [
      "Epoch 38: 100%|██████████| 6/6 [00:00<00:00, 119.83it/s, v_num=134, loss=0.00821, val_loss=0.00999]\n"
     ]
    },
    {
     "name": "stderr",
     "output_type": "stream",
     "text": [
      "[I 2024-05-07 00:38:31,918] Trial 133 finished with value: 0.009991662576794624 and parameters: {'num_camadas': 3, 'neuronios_c0': 27, 'neuronios_c1': 63, 'neuronios_c2': 33, 'learning_rate': 0.004706907952078148}. Best is trial 29 with value: 0.007476270664483309.\n",
      "GPU available: True (cuda), used: True\n",
      "TPU available: False, using: 0 TPU cores\n",
      "IPU available: False, using: 0 IPUs\n",
      "HPU available: False, using: 0 HPUs\n",
      "LOCAL_RANK: 0 - CUDA_VISIBLE_DEVICES: [0]\n",
      "\n",
      "  | Name    | Type       | Params\n",
      "---------------------------------------\n",
      "0 | camadas | Sequential | 3.0 K \n",
      "---------------------------------------\n",
      "3.0 K     Trainable params\n",
      "0         Non-trainable params\n",
      "3.0 K     Total params\n",
      "0.012     Total estimated model params size (MB)\n"
     ]
    },
    {
     "name": "stdout",
     "output_type": "stream",
     "text": [
      "Epoch 32: 100%|██████████| 6/6 [00:00<00:00, 114.95it/s, v_num=135, loss=0.00871, val_loss=0.0105]\n"
     ]
    },
    {
     "name": "stderr",
     "output_type": "stream",
     "text": [
      "[I 2024-05-07 00:38:39,561] Trial 134 finished with value: 0.010549287311732769 and parameters: {'num_camadas': 3, 'neuronios_c0': 20, 'neuronios_c1': 61, 'neuronios_c2': 25, 'learning_rate': 0.005395678198586471}. Best is trial 29 with value: 0.007476270664483309.\n",
      "GPU available: True (cuda), used: True\n",
      "TPU available: False, using: 0 TPU cores\n",
      "IPU available: False, using: 0 IPUs\n",
      "HPU available: False, using: 0 HPUs\n",
      "LOCAL_RANK: 0 - CUDA_VISIBLE_DEVICES: [0]\n",
      "\n",
      "  | Name    | Type       | Params\n",
      "---------------------------------------\n",
      "0 | camadas | Sequential | 2.4 K \n",
      "---------------------------------------\n",
      "2.4 K     Trainable params\n",
      "0         Non-trainable params\n",
      "2.4 K     Total params\n",
      "0.010     Total estimated model params size (MB)\n"
     ]
    },
    {
     "name": "stdout",
     "output_type": "stream",
     "text": [
      "Epoch 65: 100%|██████████| 6/6 [00:00<00:00, 98.91it/s, v_num=136, loss=0.00815, val_loss=0.00932] \n"
     ]
    },
    {
     "name": "stderr",
     "output_type": "stream",
     "text": [
      "[I 2024-05-07 00:38:48,789] Trial 135 finished with value: 0.00931604951620102 and parameters: {'num_camadas': 3, 'neuronios_c0': 25, 'neuronios_c1': 38, 'neuronios_c2': 30, 'learning_rate': 0.005546306980140497}. Best is trial 29 with value: 0.007476270664483309.\n",
      "GPU available: True (cuda), used: True\n",
      "TPU available: False, using: 0 TPU cores\n",
      "IPU available: False, using: 0 IPUs\n",
      "HPU available: False, using: 0 HPUs\n",
      "LOCAL_RANK: 0 - CUDA_VISIBLE_DEVICES: [0]\n",
      "\n",
      "  | Name    | Type       | Params\n",
      "---------------------------------------\n",
      "0 | camadas | Sequential | 2.0 K \n",
      "---------------------------------------\n",
      "2.0 K     Trainable params\n",
      "0         Non-trainable params\n",
      "2.0 K     Total params\n",
      "0.008     Total estimated model params size (MB)\n"
     ]
    },
    {
     "name": "stdout",
     "output_type": "stream",
     "text": [
      "Epoch 75: 100%|██████████| 6/6 [00:00<00:00, 125.01it/s, v_num=137, loss=0.00687, val_loss=0.00832]\n"
     ]
    },
    {
     "name": "stderr",
     "output_type": "stream",
     "text": [
      "[I 2024-05-07 00:38:58,593] Trial 136 finished with value: 0.008317295461893082 and parameters: {'num_camadas': 3, 'neuronios_c0': 22, 'neuronios_c1': 34, 'neuronios_c2': 28, 'learning_rate': 0.004616517510188375}. Best is trial 29 with value: 0.007476270664483309.\n",
      "GPU available: True (cuda), used: True\n",
      "TPU available: False, using: 0 TPU cores\n",
      "IPU available: False, using: 0 IPUs\n",
      "HPU available: False, using: 0 HPUs\n",
      "LOCAL_RANK: 0 - CUDA_VISIBLE_DEVICES: [0]\n",
      "\n",
      "  | Name    | Type       | Params\n",
      "---------------------------------------\n",
      "0 | camadas | Sequential | 3.6 K \n",
      "---------------------------------------\n",
      "3.6 K     Trainable params\n",
      "0         Non-trainable params\n",
      "3.6 K     Total params\n",
      "0.014     Total estimated model params size (MB)\n"
     ]
    },
    {
     "name": "stdout",
     "output_type": "stream",
     "text": [
      "Epoch 59: 100%|██████████| 6/6 [00:00<00:00, 112.12it/s, v_num=138, loss=0.00723, val_loss=0.00927]\n"
     ]
    },
    {
     "name": "stderr",
     "output_type": "stream",
     "text": [
      "[I 2024-05-07 00:39:07,700] Trial 137 finished with value: 0.009266426786780357 and parameters: {'num_camadas': 3, 'neuronios_c0': 28, 'neuronios_c1': 50, 'neuronios_c2': 37, 'learning_rate': 0.004902775233928268}. Best is trial 29 with value: 0.007476270664483309.\n",
      "GPU available: True (cuda), used: True\n",
      "TPU available: False, using: 0 TPU cores\n",
      "IPU available: False, using: 0 IPUs\n",
      "HPU available: False, using: 0 HPUs\n",
      "LOCAL_RANK: 0 - CUDA_VISIBLE_DEVICES: [0]\n",
      "\n",
      "  | Name    | Type       | Params\n",
      "---------------------------------------\n",
      "0 | camadas | Sequential | 4.5 K \n",
      "---------------------------------------\n",
      "4.5 K     Trainable params\n",
      "0         Non-trainable params\n",
      "4.5 K     Total params\n",
      "0.018     Total estimated model params size (MB)\n"
     ]
    },
    {
     "name": "stdout",
     "output_type": "stream",
     "text": [
      "Epoch 66: 100%|██████████| 6/6 [00:00<00:00, 124.13it/s, v_num=139, loss=0.00788, val_loss=0.0103]\n"
     ]
    },
    {
     "name": "stderr",
     "output_type": "stream",
     "text": [
      "[I 2024-05-07 00:39:16,968] Trial 138 finished with value: 0.010338211432099342 and parameters: {'num_camadas': 3, 'neuronios_c0': 22, 'neuronios_c1': 63, 'neuronios_c2': 44, 'learning_rate': 0.004405854999816572}. Best is trial 29 with value: 0.007476270664483309.\n",
      "GPU available: True (cuda), used: True\n",
      "TPU available: False, using: 0 TPU cores\n",
      "IPU available: False, using: 0 IPUs\n",
      "HPU available: False, using: 0 HPUs\n",
      "LOCAL_RANK: 0 - CUDA_VISIBLE_DEVICES: [0]\n",
      "\n",
      "  | Name    | Type       | Params\n",
      "---------------------------------------\n",
      "0 | camadas | Sequential | 2.2 K \n",
      "---------------------------------------\n",
      "2.2 K     Trainable params\n",
      "0         Non-trainable params\n",
      "2.2 K     Total params\n",
      "0.009     Total estimated model params size (MB)\n"
     ]
    },
    {
     "name": "stdout",
     "output_type": "stream",
     "text": [
      "Epoch 47: 100%|██████████| 6/6 [00:00<00:00, 125.00it/s, v_num=140, loss=0.0102, val_loss=0.0103] \n"
     ]
    },
    {
     "name": "stderr",
     "output_type": "stream",
     "text": [
      "[I 2024-05-07 00:39:25,339] Trial 139 finished with value: 0.010317612439393997 and parameters: {'num_camadas': 3, 'neuronios_c0': 31, 'neuronios_c1': 30, 'neuronios_c2': 31, 'learning_rate': 0.006147495052481618}. Best is trial 29 with value: 0.007476270664483309.\n",
      "GPU available: True (cuda), used: True\n",
      "TPU available: False, using: 0 TPU cores\n",
      "IPU available: False, using: 0 IPUs\n",
      "HPU available: False, using: 0 HPUs\n",
      "LOCAL_RANK: 0 - CUDA_VISIBLE_DEVICES: [0]\n",
      "\n",
      "  | Name    | Type       | Params\n",
      "---------------------------------------\n",
      "0 | camadas | Sequential | 3.5 K \n",
      "---------------------------------------\n",
      "3.5 K     Trainable params\n",
      "0         Non-trainable params\n",
      "3.5 K     Total params\n",
      "0.014     Total estimated model params size (MB)\n"
     ]
    },
    {
     "name": "stdout",
     "output_type": "stream",
     "text": [
      "Epoch 47: 100%|██████████| 6/6 [00:00<00:00, 127.67it/s, v_num=141, loss=0.0081, val_loss=0.00991] \n"
     ]
    },
    {
     "name": "stderr",
     "output_type": "stream",
     "text": [
      "[I 2024-05-07 00:39:33,754] Trial 140 finished with value: 0.009909836575388908 and parameters: {'num_camadas': 3, 'neuronios_c0': 29, 'neuronios_c1': 59, 'neuronios_c2': 24, 'learning_rate': 0.006464033382266285}. Best is trial 29 with value: 0.007476270664483309.\n",
      "GPU available: True (cuda), used: True\n",
      "TPU available: False, using: 0 TPU cores\n",
      "IPU available: False, using: 0 IPUs\n",
      "HPU available: False, using: 0 HPUs\n",
      "LOCAL_RANK: 0 - CUDA_VISIBLE_DEVICES: [0]\n",
      "\n",
      "  | Name    | Type       | Params\n",
      "---------------------------------------\n",
      "0 | camadas | Sequential | 913   \n",
      "---------------------------------------\n",
      "913       Trainable params\n",
      "0         Non-trainable params\n",
      "913       Total params\n",
      "0.004     Total estimated model params size (MB)\n"
     ]
    },
    {
     "name": "stdout",
     "output_type": "stream",
     "text": [
      "Epoch 111: 100%|██████████| 6/6 [00:00<00:00, 127.66it/s, v_num=142, loss=0.00674, val_loss=0.00885]\n"
     ]
    },
    {
     "name": "stderr",
     "output_type": "stream",
     "text": [
      "[I 2024-05-07 00:39:45,140] Trial 141 finished with value: 0.008848200552165508 and parameters: {'num_camadas': 2, 'neuronios_c0': 30, 'neuronios_c1': 21, 'learning_rate': 0.005109735484026043}. Best is trial 29 with value: 0.007476270664483309.\n",
      "GPU available: True (cuda), used: True\n",
      "TPU available: False, using: 0 TPU cores\n",
      "IPU available: False, using: 0 IPUs\n",
      "HPU available: False, using: 0 HPUs\n",
      "LOCAL_RANK: 0 - CUDA_VISIBLE_DEVICES: [0]\n",
      "\n",
      "  | Name    | Type       | Params\n",
      "---------------------------------------\n",
      "0 | camadas | Sequential | 2.4 K \n",
      "---------------------------------------\n",
      "2.4 K     Trainable params\n",
      "0         Non-trainable params\n",
      "2.4 K     Total params\n",
      "0.010     Total estimated model params size (MB)\n"
     ]
    },
    {
     "name": "stdout",
     "output_type": "stream",
     "text": [
      "Epoch 53: 100%|██████████| 6/6 [00:00<00:00, 123.66it/s, v_num=143, loss=0.00695, val_loss=0.00912]\n"
     ]
    },
    {
     "name": "stderr",
     "output_type": "stream",
     "text": [
      "[I 2024-05-07 00:39:53,727] Trial 142 finished with value: 0.009119571186602116 and parameters: {'num_camadas': 2, 'neuronios_c0': 34, 'neuronios_c1': 60, 'learning_rate': 0.004923603524396218}. Best is trial 29 with value: 0.007476270664483309.\n",
      "GPU available: True (cuda), used: True\n",
      "TPU available: False, using: 0 TPU cores\n",
      "IPU available: False, using: 0 IPUs\n",
      "HPU available: False, using: 0 HPUs\n",
      "LOCAL_RANK: 0 - CUDA_VISIBLE_DEVICES: [0]\n",
      "\n",
      "  | Name    | Type       | Params\n",
      "---------------------------------------\n",
      "0 | camadas | Sequential | 1.5 K \n",
      "---------------------------------------\n",
      "1.5 K     Trainable params\n",
      "0         Non-trainable params\n",
      "1.5 K     Total params\n",
      "0.006     Total estimated model params size (MB)\n"
     ]
    },
    {
     "name": "stdout",
     "output_type": "stream",
     "text": [
      "Epoch 90: 100%|██████████| 6/6 [00:00<00:00, 100.00it/s, v_num=144, loss=0.007, val_loss=0.00808]  \n"
     ]
    },
    {
     "name": "stderr",
     "output_type": "stream",
     "text": [
      "[I 2024-05-07 00:40:04,065] Trial 143 finished with value: 0.008076013997197151 and parameters: {'num_camadas': 2, 'neuronios_c0': 32, 'neuronios_c1': 36, 'learning_rate': 0.005357554410834242}. Best is trial 29 with value: 0.007476270664483309.\n",
      "GPU available: True (cuda), used: True\n",
      "TPU available: False, using: 0 TPU cores\n",
      "IPU available: False, using: 0 IPUs\n",
      "HPU available: False, using: 0 HPUs\n",
      "LOCAL_RANK: 0 - CUDA_VISIBLE_DEVICES: [0]\n",
      "\n",
      "  | Name    | Type       | Params\n",
      "---------------------------------------\n",
      "0 | camadas | Sequential | 1.7 K \n",
      "---------------------------------------\n",
      "1.7 K     Trainable params\n",
      "0         Non-trainable params\n",
      "1.7 K     Total params\n",
      "0.007     Total estimated model params size (MB)\n"
     ]
    },
    {
     "name": "stdout",
     "output_type": "stream",
     "text": [
      "Epoch 55: 100%|██████████| 6/6 [00:00<00:00, 142.86it/s, v_num=145, loss=0.00764, val_loss=0.00891]\n"
     ]
    },
    {
     "name": "stderr",
     "output_type": "stream",
     "text": [
      "[I 2024-05-07 00:40:12,685] Trial 144 finished with value: 0.008907163515686989 and parameters: {'num_camadas': 2, 'neuronios_c0': 35, 'neuronios_c1': 37, 'learning_rate': 0.005258692272129328}. Best is trial 29 with value: 0.007476270664483309.\n",
      "GPU available: True (cuda), used: True\n",
      "TPU available: False, using: 0 TPU cores\n",
      "IPU available: False, using: 0 IPUs\n",
      "HPU available: False, using: 0 HPUs\n",
      "LOCAL_RANK: 0 - CUDA_VISIBLE_DEVICES: [0]\n",
      "\n",
      "  | Name    | Type       | Params\n",
      "---------------------------------------\n",
      "0 | camadas | Sequential | 2.5 K \n",
      "---------------------------------------\n",
      "2.5 K     Trainable params\n",
      "0         Non-trainable params\n",
      "2.5 K     Total params\n",
      "0.010     Total estimated model params size (MB)\n"
     ]
    },
    {
     "name": "stdout",
     "output_type": "stream",
     "text": [
      "Epoch 111: 100%|██████████| 6/6 [00:00<00:00, 127.67it/s, v_num=146, loss=0.00711, val_loss=0.00916]\n"
     ]
    },
    {
     "name": "stderr",
     "output_type": "stream",
     "text": [
      "[I 2024-05-07 00:40:24,164] Trial 145 finished with value: 0.009157232008874416 and parameters: {'num_camadas': 3, 'neuronios_c0': 32, 'neuronios_c1': 40, 'neuronios_c2': 22, 'learning_rate': 0.005743630267148908}. Best is trial 29 with value: 0.007476270664483309.\n",
      "GPU available: True (cuda), used: True\n",
      "TPU available: False, using: 0 TPU cores\n",
      "IPU available: False, using: 0 IPUs\n",
      "HPU available: False, using: 0 HPUs\n",
      "LOCAL_RANK: 0 - CUDA_VISIBLE_DEVICES: [0]\n",
      "\n",
      "  | Name    | Type       | Params\n",
      "---------------------------------------\n",
      "0 | camadas | Sequential | 2.4 K \n",
      "---------------------------------------\n",
      "2.4 K     Trainable params\n",
      "0         Non-trainable params\n",
      "2.4 K     Total params\n",
      "0.009     Total estimated model params size (MB)\n"
     ]
    },
    {
     "name": "stdout",
     "output_type": "stream",
     "text": [
      "Epoch 24: 100%|██████████| 6/6 [00:00<00:00, 117.65it/s, v_num=147, loss=0.00822, val_loss=0.0112]\n"
     ]
    },
    {
     "name": "stderr",
     "output_type": "stream",
     "text": [
      "[I 2024-05-07 00:40:31,357] Trial 146 finished with value: 0.011187613941729069 and parameters: {'num_camadas': 3, 'neuronios_c0': 26, 'neuronios_c1': 35, 'neuronios_c2': 33, 'learning_rate': 0.00592324170719008}. Best is trial 29 with value: 0.007476270664483309.\n",
      "GPU available: True (cuda), used: True\n",
      "TPU available: False, using: 0 TPU cores\n",
      "IPU available: False, using: 0 IPUs\n",
      "HPU available: False, using: 0 HPUs\n",
      "LOCAL_RANK: 0 - CUDA_VISIBLE_DEVICES: [0]\n",
      "\n",
      "  | Name    | Type       | Params\n",
      "---------------------------------------\n",
      "0 | camadas | Sequential | 1.5 K \n",
      "---------------------------------------\n",
      "1.5 K     Trainable params\n",
      "0         Non-trainable params\n",
      "1.5 K     Total params\n",
      "0.006     Total estimated model params size (MB)\n"
     ]
    },
    {
     "name": "stdout",
     "output_type": "stream",
     "text": [
      "Epoch 79: 100%|██████████| 6/6 [00:00<00:00, 127.66it/s, v_num=148, loss=0.00716, val_loss=0.00916]\n"
     ]
    },
    {
     "name": "stderr",
     "output_type": "stream",
     "text": [
      "[I 2024-05-07 00:40:41,182] Trial 147 finished with value: 0.00916140154004097 and parameters: {'num_camadas': 2, 'neuronios_c0': 37, 'neuronios_c1': 32, 'learning_rate': 0.005365364581077561}. Best is trial 29 with value: 0.007476270664483309.\n",
      "GPU available: True (cuda), used: True\n",
      "TPU available: False, using: 0 TPU cores\n",
      "IPU available: False, using: 0 IPUs\n",
      "HPU available: False, using: 0 HPUs\n",
      "LOCAL_RANK: 0 - CUDA_VISIBLE_DEVICES: [0]\n",
      "\n",
      "  | Name    | Type       | Params\n",
      "---------------------------------------\n",
      "0 | camadas | Sequential | 2.8 K \n",
      "---------------------------------------\n",
      "2.8 K     Trainable params\n",
      "0         Non-trainable params\n",
      "2.8 K     Total params\n",
      "0.011     Total estimated model params size (MB)\n"
     ]
    },
    {
     "name": "stdout",
     "output_type": "stream",
     "text": [
      "Epoch 66: 100%|██████████| 6/6 [00:00<00:00, 127.65it/s, v_num=149, loss=0.00867, val_loss=0.00956]\n"
     ]
    },
    {
     "name": "stderr",
     "output_type": "stream",
     "text": [
      "[I 2024-05-07 00:40:50,440] Trial 148 finished with value: 0.009555978700518608 and parameters: {'num_camadas': 3, 'neuronios_c0': 19, 'neuronios_c1': 36, 'neuronios_c2': 50, 'learning_rate': 0.004774161282243238}. Best is trial 29 with value: 0.007476270664483309.\n",
      "GPU available: True (cuda), used: True\n",
      "TPU available: False, using: 0 TPU cores\n",
      "IPU available: False, using: 0 IPUs\n",
      "HPU available: False, using: 0 HPUs\n",
      "LOCAL_RANK: 0 - CUDA_VISIBLE_DEVICES: [0]\n",
      "\n",
      "  | Name    | Type       | Params\n",
      "---------------------------------------\n",
      "0 | camadas | Sequential | 1.4 K \n",
      "---------------------------------------\n",
      "1.4 K     Trainable params\n",
      "0         Non-trainable params\n",
      "1.4 K     Total params\n",
      "0.006     Total estimated model params size (MB)\n"
     ]
    },
    {
     "name": "stdout",
     "output_type": "stream",
     "text": [
      "Epoch 66: 100%|██████████| 6/6 [00:00<00:00, 130.45it/s, v_num=150, loss=0.00848, val_loss=0.0111]\n"
     ]
    },
    {
     "name": "stderr",
     "output_type": "stream",
     "text": [
      "[I 2024-05-07 00:40:59,568] Trial 149 finished with value: 0.011053302325308323 and parameters: {'num_camadas': 2, 'neuronios_c0': 28, 'neuronios_c1': 40, 'learning_rate': 0.005617805787194662}. Best is trial 29 with value: 0.007476270664483309.\n"
     ]
    },
    {
     "name": "stdout",
     "output_type": "stream",
     "text": [
      "Melhores hiperparâmetros encontrados: {'num_camadas': 3, 'neuronios_c0': 21, 'neuronios_c1': 30, 'neuronios_c2': 64, 'learning_rate': 0.004690771741923557}\n",
      "Melhor perda -loss- encontrada: 0.007476270664483309\n"
     ]
    }
   ],
   "source": [
    "# Otimizando a rede com Optuna testando 150 arquiteturas diferentes, variando quantidade de camada e \n",
    "# quantidade de neurônios por camada.\n",
    "\n",
    "dm = DataModule(X_treino, y_treino, X_val, y_val, X_teste, y_teste)\n",
    "\n",
    "def objective(trial):\n",
    "    camadas = trial.suggest_int('num_camadas', 1, 5)\n",
    "    hidden = []\n",
    "    for i in range(camadas):\n",
    "        hidden.append(trial.suggest_int(f'neuronios_c{i}', 4, 64))\n",
    "    \n",
    "    learning_rate = trial.suggest_float('learning_rate', 1e-5, 1e-2)\n",
    "    \n",
    "    treinador = L.Trainer(max_epochs=200,callbacks=[EarlyStopping(monitor=\"val_loss\", mode=\"min\")])\n",
    "    minha_MLP = MLP(7, hidden, 1, learning_rate)\n",
    "    treinador.fit(minha_MLP, dm)\n",
    "    \n",
    "    return treinador.callback_metrics[\"val_loss\"].item()\n",
    "\n",
    "\n",
    "#Criando um objeto de estudo para salvar os hiperparâmetros encontrados pelo Optuna\n",
    "study = optuna.create_study(direction='minimize',\n",
    "                            storage=\"sqlite:///db.sqlite3\",\n",
    "                            study_name=\"Sol_study\",load_if_exists=True\n",
    "    )\n",
    "study.optimize(objective, n_trials=150)\n",
    "\n",
    "best_params = study.best_params\n",
    "best_loss = study.best_value\n",
    "\n",
    "print(\"Melhores hiperparâmetros encontrados:\", best_params)\n",
    "print(\"Melhor perda -loss- encontrada:\", best_loss)"
   ]
  },
  {
   "cell_type": "markdown",
   "id": "775655f6-12ae-4088-b2f8-f46cf320dc1a",
   "metadata": {},
   "source": [
    "Agora, utilizando os hiperparâmetros testados no `Optuna`, treinamos essa nova rede:"
   ]
  },
  {
   "cell_type": "code",
   "execution_count": 18,
   "id": "e619653b-a3b6-427a-b62d-8dc7ad3666e0",
   "metadata": {
    "tags": []
   },
   "outputs": [
    {
     "name": "stderr",
     "output_type": "stream",
     "text": [
      "[I 2024-05-07 08:54:20,552] Using an existing study with name 'Sol_study' instead of creating a new one.\n",
      "GPU available: False, used: False\n",
      "TPU available: False, using: 0 TPU cores\n",
      "IPU available: False, using: 0 IPUs\n",
      "HPU available: False, using: 0 HPUs\n",
      "\n",
      "  | Name    | Type       | Params\n",
      "---------------------------------------\n",
      "0 | camadas | Sequential | 2.9 K \n",
      "---------------------------------------\n",
      "2.9 K     Trainable params\n",
      "0         Non-trainable params\n",
      "2.9 K     Total params\n",
      "0.012     Total estimated model params size (MB)\n"
     ]
    },
    {
     "data": {
      "application/vnd.jupyter.widget-view+json": {
       "model_id": "",
       "version_major": 2,
       "version_minor": 0
      },
      "text/plain": [
       "Sanity Checking: |                                                                               | 0/? [00:00<…"
      ]
     },
     "metadata": {},
     "output_type": "display_data"
    },
    {
     "name": "stderr",
     "output_type": "stream",
     "text": [
      "c:\\venv\\ilumpy\\lib\\site-packages\\lightning\\pytorch\\loops\\fit_loop.py:298: The number of training batches (6) is smaller than the logging interval Trainer(log_every_n_steps=50). Set a lower value for log_every_n_steps if you want to see logs for the training epoch.\n"
     ]
    },
    {
     "data": {
      "application/vnd.jupyter.widget-view+json": {
       "model_id": "f93fe18246b246378d85975ff566a467",
       "version_major": 2,
       "version_minor": 0
      },
      "text/plain": [
       "Training: |                                                                                      | 0/? [00:00<…"
      ]
     },
     "metadata": {},
     "output_type": "display_data"
    },
    {
     "data": {
      "application/vnd.jupyter.widget-view+json": {
       "model_id": "",
       "version_major": 2,
       "version_minor": 0
      },
      "text/plain": [
       "Validation: |                                                                                    | 0/? [00:00<…"
      ]
     },
     "metadata": {},
     "output_type": "display_data"
    },
    {
     "data": {
      "application/vnd.jupyter.widget-view+json": {
       "model_id": "",
       "version_major": 2,
       "version_minor": 0
      },
      "text/plain": [
       "Validation: |                                                                                    | 0/? [00:00<…"
      ]
     },
     "metadata": {},
     "output_type": "display_data"
    },
    {
     "data": {
      "application/vnd.jupyter.widget-view+json": {
       "model_id": "",
       "version_major": 2,
       "version_minor": 0
      },
      "text/plain": [
       "Validation: |                                                                                    | 0/? [00:00<…"
      ]
     },
     "metadata": {},
     "output_type": "display_data"
    },
    {
     "data": {
      "application/vnd.jupyter.widget-view+json": {
       "model_id": "",
       "version_major": 2,
       "version_minor": 0
      },
      "text/plain": [
       "Validation: |                                                                                    | 0/? [00:00<…"
      ]
     },
     "metadata": {},
     "output_type": "display_data"
    },
    {
     "data": {
      "application/vnd.jupyter.widget-view+json": {
       "model_id": "",
       "version_major": 2,
       "version_minor": 0
      },
      "text/plain": [
       "Validation: |                                                                                    | 0/? [00:00<…"
      ]
     },
     "metadata": {},
     "output_type": "display_data"
    },
    {
     "data": {
      "application/vnd.jupyter.widget-view+json": {
       "model_id": "",
       "version_major": 2,
       "version_minor": 0
      },
      "text/plain": [
       "Validation: |                                                                                    | 0/? [00:00<…"
      ]
     },
     "metadata": {},
     "output_type": "display_data"
    },
    {
     "data": {
      "application/vnd.jupyter.widget-view+json": {
       "model_id": "",
       "version_major": 2,
       "version_minor": 0
      },
      "text/plain": [
       "Validation: |                                                                                    | 0/? [00:00<…"
      ]
     },
     "metadata": {},
     "output_type": "display_data"
    },
    {
     "data": {
      "application/vnd.jupyter.widget-view+json": {
       "model_id": "",
       "version_major": 2,
       "version_minor": 0
      },
      "text/plain": [
       "Validation: |                                                                                    | 0/? [00:00<…"
      ]
     },
     "metadata": {},
     "output_type": "display_data"
    },
    {
     "data": {
      "application/vnd.jupyter.widget-view+json": {
       "model_id": "",
       "version_major": 2,
       "version_minor": 0
      },
      "text/plain": [
       "Validation: |                                                                                    | 0/? [00:00<…"
      ]
     },
     "metadata": {},
     "output_type": "display_data"
    },
    {
     "data": {
      "application/vnd.jupyter.widget-view+json": {
       "model_id": "",
       "version_major": 2,
       "version_minor": 0
      },
      "text/plain": [
       "Validation: |                                                                                    | 0/? [00:00<…"
      ]
     },
     "metadata": {},
     "output_type": "display_data"
    },
    {
     "data": {
      "application/vnd.jupyter.widget-view+json": {
       "model_id": "",
       "version_major": 2,
       "version_minor": 0
      },
      "text/plain": [
       "Validation: |                                                                                    | 0/? [00:00<…"
      ]
     },
     "metadata": {},
     "output_type": "display_data"
    },
    {
     "data": {
      "application/vnd.jupyter.widget-view+json": {
       "model_id": "",
       "version_major": 2,
       "version_minor": 0
      },
      "text/plain": [
       "Validation: |                                                                                    | 0/? [00:00<…"
      ]
     },
     "metadata": {},
     "output_type": "display_data"
    },
    {
     "data": {
      "application/vnd.jupyter.widget-view+json": {
       "model_id": "",
       "version_major": 2,
       "version_minor": 0
      },
      "text/plain": [
       "Validation: |                                                                                    | 0/? [00:00<…"
      ]
     },
     "metadata": {},
     "output_type": "display_data"
    },
    {
     "data": {
      "application/vnd.jupyter.widget-view+json": {
       "model_id": "",
       "version_major": 2,
       "version_minor": 0
      },
      "text/plain": [
       "Validation: |                                                                                    | 0/? [00:00<…"
      ]
     },
     "metadata": {},
     "output_type": "display_data"
    },
    {
     "data": {
      "application/vnd.jupyter.widget-view+json": {
       "model_id": "",
       "version_major": 2,
       "version_minor": 0
      },
      "text/plain": [
       "Validation: |                                                                                    | 0/? [00:00<…"
      ]
     },
     "metadata": {},
     "output_type": "display_data"
    },
    {
     "data": {
      "application/vnd.jupyter.widget-view+json": {
       "model_id": "",
       "version_major": 2,
       "version_minor": 0
      },
      "text/plain": [
       "Validation: |                                                                                    | 0/? [00:00<…"
      ]
     },
     "metadata": {},
     "output_type": "display_data"
    },
    {
     "data": {
      "application/vnd.jupyter.widget-view+json": {
       "model_id": "",
       "version_major": 2,
       "version_minor": 0
      },
      "text/plain": [
       "Validation: |                                                                                    | 0/? [00:00<…"
      ]
     },
     "metadata": {},
     "output_type": "display_data"
    },
    {
     "data": {
      "application/vnd.jupyter.widget-view+json": {
       "model_id": "",
       "version_major": 2,
       "version_minor": 0
      },
      "text/plain": [
       "Validation: |                                                                                    | 0/? [00:00<…"
      ]
     },
     "metadata": {},
     "output_type": "display_data"
    },
    {
     "data": {
      "application/vnd.jupyter.widget-view+json": {
       "model_id": "",
       "version_major": 2,
       "version_minor": 0
      },
      "text/plain": [
       "Validation: |                                                                                    | 0/? [00:00<…"
      ]
     },
     "metadata": {},
     "output_type": "display_data"
    },
    {
     "data": {
      "application/vnd.jupyter.widget-view+json": {
       "model_id": "",
       "version_major": 2,
       "version_minor": 0
      },
      "text/plain": [
       "Validation: |                                                                                    | 0/? [00:00<…"
      ]
     },
     "metadata": {},
     "output_type": "display_data"
    },
    {
     "data": {
      "application/vnd.jupyter.widget-view+json": {
       "model_id": "",
       "version_major": 2,
       "version_minor": 0
      },
      "text/plain": [
       "Validation: |                                                                                    | 0/? [00:00<…"
      ]
     },
     "metadata": {},
     "output_type": "display_data"
    },
    {
     "data": {
      "application/vnd.jupyter.widget-view+json": {
       "model_id": "",
       "version_major": 2,
       "version_minor": 0
      },
      "text/plain": [
       "Validation: |                                                                                    | 0/? [00:00<…"
      ]
     },
     "metadata": {},
     "output_type": "display_data"
    },
    {
     "data": {
      "application/vnd.jupyter.widget-view+json": {
       "model_id": "",
       "version_major": 2,
       "version_minor": 0
      },
      "text/plain": [
       "Validation: |                                                                                    | 0/? [00:00<…"
      ]
     },
     "metadata": {},
     "output_type": "display_data"
    },
    {
     "data": {
      "application/vnd.jupyter.widget-view+json": {
       "model_id": "",
       "version_major": 2,
       "version_minor": 0
      },
      "text/plain": [
       "Validation: |                                                                                    | 0/? [00:00<…"
      ]
     },
     "metadata": {},
     "output_type": "display_data"
    },
    {
     "data": {
      "application/vnd.jupyter.widget-view+json": {
       "model_id": "",
       "version_major": 2,
       "version_minor": 0
      },
      "text/plain": [
       "Validation: |                                                                                    | 0/? [00:00<…"
      ]
     },
     "metadata": {},
     "output_type": "display_data"
    },
    {
     "data": {
      "application/vnd.jupyter.widget-view+json": {
       "model_id": "",
       "version_major": 2,
       "version_minor": 0
      },
      "text/plain": [
       "Validation: |                                                                                    | 0/? [00:00<…"
      ]
     },
     "metadata": {},
     "output_type": "display_data"
    },
    {
     "data": {
      "application/vnd.jupyter.widget-view+json": {
       "model_id": "",
       "version_major": 2,
       "version_minor": 0
      },
      "text/plain": [
       "Validation: |                                                                                    | 0/? [00:00<…"
      ]
     },
     "metadata": {},
     "output_type": "display_data"
    },
    {
     "data": {
      "application/vnd.jupyter.widget-view+json": {
       "model_id": "",
       "version_major": 2,
       "version_minor": 0
      },
      "text/plain": [
       "Validation: |                                                                                    | 0/? [00:00<…"
      ]
     },
     "metadata": {},
     "output_type": "display_data"
    },
    {
     "data": {
      "application/vnd.jupyter.widget-view+json": {
       "model_id": "",
       "version_major": 2,
       "version_minor": 0
      },
      "text/plain": [
       "Validation: |                                                                                    | 0/? [00:00<…"
      ]
     },
     "metadata": {},
     "output_type": "display_data"
    },
    {
     "data": {
      "application/vnd.jupyter.widget-view+json": {
       "model_id": "",
       "version_major": 2,
       "version_minor": 0
      },
      "text/plain": [
       "Validation: |                                                                                    | 0/? [00:00<…"
      ]
     },
     "metadata": {},
     "output_type": "display_data"
    },
    {
     "data": {
      "application/vnd.jupyter.widget-view+json": {
       "model_id": "",
       "version_major": 2,
       "version_minor": 0
      },
      "text/plain": [
       "Validation: |                                                                                    | 0/? [00:00<…"
      ]
     },
     "metadata": {},
     "output_type": "display_data"
    },
    {
     "data": {
      "application/vnd.jupyter.widget-view+json": {
       "model_id": "",
       "version_major": 2,
       "version_minor": 0
      },
      "text/plain": [
       "Validation: |                                                                                    | 0/? [00:00<…"
      ]
     },
     "metadata": {},
     "output_type": "display_data"
    },
    {
     "data": {
      "application/vnd.jupyter.widget-view+json": {
       "model_id": "",
       "version_major": 2,
       "version_minor": 0
      },
      "text/plain": [
       "Validation: |                                                                                    | 0/? [00:00<…"
      ]
     },
     "metadata": {},
     "output_type": "display_data"
    },
    {
     "data": {
      "application/vnd.jupyter.widget-view+json": {
       "model_id": "",
       "version_major": 2,
       "version_minor": 0
      },
      "text/plain": [
       "Validation: |                                                                                    | 0/? [00:00<…"
      ]
     },
     "metadata": {},
     "output_type": "display_data"
    },
    {
     "data": {
      "application/vnd.jupyter.widget-view+json": {
       "model_id": "",
       "version_major": 2,
       "version_minor": 0
      },
      "text/plain": [
       "Validation: |                                                                                    | 0/? [00:00<…"
      ]
     },
     "metadata": {},
     "output_type": "display_data"
    },
    {
     "data": {
      "application/vnd.jupyter.widget-view+json": {
       "model_id": "",
       "version_major": 2,
       "version_minor": 0
      },
      "text/plain": [
       "Validation: |                                                                                    | 0/? [00:00<…"
      ]
     },
     "metadata": {},
     "output_type": "display_data"
    },
    {
     "data": {
      "application/vnd.jupyter.widget-view+json": {
       "model_id": "",
       "version_major": 2,
       "version_minor": 0
      },
      "text/plain": [
       "Validation: |                                                                                    | 0/? [00:00<…"
      ]
     },
     "metadata": {},
     "output_type": "display_data"
    },
    {
     "data": {
      "application/vnd.jupyter.widget-view+json": {
       "model_id": "",
       "version_major": 2,
       "version_minor": 0
      },
      "text/plain": [
       "Validation: |                                                                                    | 0/? [00:00<…"
      ]
     },
     "metadata": {},
     "output_type": "display_data"
    },
    {
     "data": {
      "application/vnd.jupyter.widget-view+json": {
       "model_id": "",
       "version_major": 2,
       "version_minor": 0
      },
      "text/plain": [
       "Validation: |                                                                                    | 0/? [00:00<…"
      ]
     },
     "metadata": {},
     "output_type": "display_data"
    },
    {
     "data": {
      "application/vnd.jupyter.widget-view+json": {
       "model_id": "",
       "version_major": 2,
       "version_minor": 0
      },
      "text/plain": [
       "Validation: |                                                                                    | 0/? [00:00<…"
      ]
     },
     "metadata": {},
     "output_type": "display_data"
    },
    {
     "data": {
      "application/vnd.jupyter.widget-view+json": {
       "model_id": "",
       "version_major": 2,
       "version_minor": 0
      },
      "text/plain": [
       "Validation: |                                                                                    | 0/? [00:00<…"
      ]
     },
     "metadata": {},
     "output_type": "display_data"
    },
    {
     "data": {
      "application/vnd.jupyter.widget-view+json": {
       "model_id": "",
       "version_major": 2,
       "version_minor": 0
      },
      "text/plain": [
       "Validation: |                                                                                    | 0/? [00:00<…"
      ]
     },
     "metadata": {},
     "output_type": "display_data"
    },
    {
     "data": {
      "application/vnd.jupyter.widget-view+json": {
       "model_id": "",
       "version_major": 2,
       "version_minor": 0
      },
      "text/plain": [
       "Validation: |                                                                                    | 0/? [00:00<…"
      ]
     },
     "metadata": {},
     "output_type": "display_data"
    },
    {
     "data": {
      "application/vnd.jupyter.widget-view+json": {
       "model_id": "",
       "version_major": 2,
       "version_minor": 0
      },
      "text/plain": [
       "Validation: |                                                                                    | 0/? [00:00<…"
      ]
     },
     "metadata": {},
     "output_type": "display_data"
    },
    {
     "data": {
      "application/vnd.jupyter.widget-view+json": {
       "model_id": "",
       "version_major": 2,
       "version_minor": 0
      },
      "text/plain": [
       "Validation: |                                                                                    | 0/? [00:00<…"
      ]
     },
     "metadata": {},
     "output_type": "display_data"
    },
    {
     "data": {
      "application/vnd.jupyter.widget-view+json": {
       "model_id": "",
       "version_major": 2,
       "version_minor": 0
      },
      "text/plain": [
       "Validation: |                                                                                    | 0/? [00:00<…"
      ]
     },
     "metadata": {},
     "output_type": "display_data"
    },
    {
     "data": {
      "application/vnd.jupyter.widget-view+json": {
       "model_id": "ba584c13e67b41cba491b2662770d634",
       "version_major": 2,
       "version_minor": 0
      },
      "text/plain": [
       "Validation: |                                                                                    | 0/? [00:00<…"
      ]
     },
     "metadata": {},
     "output_type": "display_data"
    },
    {
     "data": {
      "application/vnd.jupyter.widget-view+json": {
       "model_id": "e2d6cbe32945441c893314ad86f7130e",
       "version_major": 2,
       "version_minor": 0
      },
      "text/plain": [
       "Validation: |                                                                                    | 0/? [00:00<…"
      ]
     },
     "metadata": {},
     "output_type": "display_data"
    },
    {
     "data": {
      "application/vnd.jupyter.widget-view+json": {
       "model_id": "94b044e0303d4055832db9f7d533def7",
       "version_major": 2,
       "version_minor": 0
      },
      "text/plain": [
       "Validation: |                                                                                    | 0/? [00:00<…"
      ]
     },
     "metadata": {},
     "output_type": "display_data"
    },
    {
     "data": {
      "application/vnd.jupyter.widget-view+json": {
       "model_id": "8f1a26604f8a47ef8a47f04a136c247c",
       "version_major": 2,
       "version_minor": 0
      },
      "text/plain": [
       "Validation: |                                                                                    | 0/? [00:00<…"
      ]
     },
     "metadata": {},
     "output_type": "display_data"
    },
    {
     "data": {
      "application/vnd.jupyter.widget-view+json": {
       "model_id": "b7baf19972664b8d9b12a0aa52b9f769",
       "version_major": 2,
       "version_minor": 0
      },
      "text/plain": [
       "Validation: |                                                                                    | 0/? [00:00<…"
      ]
     },
     "metadata": {},
     "output_type": "display_data"
    },
    {
     "data": {
      "application/vnd.jupyter.widget-view+json": {
       "model_id": "3e9f66006b0f400ea3e732f3c633d937",
       "version_major": 2,
       "version_minor": 0
      },
      "text/plain": [
       "Validation: |                                                                                    | 0/? [00:00<…"
      ]
     },
     "metadata": {},
     "output_type": "display_data"
    },
    {
     "data": {
      "application/vnd.jupyter.widget-view+json": {
       "model_id": "02d14f2671c8461c87a70baa84e214e2",
       "version_major": 2,
       "version_minor": 0
      },
      "text/plain": [
       "Validation: |                                                                                    | 0/? [00:00<…"
      ]
     },
     "metadata": {},
     "output_type": "display_data"
    },
    {
     "data": {
      "application/vnd.jupyter.widget-view+json": {
       "model_id": "10a69f48b4f844c1ba4e50d42695dcf7",
       "version_major": 2,
       "version_minor": 0
      },
      "text/plain": [
       "Validation: |                                                                                    | 0/? [00:00<…"
      ]
     },
     "metadata": {},
     "output_type": "display_data"
    },
    {
     "data": {
      "application/vnd.jupyter.widget-view+json": {
       "model_id": "847c9175f89e46ef87baba8a8fc5bc8f",
       "version_major": 2,
       "version_minor": 0
      },
      "text/plain": [
       "Validation: |                                                                                    | 0/? [00:00<…"
      ]
     },
     "metadata": {},
     "output_type": "display_data"
    },
    {
     "data": {
      "application/vnd.jupyter.widget-view+json": {
       "model_id": "36d44690510f4851b5521fa7040e0527",
       "version_major": 2,
       "version_minor": 0
      },
      "text/plain": [
       "Validation: |                                                                                    | 0/? [00:00<…"
      ]
     },
     "metadata": {},
     "output_type": "display_data"
    },
    {
     "data": {
      "application/vnd.jupyter.widget-view+json": {
       "model_id": "7201051dc3204b9191f24470a9111be6",
       "version_major": 2,
       "version_minor": 0
      },
      "text/plain": [
       "Validation: |                                                                                    | 0/? [00:00<…"
      ]
     },
     "metadata": {},
     "output_type": "display_data"
    },
    {
     "data": {
      "application/vnd.jupyter.widget-view+json": {
       "model_id": "db0316552a9e4398a446ca986f876de1",
       "version_major": 2,
       "version_minor": 0
      },
      "text/plain": [
       "Validation: |                                                                                    | 0/? [00:00<…"
      ]
     },
     "metadata": {},
     "output_type": "display_data"
    },
    {
     "data": {
      "application/vnd.jupyter.widget-view+json": {
       "model_id": "54bc0add0d66429aa5ea40c81dd0e260",
       "version_major": 2,
       "version_minor": 0
      },
      "text/plain": [
       "Validation: |                                                                                    | 0/? [00:00<…"
      ]
     },
     "metadata": {},
     "output_type": "display_data"
    },
    {
     "data": {
      "application/vnd.jupyter.widget-view+json": {
       "model_id": "eba5d46a338c44f5bbfe7afa2ada01bc",
       "version_major": 2,
       "version_minor": 0
      },
      "text/plain": [
       "Validation: |                                                                                    | 0/? [00:00<…"
      ]
     },
     "metadata": {},
     "output_type": "display_data"
    },
    {
     "data": {
      "application/vnd.jupyter.widget-view+json": {
       "model_id": "288525502e8e49298e7a9c4bb923cdb5",
       "version_major": 2,
       "version_minor": 0
      },
      "text/plain": [
       "Validation: |                                                                                    | 0/? [00:00<…"
      ]
     },
     "metadata": {},
     "output_type": "display_data"
    },
    {
     "data": {
      "application/vnd.jupyter.widget-view+json": {
       "model_id": "17e6f3fc39d24cc69111e801abe6ae61",
       "version_major": 2,
       "version_minor": 0
      },
      "text/plain": [
       "Validation: |                                                                                    | 0/? [00:00<…"
      ]
     },
     "metadata": {},
     "output_type": "display_data"
    },
    {
     "data": {
      "application/vnd.jupyter.widget-view+json": {
       "model_id": "d175a3800dd14e2da4340ac80e7994fb",
       "version_major": 2,
       "version_minor": 0
      },
      "text/plain": [
       "Validation: |                                                                                    | 0/? [00:00<…"
      ]
     },
     "metadata": {},
     "output_type": "display_data"
    },
    {
     "data": {
      "application/vnd.jupyter.widget-view+json": {
       "model_id": "e0ae9978c92242469b1e846150415209",
       "version_major": 2,
       "version_minor": 0
      },
      "text/plain": [
       "Validation: |                                                                                    | 0/? [00:00<…"
      ]
     },
     "metadata": {},
     "output_type": "display_data"
    },
    {
     "data": {
      "application/vnd.jupyter.widget-view+json": {
       "model_id": "b266f265951c43e1a33e486409728b41",
       "version_major": 2,
       "version_minor": 0
      },
      "text/plain": [
       "Validation: |                                                                                    | 0/? [00:00<…"
      ]
     },
     "metadata": {},
     "output_type": "display_data"
    },
    {
     "data": {
      "application/vnd.jupyter.widget-view+json": {
       "model_id": "0970f69e9cf7486e809896c536b7c8ac",
       "version_major": 2,
       "version_minor": 0
      },
      "text/plain": [
       "Validation: |                                                                                    | 0/? [00:00<…"
      ]
     },
     "metadata": {},
     "output_type": "display_data"
    },
    {
     "data": {
      "application/vnd.jupyter.widget-view+json": {
       "model_id": "d3acdd52a84f42aba874a5870d6e8324",
       "version_major": 2,
       "version_minor": 0
      },
      "text/plain": [
       "Validation: |                                                                                    | 0/? [00:00<…"
      ]
     },
     "metadata": {},
     "output_type": "display_data"
    },
    {
     "data": {
      "application/vnd.jupyter.widget-view+json": {
       "model_id": "7944441cef914effaf73bb694dea41b5",
       "version_major": 2,
       "version_minor": 0
      },
      "text/plain": [
       "Validation: |                                                                                    | 0/? [00:00<…"
      ]
     },
     "metadata": {},
     "output_type": "display_data"
    },
    {
     "data": {
      "application/vnd.jupyter.widget-view+json": {
       "model_id": "8526596644964aa0a672bdbd1a73779f",
       "version_major": 2,
       "version_minor": 0
      },
      "text/plain": [
       "Validation: |                                                                                    | 0/? [00:00<…"
      ]
     },
     "metadata": {},
     "output_type": "display_data"
    },
    {
     "data": {
      "application/vnd.jupyter.widget-view+json": {
       "model_id": "a4f07afd98964cab89ff97f182a0eaf9",
       "version_major": 2,
       "version_minor": 0
      },
      "text/plain": [
       "Validation: |                                                                                    | 0/? [00:00<…"
      ]
     },
     "metadata": {},
     "output_type": "display_data"
    },
    {
     "data": {
      "application/vnd.jupyter.widget-view+json": {
       "model_id": "f303d77016ae42139502fb9788063bb3",
       "version_major": 2,
       "version_minor": 0
      },
      "text/plain": [
       "Validation: |                                                                                    | 0/? [00:00<…"
      ]
     },
     "metadata": {},
     "output_type": "display_data"
    },
    {
     "data": {
      "application/vnd.jupyter.widget-view+json": {
       "model_id": "c3d5a0afa8924e4ea28d5fea74e948d6",
       "version_major": 2,
       "version_minor": 0
      },
      "text/plain": [
       "Validation: |                                                                                    | 0/? [00:00<…"
      ]
     },
     "metadata": {},
     "output_type": "display_data"
    },
    {
     "data": {
      "application/vnd.jupyter.widget-view+json": {
       "model_id": "3e866d7729ca481f9f419f09bdc6a7cb",
       "version_major": 2,
       "version_minor": 0
      },
      "text/plain": [
       "Validation: |                                                                                    | 0/? [00:00<…"
      ]
     },
     "metadata": {},
     "output_type": "display_data"
    },
    {
     "data": {
      "application/vnd.jupyter.widget-view+json": {
       "model_id": "01800ed9d8844954b6f00ba6305b5aeb",
       "version_major": 2,
       "version_minor": 0
      },
      "text/plain": [
       "Validation: |                                                                                    | 0/? [00:00<…"
      ]
     },
     "metadata": {},
     "output_type": "display_data"
    },
    {
     "data": {
      "application/vnd.jupyter.widget-view+json": {
       "model_id": "232e95c84f1245659082d15ee971e368",
       "version_major": 2,
       "version_minor": 0
      },
      "text/plain": [
       "Validation: |                                                                                    | 0/? [00:00<…"
      ]
     },
     "metadata": {},
     "output_type": "display_data"
    },
    {
     "data": {
      "application/vnd.jupyter.widget-view+json": {
       "model_id": "78879730855a4749bd0ff9958f52fe22",
       "version_major": 2,
       "version_minor": 0
      },
      "text/plain": [
       "Validation: |                                                                                    | 0/? [00:00<…"
      ]
     },
     "metadata": {},
     "output_type": "display_data"
    },
    {
     "data": {
      "application/vnd.jupyter.widget-view+json": {
       "model_id": "3b694cde3a404a1d87352b32253c1aec",
       "version_major": 2,
       "version_minor": 0
      },
      "text/plain": [
       "Validation: |                                                                                    | 0/? [00:00<…"
      ]
     },
     "metadata": {},
     "output_type": "display_data"
    },
    {
     "data": {
      "application/vnd.jupyter.widget-view+json": {
       "model_id": "c60ce5871fe441a88d29ba9d6154782c",
       "version_major": 2,
       "version_minor": 0
      },
      "text/plain": [
       "Validation: |                                                                                    | 0/? [00:00<…"
      ]
     },
     "metadata": {},
     "output_type": "display_data"
    },
    {
     "data": {
      "application/vnd.jupyter.widget-view+json": {
       "model_id": "553dac610f4b4ac692ab144eebde4266",
       "version_major": 2,
       "version_minor": 0
      },
      "text/plain": [
       "Validation: |                                                                                    | 0/? [00:00<…"
      ]
     },
     "metadata": {},
     "output_type": "display_data"
    },
    {
     "data": {
      "application/vnd.jupyter.widget-view+json": {
       "model_id": "895b196f4f41476db7d83a38af6c151b",
       "version_major": 2,
       "version_minor": 0
      },
      "text/plain": [
       "Validation: |                                                                                    | 0/? [00:00<…"
      ]
     },
     "metadata": {},
     "output_type": "display_data"
    },
    {
     "data": {
      "application/vnd.jupyter.widget-view+json": {
       "model_id": "ed51e50569774cf99fb4078c58c8ebe0",
       "version_major": 2,
       "version_minor": 0
      },
      "text/plain": [
       "Validation: |                                                                                    | 0/? [00:00<…"
      ]
     },
     "metadata": {},
     "output_type": "display_data"
    },
    {
     "data": {
      "application/vnd.jupyter.widget-view+json": {
       "model_id": "b3870d7c5b2749388aa53727115c928a",
       "version_major": 2,
       "version_minor": 0
      },
      "text/plain": [
       "Validation: |                                                                                    | 0/? [00:00<…"
      ]
     },
     "metadata": {},
     "output_type": "display_data"
    },
    {
     "data": {
      "application/vnd.jupyter.widget-view+json": {
       "model_id": "0c9ad904a3a5410e99cc99bccbb3e03b",
       "version_major": 2,
       "version_minor": 0
      },
      "text/plain": [
       "Validation: |                                                                                    | 0/? [00:00<…"
      ]
     },
     "metadata": {},
     "output_type": "display_data"
    },
    {
     "data": {
      "application/vnd.jupyter.widget-view+json": {
       "model_id": "4aa4d7b9c5d248baab9f7027657e8fdc",
       "version_major": 2,
       "version_minor": 0
      },
      "text/plain": [
       "Validation: |                                                                                    | 0/? [00:00<…"
      ]
     },
     "metadata": {},
     "output_type": "display_data"
    },
    {
     "data": {
      "application/vnd.jupyter.widget-view+json": {
       "model_id": "fafb86e0fb8b44aea8d3fe97d56f4643",
       "version_major": 2,
       "version_minor": 0
      },
      "text/plain": [
       "Validation: |                                                                                    | 0/? [00:00<…"
      ]
     },
     "metadata": {},
     "output_type": "display_data"
    },
    {
     "data": {
      "application/vnd.jupyter.widget-view+json": {
       "model_id": "fd3a52026169403a802d9e86d431411c",
       "version_major": 2,
       "version_minor": 0
      },
      "text/plain": [
       "Validation: |                                                                                    | 0/? [00:00<…"
      ]
     },
     "metadata": {},
     "output_type": "display_data"
    },
    {
     "data": {
      "application/vnd.jupyter.widget-view+json": {
       "model_id": "fdce173998cb4f06ab6a2018211c83d0",
       "version_major": 2,
       "version_minor": 0
      },
      "text/plain": [
       "Validation: |                                                                                    | 0/? [00:00<…"
      ]
     },
     "metadata": {},
     "output_type": "display_data"
    },
    {
     "data": {
      "application/vnd.jupyter.widget-view+json": {
       "model_id": "f250b12ac41f4f80bb0317696ad2b1d2",
       "version_major": 2,
       "version_minor": 0
      },
      "text/plain": [
       "Validation: |                                                                                    | 0/? [00:00<…"
      ]
     },
     "metadata": {},
     "output_type": "display_data"
    },
    {
     "data": {
      "application/vnd.jupyter.widget-view+json": {
       "model_id": "d4aee27461cc42bdb03a5ca62f064bad",
       "version_major": 2,
       "version_minor": 0
      },
      "text/plain": [
       "Validation: |                                                                                    | 0/? [00:00<…"
      ]
     },
     "metadata": {},
     "output_type": "display_data"
    },
    {
     "data": {
      "application/vnd.jupyter.widget-view+json": {
       "model_id": "88eae7dcd1c24695b6715af00c89a155",
       "version_major": 2,
       "version_minor": 0
      },
      "text/plain": [
       "Validation: |                                                                                    | 0/? [00:00<…"
      ]
     },
     "metadata": {},
     "output_type": "display_data"
    },
    {
     "data": {
      "application/vnd.jupyter.widget-view+json": {
       "model_id": "d336faa72f43430babe44aa8edc7a1a7",
       "version_major": 2,
       "version_minor": 0
      },
      "text/plain": [
       "Validation: |                                                                                    | 0/? [00:00<…"
      ]
     },
     "metadata": {},
     "output_type": "display_data"
    },
    {
     "data": {
      "application/vnd.jupyter.widget-view+json": {
       "model_id": "3d89414b5d5c4ad89c56e1f1d9040dce",
       "version_major": 2,
       "version_minor": 0
      },
      "text/plain": [
       "Validation: |                                                                                    | 0/? [00:00<…"
      ]
     },
     "metadata": {},
     "output_type": "display_data"
    },
    {
     "data": {
      "application/vnd.jupyter.widget-view+json": {
       "model_id": "a552594f22494cc49ed8daa9b55a9f14",
       "version_major": 2,
       "version_minor": 0
      },
      "text/plain": [
       "Validation: |                                                                                    | 0/? [00:00<…"
      ]
     },
     "metadata": {},
     "output_type": "display_data"
    },
    {
     "data": {
      "application/vnd.jupyter.widget-view+json": {
       "model_id": "459f49855e7145f7beaf1de31f8afbbf",
       "version_major": 2,
       "version_minor": 0
      },
      "text/plain": [
       "Validation: |                                                                                    | 0/? [00:00<…"
      ]
     },
     "metadata": {},
     "output_type": "display_data"
    },
    {
     "data": {
      "application/vnd.jupyter.widget-view+json": {
       "model_id": "c3c7cc88611348c7a01d0f7084e7865b",
       "version_major": 2,
       "version_minor": 0
      },
      "text/plain": [
       "Validation: |                                                                                    | 0/? [00:00<…"
      ]
     },
     "metadata": {},
     "output_type": "display_data"
    },
    {
     "data": {
      "application/vnd.jupyter.widget-view+json": {
       "model_id": "0bcb92c1a964444ab21acaa522856eb8",
       "version_major": 2,
       "version_minor": 0
      },
      "text/plain": [
       "Validation: |                                                                                    | 0/? [00:00<…"
      ]
     },
     "metadata": {},
     "output_type": "display_data"
    },
    {
     "data": {
      "application/vnd.jupyter.widget-view+json": {
       "model_id": "51661b939ca2452b85008e1f60234926",
       "version_major": 2,
       "version_minor": 0
      },
      "text/plain": [
       "Validation: |                                                                                    | 0/? [00:00<…"
      ]
     },
     "metadata": {},
     "output_type": "display_data"
    },
    {
     "data": {
      "application/vnd.jupyter.widget-view+json": {
       "model_id": "d1ca58ad903a41bf829fbf9b17334193",
       "version_major": 2,
       "version_minor": 0
      },
      "text/plain": [
       "Validation: |                                                                                    | 0/? [00:00<…"
      ]
     },
     "metadata": {},
     "output_type": "display_data"
    },
    {
     "data": {
      "application/vnd.jupyter.widget-view+json": {
       "model_id": "c6c1ed56d96a4f5097fcdcaa431374f7",
       "version_major": 2,
       "version_minor": 0
      },
      "text/plain": [
       "Validation: |                                                                                    | 0/? [00:00<…"
      ]
     },
     "metadata": {},
     "output_type": "display_data"
    },
    {
     "data": {
      "application/vnd.jupyter.widget-view+json": {
       "model_id": "be0b9fa0f71b4f1398d459b6e659ebf4",
       "version_major": 2,
       "version_minor": 0
      },
      "text/plain": [
       "Validation: |                                                                                    | 0/? [00:00<…"
      ]
     },
     "metadata": {},
     "output_type": "display_data"
    },
    {
     "data": {
      "application/vnd.jupyter.widget-view+json": {
       "model_id": "8746a2295a68478f8a88cf103fce6f77",
       "version_major": 2,
       "version_minor": 0
      },
      "text/plain": [
       "Validation: |                                                                                    | 0/? [00:00<…"
      ]
     },
     "metadata": {},
     "output_type": "display_data"
    },
    {
     "data": {
      "application/vnd.jupyter.widget-view+json": {
       "model_id": "8c13972e22304e73a9a90e0580bfe4d3",
       "version_major": 2,
       "version_minor": 0
      },
      "text/plain": [
       "Validation: |                                                                                    | 0/? [00:00<…"
      ]
     },
     "metadata": {},
     "output_type": "display_data"
    },
    {
     "data": {
      "application/vnd.jupyter.widget-view+json": {
       "model_id": "6fadd2d0d82445cbb81f8dec85ebba00",
       "version_major": 2,
       "version_minor": 0
      },
      "text/plain": [
       "Validation: |                                                                                    | 0/? [00:00<…"
      ]
     },
     "metadata": {},
     "output_type": "display_data"
    },
    {
     "data": {
      "application/vnd.jupyter.widget-view+json": {
       "model_id": "b08a3bb8e8b941b98519a19ffa61f2d8",
       "version_major": 2,
       "version_minor": 0
      },
      "text/plain": [
       "Validation: |                                                                                    | 0/? [00:00<…"
      ]
     },
     "metadata": {},
     "output_type": "display_data"
    },
    {
     "data": {
      "application/vnd.jupyter.widget-view+json": {
       "model_id": "4b8c00d6320a4243950cdc22c5bffd88",
       "version_major": 2,
       "version_minor": 0
      },
      "text/plain": [
       "Validation: |                                                                                    | 0/? [00:00<…"
      ]
     },
     "metadata": {},
     "output_type": "display_data"
    },
    {
     "data": {
      "application/vnd.jupyter.widget-view+json": {
       "model_id": "333ed628c61c4718926772c6e4e310c0",
       "version_major": 2,
       "version_minor": 0
      },
      "text/plain": [
       "Validation: |                                                                                    | 0/? [00:00<…"
      ]
     },
     "metadata": {},
     "output_type": "display_data"
    },
    {
     "data": {
      "application/vnd.jupyter.widget-view+json": {
       "model_id": "b3f32cd1adce441584f146f64e22e5aa",
       "version_major": 2,
       "version_minor": 0
      },
      "text/plain": [
       "Validation: |                                                                                    | 0/? [00:00<…"
      ]
     },
     "metadata": {},
     "output_type": "display_data"
    },
    {
     "data": {
      "application/vnd.jupyter.widget-view+json": {
       "model_id": "662f1c00f22e4612980e261d2dd525cc",
       "version_major": 2,
       "version_minor": 0
      },
      "text/plain": [
       "Validation: |                                                                                    | 0/? [00:00<…"
      ]
     },
     "metadata": {},
     "output_type": "display_data"
    },
    {
     "data": {
      "application/vnd.jupyter.widget-view+json": {
       "model_id": "5e319aeeefed4bdeaccd89fd99ac75a8",
       "version_major": 2,
       "version_minor": 0
      },
      "text/plain": [
       "Validation: |                                                                                    | 0/? [00:00<…"
      ]
     },
     "metadata": {},
     "output_type": "display_data"
    },
    {
     "data": {
      "application/vnd.jupyter.widget-view+json": {
       "model_id": "aee1811a66b74dfd8f908169554a4492",
       "version_major": 2,
       "version_minor": 0
      },
      "text/plain": [
       "Validation: |                                                                                    | 0/? [00:00<…"
      ]
     },
     "metadata": {},
     "output_type": "display_data"
    },
    {
     "data": {
      "application/vnd.jupyter.widget-view+json": {
       "model_id": "a2224e6a7f40481182a6534d604144c4",
       "version_major": 2,
       "version_minor": 0
      },
      "text/plain": [
       "Validation: |                                                                                    | 0/? [00:00<…"
      ]
     },
     "metadata": {},
     "output_type": "display_data"
    },
    {
     "data": {
      "application/vnd.jupyter.widget-view+json": {
       "model_id": "c2cf0dc083f1435f9467e28b0ed709e7",
       "version_major": 2,
       "version_minor": 0
      },
      "text/plain": [
       "Validation: |                                                                                    | 0/? [00:00<…"
      ]
     },
     "metadata": {},
     "output_type": "display_data"
    },
    {
     "data": {
      "application/vnd.jupyter.widget-view+json": {
       "model_id": "53217f78b93943268ecab988606c61e7",
       "version_major": 2,
       "version_minor": 0
      },
      "text/plain": [
       "Validation: |                                                                                    | 0/? [00:00<…"
      ]
     },
     "metadata": {},
     "output_type": "display_data"
    },
    {
     "data": {
      "application/vnd.jupyter.widget-view+json": {
       "model_id": "a8bd8aabb0744ac898d7823ace1a2dd0",
       "version_major": 2,
       "version_minor": 0
      },
      "text/plain": [
       "Validation: |                                                                                    | 0/? [00:00<…"
      ]
     },
     "metadata": {},
     "output_type": "display_data"
    },
    {
     "data": {
      "application/vnd.jupyter.widget-view+json": {
       "model_id": "7a7a21d92ebc43b485d6e69dd665debb",
       "version_major": 2,
       "version_minor": 0
      },
      "text/plain": [
       "Validation: |                                                                                    | 0/? [00:00<…"
      ]
     },
     "metadata": {},
     "output_type": "display_data"
    },
    {
     "data": {
      "application/vnd.jupyter.widget-view+json": {
       "model_id": "3a62c4f2cb9c4de9a255770cdd05c50e",
       "version_major": 2,
       "version_minor": 0
      },
      "text/plain": [
       "Validation: |                                                                                    | 0/? [00:00<…"
      ]
     },
     "metadata": {},
     "output_type": "display_data"
    },
    {
     "data": {
      "application/vnd.jupyter.widget-view+json": {
       "model_id": "7513f93d85dd41a9a9dd91b55b90fb34",
       "version_major": 2,
       "version_minor": 0
      },
      "text/plain": [
       "Validation: |                                                                                    | 0/? [00:00<…"
      ]
     },
     "metadata": {},
     "output_type": "display_data"
    },
    {
     "data": {
      "application/vnd.jupyter.widget-view+json": {
       "model_id": "b767d19f6f2d40daaa599b938dc8bd57",
       "version_major": 2,
       "version_minor": 0
      },
      "text/plain": [
       "Validation: |                                                                                    | 0/? [00:00<…"
      ]
     },
     "metadata": {},
     "output_type": "display_data"
    },
    {
     "data": {
      "application/vnd.jupyter.widget-view+json": {
       "model_id": "7ec574fde74d4021b449d1a3d3b28f78",
       "version_major": 2,
       "version_minor": 0
      },
      "text/plain": [
       "Validation: |                                                                                    | 0/? [00:00<…"
      ]
     },
     "metadata": {},
     "output_type": "display_data"
    },
    {
     "data": {
      "application/vnd.jupyter.widget-view+json": {
       "model_id": "2521906496574ddfbfef12069568bb51",
       "version_major": 2,
       "version_minor": 0
      },
      "text/plain": [
       "Validation: |                                                                                    | 0/? [00:00<…"
      ]
     },
     "metadata": {},
     "output_type": "display_data"
    },
    {
     "data": {
      "application/vnd.jupyter.widget-view+json": {
       "model_id": "6edbfec9a510484d8679a30bf4001c09",
       "version_major": 2,
       "version_minor": 0
      },
      "text/plain": [
       "Validation: |                                                                                    | 0/? [00:00<…"
      ]
     },
     "metadata": {},
     "output_type": "display_data"
    },
    {
     "data": {
      "application/vnd.jupyter.widget-view+json": {
       "model_id": "dd56f0a78e364e90be2f1dadc61ce822",
       "version_major": 2,
       "version_minor": 0
      },
      "text/plain": [
       "Validation: |                                                                                    | 0/? [00:00<…"
      ]
     },
     "metadata": {},
     "output_type": "display_data"
    },
    {
     "data": {
      "application/vnd.jupyter.widget-view+json": {
       "model_id": "d5a60466389a49ca850a20327138a85d",
       "version_major": 2,
       "version_minor": 0
      },
      "text/plain": [
       "Validation: |                                                                                    | 0/? [00:00<…"
      ]
     },
     "metadata": {},
     "output_type": "display_data"
    },
    {
     "data": {
      "application/vnd.jupyter.widget-view+json": {
       "model_id": "f8f51fa21acd4109a57fb70d3fb8ec9e",
       "version_major": 2,
       "version_minor": 0
      },
      "text/plain": [
       "Validation: |                                                                                    | 0/? [00:00<…"
      ]
     },
     "metadata": {},
     "output_type": "display_data"
    },
    {
     "data": {
      "application/vnd.jupyter.widget-view+json": {
       "model_id": "4a328c1ef5484245a6e817fc04eb76bb",
       "version_major": 2,
       "version_minor": 0
      },
      "text/plain": [
       "Validation: |                                                                                    | 0/? [00:00<…"
      ]
     },
     "metadata": {},
     "output_type": "display_data"
    }
   ],
   "source": [
    "#Criando dataset\n",
    "dm = DataModule(X_treino, y_treino, X_val, y_val, X_teste, y_teste)\n",
    "\n",
    "\n",
    "#Importando estudo\n",
    "\n",
    "study = optuna.create_study(direction='minimize',\n",
    "                            storage=\"sqlite:///db.sqlite3\",  # Specify the storage URL here.\n",
    "                            study_name=\"Sol_study\",load_if_exists=True\n",
    "    )\n",
    "\n",
    "best_params = study.best_params\n",
    "best_loss = study.best_value\n",
    "\n",
    "# Testando a rede com os melhores hiperparâmetros encontrados\n",
    "\n",
    "camadas = [best_params[f\"neuronios_c{i}\"] for i in range(3)]\n",
    "lr = best_params[\"learning_rate\"]\n",
    "\n",
    "#Treinando o teste\n",
    "\n",
    "treinador = L.Trainer(max_epochs=200,callbacks=[EarlyStopping(monitor=\"val_loss\", mode=\"min\")])\n",
    "minha_MLP = MLP(7, camadas, 1, lr)\n",
    "\n",
    "treinador.fit(minha_MLP, dm)"
   ]
  },
  {
   "cell_type": "markdown",
   "id": "b5490174-4928-4f12-abd1-19176b633043",
   "metadata": {},
   "source": [
    "Por fim, podemos plotar as curvas de aprendizado e treino. O que esperávamos é que há diminuição das curvas, em específico a de validação, pois, que com a otimização dos hiperparâmetros, diminuísse as perdas. Podemos ver as curvas a seguir:"
   ]
  },
  {
   "cell_type": "code",
   "execution_count": 19,
   "id": "953749c4-6fae-4194-9ca1-db939e696e1b",
   "metadata": {},
   "outputs": [
    {
     "data": {
      "image/png": "[encoded data removed]",
      "text/plain": [
       "<Figure size 640x480 with 1 Axes>"
      ]
     },
     "metadata": {},
     "output_type": "display_data"
    }
   ],
   "source": [
    "# Plotando curva de aprendizado\n",
    "\n",
    "figura, eixo = plt.subplots()\n",
    "\n",
    "ca_treino = minha_MLP.curva_aprendizado_treino\n",
    "ca_val = minha_MLP.curva_aprendizado_val\n",
    "\n",
    "eixo.plot(ca_treino, label=\"Treino\")\n",
    "eixo.plot(ca_val, label=\"Validação\")\n",
    "\n",
    "eixo.legend()\n",
    "\n",
    "eixo.set_xlim(left=0)\n",
    "\n",
    "eixo.set_title(\"Curva de aprendizado\")\n",
    "eixo.set_xlabel(\"Época\")\n",
    "eixo.set_ylabel(\"Loss\");"
   ]
  },
  {
   "cell_type": "markdown",
   "id": "2630f0c7-7487-4df5-a2bb-1fef7b4e23c8",
   "metadata": {},
   "source": [
    "Usando a nova rede com esses hiperparâmetros, calculamos as métricas **RMSE** e o **R<sup>2</sup>** (coeficiente de determinação), como mostrado a seguir:"
   ]
  },
  {
   "cell_type": "code",
   "execution_count": 20,
   "id": "f385e24d-ed4a-4221-a568-15d3f2dde93b",
   "metadata": {},
   "outputs": [
    {
     "name": "stdout",
     "output_type": "stream",
     "text": [
      "RMSE: 0.7997893485513845\n",
      "R2: 0.8660095866699589\n"
     ]
    }
   ],
   "source": [
    "# Avaliando a nova rede\n",
    "\n",
    "minha_MLP.eval()\n",
    "\n",
    "with torch.no_grad():\n",
    "    X_true = X_teste\n",
    "\n",
    "    y_true = y_teste\n",
    "    y_true = y_scaler.inverse_transform(y_true)\n",
    "\n",
    "    y_pred = minha_MLP(X_true)\n",
    "    y_pred = y_scaler.inverse_transform(y_pred)\n",
    "\n",
    "    RMSE = mean_squared_error(y_true, y_pred, squared=False)\n",
    "    R2 = r2_score(y_true, y_pred)\n",
    "    \n",
    "    print(\"RMSE:\", RMSE)\n",
    "    print(\"R2:\", R2)"
   ]
  },
  {
   "cell_type": "markdown",
   "id": "02cdaebf-8d27-487c-8383-67ed26f42d57",
   "metadata": {},
   "source": [
    "Por fim, podemos perceber a dispersão com o plot a seguir:"
   ]
  },
  {
   "cell_type": "code",
   "execution_count": 21,
   "id": "a934b46d-d6f5-4e0d-a9c6-fe2772225466",
   "metadata": {},
   "outputs": [
    {
     "data": {
      "image/png": "[encoded data removed]",
      "text/plain": [
       "<Figure size 640x480 with 1 Axes>"
      ]
     },
     "metadata": {},
     "output_type": "display_data"
    }
   ],
   "source": [
    "# Plotando curva de Previsto x Verdadeiro \n",
    "\n",
    "plt.plot(y_pred, y_true,\"*\")\n",
    "\n",
    "min_valor = min([y_true.min(),y_pred.min()])\n",
    "max_valor = max([y_true.max(),y_pred.max()])\n",
    "\n",
    "\n",
    "plt.xlim(min_valor,max_valor)\n",
    "plt.ylim(min_valor,max_valor)\n",
    "plt.plot([min_valor,max_valor],[min_valor,max_valor],\"--\",color=\"pink\")\n",
    "plt.xlabel(\"Previsto\")\n",
    "plt.ylabel(\"Medido\")\n",
    "plt.show()"
   ]
  },
  {
   "cell_type": "markdown",
   "id": "a7b2d395-9ff9-42e2-b57d-f66eee64df42",
   "metadata": {},
   "source": [
    "Neste gráfico, os valores medidos e previstos de logS são dados na unidade de mol/L."
   ]
  },
  {
   "cell_type": "markdown",
   "id": "24a9ebf5-8565-4a99-a9fe-e80afd097ec9",
   "metadata": {
    "tags": []
   },
   "source": [
    "## Conclusão"
   ]
  },
  {
   "cell_type": "markdown",
   "id": "a84d876e-b790-432d-90f9-01d9e9025010",
   "metadata": {},
   "source": [
    "Conseguimos criar um modelo que consegue prever com um erro relativamente baixo a solubilidade das moléculas. A função de perda melhorou muito com a implementação do Optuna, o que pode ser observado analiticamente ou visualmente pelo plot que aproxima melhor os dados da função identidade. Assim, é interesante observar que as redes neurais conseguem modelar uma regressão do $LogS$ sem o que seria o parâmetro de maior significância, o $cLogP$. "
   ]
  },
  {
   "cell_type": "markdown",
   "id": "538748e4-1a25-4300-992a-c9bae84378be",
   "metadata": {},
   "source": [
    "Obrigada por ler até aqui! Você ganhou uma dopamininha!"
   ]
  },
  {
   "cell_type": "code",
   "execution_count": 24,
   "id": "c70e43de-ae37-4a7d-a560-04f03ac48ac3",
   "metadata": {},
   "outputs": [
    {
     "data": {
      "image/png": "[encoded data removed]",
      "text/plain": [
       "<PIL.PngImagePlugin.PngImageFile image mode=RGB size=300x300>"
      ]
     },
     "execution_count": 24,
     "metadata": {},
     "output_type": "execute_result"
    }
   ],
   "source": [
    "from rdkit.Chem import Draw\n",
    "dopamininha_smiles = 'C1=CC(=C(C=C1CCN)O)O'\n",
    "dopamininha = Chem.MolFromSmiles(dopamininha_smiles)\n",
    "Draw.MolToImage(dopamininha)"
   ]
  },
  {
   "cell_type": "markdown",
   "id": "d060b59d-9e03-4d95-a918-14867b939df8",
   "metadata": {
    "tags": []
   },
   "source": [
    "## Referências"
   ]
  },
  {
   "cell_type": "markdown",
   "id": "e2859ade-870d-469f-ac43-596275739aa4",
   "metadata": {},
   "source": [
    "- [1] https://deepchem.readthedocs.io/en/latest/api_reference/moleculenet.html\n",
    "- [3] https://arxiv.org/abs/1703.00564\n",
    "- [3] https://pubs.acs.org/doi/10.1021/ci034243x\n",
    "- [4] https://lightning.ai/docs/pytorch/stable/\n",
    "- [5] https://en.wikipedia.org/wiki/Rectifier_(neural_networks)\n",
    "- [6] https://www.youtube.com/watch?v=nt5DwCuYY5c&t=288s\n",
    "- [7] https://www.youtube.com/watch?v=p3CcfIjycBA&t=762s\n",
    "- [8] https://optuna.org/\n",
    "- [9] https://www.frontiersin.org/journals/pharmacology/articles/10.3389/fphar.2023.1255181/full\n",
    "- [10] https://github.com/dataprofessor/code/blob/master/python/cheminformatics_predicting_solubility.ipynb\n",
    "- Material didático do curso de Redes Neurais e Algoritimos Genéticos disponibilizado para os discentes em 2024, Professor Daniel Cassar, Ilum - Escola de Ciência."
   ]
  }
 ],
 "metadata": {
  "kernelspec": {
   "display_name": "ilumpy",
   "language": "python",
   "name": "ilumpy"
  },
  "language_info": {
   "codemirror_mode": {
    "name": "ipython",
    "version": 3
   },
   "file_extension": ".py",
   "mimetype": "text/x-python",
   "name": "python",
   "nbconvert_exporter": "python",
   "pygments_lexer": "ipython3",
   "version": "3.10.8"
  }
 },
 "nbformat": 4,
 "nbformat_minor": 5
}
